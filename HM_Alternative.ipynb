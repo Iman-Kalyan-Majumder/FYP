{
  "nbformat": 4,
  "nbformat_minor": 0,
  "metadata": {
    "colab": {
      "provenance": [],
      "authorship_tag": "ABX9TyOB97hZPV4H0cnOSYA43qp7",
      "include_colab_link": true
    },
    "kernelspec": {
      "name": "python3",
      "display_name": "Python 3"
    },
    "language_info": {
      "name": "python"
    }
  },
  "cells": [
    {
      "cell_type": "markdown",
      "metadata": {
        "id": "view-in-github",
        "colab_type": "text"
      },
      "source": [
        "<a href=\"https://colab.research.google.com/github/Iman-Kalyan-Majumder/FYP/blob/main/HM_Alternative.ipynb\" target=\"_parent\"><img src=\"https://colab.research.google.com/assets/colab-badge.svg\" alt=\"Open In Colab\"/></a>"
      ]
    },
    {
      "cell_type": "code",
      "execution_count": 35,
      "metadata": {
        "id": "9t5ew3EXLVUz"
      },
      "outputs": [],
      "source": [
        "import pandas as pd\n",
        "import numpy as np\n",
        "import tensorflow as tf\n",
        "import matplotlib.pyplot as plt\n",
        "from sklearn.model_selection import train_test_split\n",
        "from sklearn.ensemble import RandomForestClassifier\n",
        "from sklearn.metrics import accuracy_score\n",
        "from imblearn.over_sampling import RandomOverSampler\n",
        "from sklearn.preprocessing import StandardScaler\n",
        "from sklearn.metrics import classification_report"
      ]
    },
    {
      "cell_type": "code",
      "source": [
        "data = pd.read_csv('BridgeMetrics.csv').drop('Unnamed: 0', axis=1)\n",
        "data.head()"
      ],
      "metadata": {
        "colab": {
          "base_uri": "https://localhost:8080/",
          "height": 206
        },
        "id": "nhjrHFsJMa7_",
        "outputId": "bc5f3a82-1f7b-4ebd-930b-d6651de568d5"
      },
      "execution_count": 27,
      "outputs": [
        {
          "output_type": "execute_result",
          "data": {
            "text/plain": [
              "     Max    Min      Mean  Median       Std  PeakToPeak   Mode  Healthy\n",
              "0  0.168 -0.192 -0.016880  -0.024  0.063430       0.360 -0.040        0\n",
              "1  0.168 -0.192 -0.016880  -0.024  0.063430       0.360 -0.040        0\n",
              "2  0.144 -0.176  0.001216   0.008  0.061272       0.320  0.032        1\n",
              "3  0.128 -0.208 -0.019584  -0.016  0.063845       0.336 -0.024        1\n",
              "4  0.128 -0.176 -0.015600  -0.016  0.061276       0.304 -0.024        1"
            ],
            "text/html": [
              "\n",
              "  <div id=\"df-773f49fa-6ed3-4569-ab1e-afceaa45f884\" class=\"colab-df-container\">\n",
              "    <div>\n",
              "<style scoped>\n",
              "    .dataframe tbody tr th:only-of-type {\n",
              "        vertical-align: middle;\n",
              "    }\n",
              "\n",
              "    .dataframe tbody tr th {\n",
              "        vertical-align: top;\n",
              "    }\n",
              "\n",
              "    .dataframe thead th {\n",
              "        text-align: right;\n",
              "    }\n",
              "</style>\n",
              "<table border=\"1\" class=\"dataframe\">\n",
              "  <thead>\n",
              "    <tr style=\"text-align: right;\">\n",
              "      <th></th>\n",
              "      <th>Max</th>\n",
              "      <th>Min</th>\n",
              "      <th>Mean</th>\n",
              "      <th>Median</th>\n",
              "      <th>Std</th>\n",
              "      <th>PeakToPeak</th>\n",
              "      <th>Mode</th>\n",
              "      <th>Healthy</th>\n",
              "    </tr>\n",
              "  </thead>\n",
              "  <tbody>\n",
              "    <tr>\n",
              "      <th>0</th>\n",
              "      <td>0.168</td>\n",
              "      <td>-0.192</td>\n",
              "      <td>-0.016880</td>\n",
              "      <td>-0.024</td>\n",
              "      <td>0.063430</td>\n",
              "      <td>0.360</td>\n",
              "      <td>-0.040</td>\n",
              "      <td>0</td>\n",
              "    </tr>\n",
              "    <tr>\n",
              "      <th>1</th>\n",
              "      <td>0.168</td>\n",
              "      <td>-0.192</td>\n",
              "      <td>-0.016880</td>\n",
              "      <td>-0.024</td>\n",
              "      <td>0.063430</td>\n",
              "      <td>0.360</td>\n",
              "      <td>-0.040</td>\n",
              "      <td>0</td>\n",
              "    </tr>\n",
              "    <tr>\n",
              "      <th>2</th>\n",
              "      <td>0.144</td>\n",
              "      <td>-0.176</td>\n",
              "      <td>0.001216</td>\n",
              "      <td>0.008</td>\n",
              "      <td>0.061272</td>\n",
              "      <td>0.320</td>\n",
              "      <td>0.032</td>\n",
              "      <td>1</td>\n",
              "    </tr>\n",
              "    <tr>\n",
              "      <th>3</th>\n",
              "      <td>0.128</td>\n",
              "      <td>-0.208</td>\n",
              "      <td>-0.019584</td>\n",
              "      <td>-0.016</td>\n",
              "      <td>0.063845</td>\n",
              "      <td>0.336</td>\n",
              "      <td>-0.024</td>\n",
              "      <td>1</td>\n",
              "    </tr>\n",
              "    <tr>\n",
              "      <th>4</th>\n",
              "      <td>0.128</td>\n",
              "      <td>-0.176</td>\n",
              "      <td>-0.015600</td>\n",
              "      <td>-0.016</td>\n",
              "      <td>0.061276</td>\n",
              "      <td>0.304</td>\n",
              "      <td>-0.024</td>\n",
              "      <td>1</td>\n",
              "    </tr>\n",
              "  </tbody>\n",
              "</table>\n",
              "</div>\n",
              "    <div class=\"colab-df-buttons\">\n",
              "\n",
              "  <div class=\"colab-df-container\">\n",
              "    <button class=\"colab-df-convert\" onclick=\"convertToInteractive('df-773f49fa-6ed3-4569-ab1e-afceaa45f884')\"\n",
              "            title=\"Convert this dataframe to an interactive table.\"\n",
              "            style=\"display:none;\">\n",
              "\n",
              "  <svg xmlns=\"http://www.w3.org/2000/svg\" height=\"24px\" viewBox=\"0 -960 960 960\">\n",
              "    <path d=\"M120-120v-720h720v720H120Zm60-500h600v-160H180v160Zm220 220h160v-160H400v160Zm0 220h160v-160H400v160ZM180-400h160v-160H180v160Zm440 0h160v-160H620v160ZM180-180h160v-160H180v160Zm440 0h160v-160H620v160Z\"/>\n",
              "  </svg>\n",
              "    </button>\n",
              "\n",
              "  <style>\n",
              "    .colab-df-container {\n",
              "      display:flex;\n",
              "      gap: 12px;\n",
              "    }\n",
              "\n",
              "    .colab-df-convert {\n",
              "      background-color: #E8F0FE;\n",
              "      border: none;\n",
              "      border-radius: 50%;\n",
              "      cursor: pointer;\n",
              "      display: none;\n",
              "      fill: #1967D2;\n",
              "      height: 32px;\n",
              "      padding: 0 0 0 0;\n",
              "      width: 32px;\n",
              "    }\n",
              "\n",
              "    .colab-df-convert:hover {\n",
              "      background-color: #E2EBFA;\n",
              "      box-shadow: 0px 1px 2px rgba(60, 64, 67, 0.3), 0px 1px 3px 1px rgba(60, 64, 67, 0.15);\n",
              "      fill: #174EA6;\n",
              "    }\n",
              "\n",
              "    .colab-df-buttons div {\n",
              "      margin-bottom: 4px;\n",
              "    }\n",
              "\n",
              "    [theme=dark] .colab-df-convert {\n",
              "      background-color: #3B4455;\n",
              "      fill: #D2E3FC;\n",
              "    }\n",
              "\n",
              "    [theme=dark] .colab-df-convert:hover {\n",
              "      background-color: #434B5C;\n",
              "      box-shadow: 0px 1px 3px 1px rgba(0, 0, 0, 0.15);\n",
              "      filter: drop-shadow(0px 1px 2px rgba(0, 0, 0, 0.3));\n",
              "      fill: #FFFFFF;\n",
              "    }\n",
              "  </style>\n",
              "\n",
              "    <script>\n",
              "      const buttonEl =\n",
              "        document.querySelector('#df-773f49fa-6ed3-4569-ab1e-afceaa45f884 button.colab-df-convert');\n",
              "      buttonEl.style.display =\n",
              "        google.colab.kernel.accessAllowed ? 'block' : 'none';\n",
              "\n",
              "      async function convertToInteractive(key) {\n",
              "        const element = document.querySelector('#df-773f49fa-6ed3-4569-ab1e-afceaa45f884');\n",
              "        const dataTable =\n",
              "          await google.colab.kernel.invokeFunction('convertToInteractive',\n",
              "                                                    [key], {});\n",
              "        if (!dataTable) return;\n",
              "\n",
              "        const docLinkHtml = 'Like what you see? Visit the ' +\n",
              "          '<a target=\"_blank\" href=https://colab.research.google.com/notebooks/data_table.ipynb>data table notebook</a>'\n",
              "          + ' to learn more about interactive tables.';\n",
              "        element.innerHTML = '';\n",
              "        dataTable['output_type'] = 'display_data';\n",
              "        await google.colab.output.renderOutput(dataTable, element);\n",
              "        const docLink = document.createElement('div');\n",
              "        docLink.innerHTML = docLinkHtml;\n",
              "        element.appendChild(docLink);\n",
              "      }\n",
              "    </script>\n",
              "  </div>\n",
              "\n",
              "\n",
              "<div id=\"df-233e5b21-9463-4bef-9805-9ec43293cee1\">\n",
              "  <button class=\"colab-df-quickchart\" onclick=\"quickchart('df-233e5b21-9463-4bef-9805-9ec43293cee1')\"\n",
              "            title=\"Suggest charts\"\n",
              "            style=\"display:none;\">\n",
              "\n",
              "<svg xmlns=\"http://www.w3.org/2000/svg\" height=\"24px\"viewBox=\"0 0 24 24\"\n",
              "     width=\"24px\">\n",
              "    <g>\n",
              "        <path d=\"M19 3H5c-1.1 0-2 .9-2 2v14c0 1.1.9 2 2 2h14c1.1 0 2-.9 2-2V5c0-1.1-.9-2-2-2zM9 17H7v-7h2v7zm4 0h-2V7h2v10zm4 0h-2v-4h2v4z\"/>\n",
              "    </g>\n",
              "</svg>\n",
              "  </button>\n",
              "\n",
              "<style>\n",
              "  .colab-df-quickchart {\n",
              "      --bg-color: #E8F0FE;\n",
              "      --fill-color: #1967D2;\n",
              "      --hover-bg-color: #E2EBFA;\n",
              "      --hover-fill-color: #174EA6;\n",
              "      --disabled-fill-color: #AAA;\n",
              "      --disabled-bg-color: #DDD;\n",
              "  }\n",
              "\n",
              "  [theme=dark] .colab-df-quickchart {\n",
              "      --bg-color: #3B4455;\n",
              "      --fill-color: #D2E3FC;\n",
              "      --hover-bg-color: #434B5C;\n",
              "      --hover-fill-color: #FFFFFF;\n",
              "      --disabled-bg-color: #3B4455;\n",
              "      --disabled-fill-color: #666;\n",
              "  }\n",
              "\n",
              "  .colab-df-quickchart {\n",
              "    background-color: var(--bg-color);\n",
              "    border: none;\n",
              "    border-radius: 50%;\n",
              "    cursor: pointer;\n",
              "    display: none;\n",
              "    fill: var(--fill-color);\n",
              "    height: 32px;\n",
              "    padding: 0;\n",
              "    width: 32px;\n",
              "  }\n",
              "\n",
              "  .colab-df-quickchart:hover {\n",
              "    background-color: var(--hover-bg-color);\n",
              "    box-shadow: 0 1px 2px rgba(60, 64, 67, 0.3), 0 1px 3px 1px rgba(60, 64, 67, 0.15);\n",
              "    fill: var(--button-hover-fill-color);\n",
              "  }\n",
              "\n",
              "  .colab-df-quickchart-complete:disabled,\n",
              "  .colab-df-quickchart-complete:disabled:hover {\n",
              "    background-color: var(--disabled-bg-color);\n",
              "    fill: var(--disabled-fill-color);\n",
              "    box-shadow: none;\n",
              "  }\n",
              "\n",
              "  .colab-df-spinner {\n",
              "    border: 2px solid var(--fill-color);\n",
              "    border-color: transparent;\n",
              "    border-bottom-color: var(--fill-color);\n",
              "    animation:\n",
              "      spin 1s steps(1) infinite;\n",
              "  }\n",
              "\n",
              "  @keyframes spin {\n",
              "    0% {\n",
              "      border-color: transparent;\n",
              "      border-bottom-color: var(--fill-color);\n",
              "      border-left-color: var(--fill-color);\n",
              "    }\n",
              "    20% {\n",
              "      border-color: transparent;\n",
              "      border-left-color: var(--fill-color);\n",
              "      border-top-color: var(--fill-color);\n",
              "    }\n",
              "    30% {\n",
              "      border-color: transparent;\n",
              "      border-left-color: var(--fill-color);\n",
              "      border-top-color: var(--fill-color);\n",
              "      border-right-color: var(--fill-color);\n",
              "    }\n",
              "    40% {\n",
              "      border-color: transparent;\n",
              "      border-right-color: var(--fill-color);\n",
              "      border-top-color: var(--fill-color);\n",
              "    }\n",
              "    60% {\n",
              "      border-color: transparent;\n",
              "      border-right-color: var(--fill-color);\n",
              "    }\n",
              "    80% {\n",
              "      border-color: transparent;\n",
              "      border-right-color: var(--fill-color);\n",
              "      border-bottom-color: var(--fill-color);\n",
              "    }\n",
              "    90% {\n",
              "      border-color: transparent;\n",
              "      border-bottom-color: var(--fill-color);\n",
              "    }\n",
              "  }\n",
              "</style>\n",
              "\n",
              "  <script>\n",
              "    async function quickchart(key) {\n",
              "      const quickchartButtonEl =\n",
              "        document.querySelector('#' + key + ' button');\n",
              "      quickchartButtonEl.disabled = true;  // To prevent multiple clicks.\n",
              "      quickchartButtonEl.classList.add('colab-df-spinner');\n",
              "      try {\n",
              "        const charts = await google.colab.kernel.invokeFunction(\n",
              "            'suggestCharts', [key], {});\n",
              "      } catch (error) {\n",
              "        console.error('Error during call to suggestCharts:', error);\n",
              "      }\n",
              "      quickchartButtonEl.classList.remove('colab-df-spinner');\n",
              "      quickchartButtonEl.classList.add('colab-df-quickchart-complete');\n",
              "    }\n",
              "    (() => {\n",
              "      let quickchartButtonEl =\n",
              "        document.querySelector('#df-233e5b21-9463-4bef-9805-9ec43293cee1 button');\n",
              "      quickchartButtonEl.style.display =\n",
              "        google.colab.kernel.accessAllowed ? 'block' : 'none';\n",
              "    })();\n",
              "  </script>\n",
              "</div>\n",
              "\n",
              "    </div>\n",
              "  </div>\n"
            ],
            "application/vnd.google.colaboratory.intrinsic+json": {
              "type": "dataframe",
              "variable_name": "data",
              "summary": "{\n  \"name\": \"data\",\n  \"rows\": 1355,\n  \"fields\": [\n    {\n      \"column\": \"Max\",\n      \"properties\": {\n        \"dtype\": \"number\",\n        \"std\": 0.043107584133658686,\n        \"min\": -0.016,\n        \"max\": 1.016,\n        \"num_unique_values\": 37,\n        \"samples\": [\n          0.152,\n          0.136,\n          0.216\n        ],\n        \"semantic_type\": \"\",\n        \"description\": \"\"\n      }\n    },\n    {\n      \"column\": \"Min\",\n      \"properties\": {\n        \"dtype\": \"number\",\n        \"std\": 0.04667099338929128,\n        \"min\": -1.016,\n        \"max\": 0.0,\n        \"num_unique_values\": 34,\n        \"samples\": [\n          -0.232,\n          -1.016,\n          -0.248\n        ],\n        \"semantic_type\": \"\",\n        \"description\": \"\"\n      }\n    },\n    {\n      \"column\": \"Mean\",\n      \"properties\": {\n        \"dtype\": \"number\",\n        \"std\": 0.007970199710055095,\n        \"min\": -0.062192,\n        \"max\": 0.048224,\n        \"num_unique_values\": 331,\n        \"samples\": [\n          -0.00272,\n          0.0034879999999999,\n          -0.062192\n        ],\n        \"semantic_type\": \"\",\n        \"description\": \"\"\n      }\n    },\n    {\n      \"column\": \"Median\",\n      \"properties\": {\n        \"dtype\": \"number\",\n        \"std\": 0.012209338642799921,\n        \"min\": -0.064,\n        \"max\": 0.048,\n        \"num_unique_values\": 24,\n        \"samples\": [\n          0.016,\n          -0.012,\n          -0.024\n        ],\n        \"semantic_type\": \"\",\n        \"description\": \"\"\n      }\n    },\n    {\n      \"column\": \"Std\",\n      \"properties\": {\n        \"dtype\": \"number\",\n        \"std\": 0.008500319059961368,\n        \"min\": 0.0149899678451956,\n        \"max\": 0.1814080331628123,\n        \"num_unique_values\": 340,\n        \"samples\": [\n          0.0412287775225024,\n          0.0435376434823934,\n          0.0499776180304744\n        ],\n        \"semantic_type\": \"\",\n        \"description\": \"\"\n      }\n    },\n    {\n      \"column\": \"PeakToPeak\",\n      \"properties\": {\n        \"dtype\": \"number\",\n        \"std\": 0.08167722887454489,\n        \"min\": 0.088,\n        \"max\": 2.032,\n        \"num_unique_values\": 62,\n        \"samples\": [\n          0.128,\n          0.4559999999999999,\n          0.36\n        ],\n        \"semantic_type\": \"\",\n        \"description\": \"\"\n      }\n    },\n    {\n      \"column\": \"Mode\",\n      \"properties\": {\n        \"dtype\": \"number\",\n        \"std\": 0.024459413112010553,\n        \"min\": -0.12,\n        \"max\": 0.088,\n        \"num_unique_values\": 24,\n        \"samples\": [\n          0.072,\n          0.048,\n          -0.04\n        ],\n        \"semantic_type\": \"\",\n        \"description\": \"\"\n      }\n    },\n    {\n      \"column\": \"Healthy\",\n      \"properties\": {\n        \"dtype\": \"number\",\n        \"std\": 0,\n        \"min\": 0,\n        \"max\": 1,\n        \"num_unique_values\": 2,\n        \"samples\": [\n          1,\n          0\n        ],\n        \"semantic_type\": \"\",\n        \"description\": \"\"\n      }\n    }\n  ]\n}"
            }
          },
          "metadata": {},
          "execution_count": 27
        }
      ]
    },
    {
      "cell_type": "code",
      "source": [
        "X, y = data.drop('Healthy', axis=1), data['Healthy']"
      ],
      "metadata": {
        "id": "uwEjqZEWWnQ_"
      },
      "execution_count": 28,
      "outputs": []
    },
    {
      "cell_type": "markdown",
      "source": [
        "##Feature Selection"
      ],
      "metadata": {
        "id": "37c9qAYbxYPX"
      }
    },
    {
      "cell_type": "code",
      "source": [
        "class FeatureSelection:\n",
        "    def __init__(self, data, clabel, oversample) -> None:\n",
        "        X, y = data.drop(clabel, axis=1), data[clabel]\n",
        "        self.clabel = clabel\n",
        "        features = {_ for _ in data.columns}\n",
        "        features.remove(clabel)\n",
        "        self.features = features\n",
        "\n",
        "        if oversample:\n",
        "            over = RandomOverSampler()\n",
        "            X, y = over.fit_resample(X,y)\n",
        "\n",
        "        scaler = StandardScaler()\n",
        "        X = pd.DataFrame(scaler.fit_transform(X), columns=X.columns)\n",
        "\n",
        "        self.X_train, self.X_test, self.y_train, self.y_test = train_test_split(X,y, test_size=0.2, shuffle=True, random_state=42)\n",
        "\n",
        "    def wrapper(self, feature_subset):\n",
        "        model = RandomForestClassifier(max_depth=16)\n",
        "        model.fit(self.X_train[list(feature_subset)],self.y_train)\n",
        "        y_pred=model.predict(self.X_test[list(feature_subset)])\n",
        "        return accuracy_score(self.y_test,y_pred)\n",
        "\n",
        "    def sfs(self, count, keep=set()):\n",
        "        feature_subset = keep.copy()\n",
        "        feature_set = self.features.copy() - keep\n",
        "\n",
        "        if len(feature_set)==0:\n",
        "            return (feature_subset, self.wrapper(feature_subset))\n",
        "\n",
        "        accuracy = 0\n",
        "        for _ in range(0,count):\n",
        "            best_attribute = \"\"\n",
        "            best_report = 0\n",
        "            for attribute in feature_set:\n",
        "                feature_subset.add(attribute)\n",
        "                report = self.wrapper(feature_subset)*100\n",
        "                if report > best_report:\n",
        "                    best_attribute=attribute\n",
        "                    best_report=report\n",
        "                feature_subset.remove(attribute)\n",
        "\n",
        "            accuracy = best_report\n",
        "            feature_subset.add(best_attribute)\n",
        "            feature_set.remove(best_attribute)\n",
        "\n",
        "        return (feature_subset, accuracy)\n",
        "\n",
        "    def sbr(self, count, fromset=set()):\n",
        "        if len(fromset)==1:\n",
        "            return (set(), 0)\n",
        "\n",
        "        feature_set = self.features.copy() if len(fromset)==0 else fromset\n",
        "        feature_subset = feature_set.copy()\n",
        "        for _ in range(0,len(feature_set)-count):\n",
        "            worst_attribute = \"\"\n",
        "            best_report = 0\n",
        "            for attribute in feature_subset:\n",
        "                feature_subset.remove(attribute)\n",
        "                report = self.wrapper(feature_subset)*100\n",
        "                if report > best_report:\n",
        "                    worst_attribute=attribute\n",
        "                    best_report=report\n",
        "                feature_subset.add(attribute)\n",
        "\n",
        "            feature_subset.remove(worst_attribute)\n",
        "\n",
        "        accuracy = self.wrapper(feature_subset)*100\n",
        "        return (feature_subset, accuracy)\n",
        "\n",
        "    def lrs(self, count, l, r):\n",
        "        feature_set = self.features.copy()\n",
        "        if l>r:\n",
        "            feature_subset=set()\n",
        "            while len(feature_subset)<count:\n",
        "                feature_subset = self.sfs(l, keep=feature_subset)[0]\n",
        "                feature_subset = self.sbr(len(feature_subset)-r, fromset=feature_subset)[0]\n",
        "                feature_set=feature_set-feature_subset\n",
        "\n",
        "            accuracy = self.wrapper(feature_subset)*100\n",
        "            return (feature_subset, accuracy)\n",
        "        else:\n",
        "            feature_subset=feature_set.copy()\n",
        "            while len(feature_subset)>count:\n",
        "                temp_subset = self.sbr(len(feature_subset)-r)[0]\n",
        "                feature_set = feature_set | (feature_subset-temp_subset)\n",
        "                feature_subset = temp_subset\n",
        "                temp_subset = self.sfs(l, feature_subset)[0]\n",
        "                feature_set = feature_set - (temp_subset-feature_subset)\n",
        "                feature_subset = temp_subset\n",
        "\n",
        "            accuracy = self.wrapper(feature_subset)*100\n",
        "            return (feature_subset, accuracy)\n",
        "\n",
        "    def sffs(self, count):\n",
        "        feature_subset = set()\n",
        "        while len(feature_subset)<count:\n",
        "            feature_subset, accuracy = self.sfs(1, keep=feature_subset)\n",
        "            prev_acc = 0\n",
        "            while accuracy > prev_acc:\n",
        "                prev_acc = accuracy\n",
        "                temp_subset, temp_acc = self.sbr(len(feature_subset)-1, fromset=feature_subset)\n",
        "                if temp_acc>accuracy:\n",
        "                    accuracy = temp_acc\n",
        "                    feature_subset = temp_subset\n",
        "\n",
        "        return (feature_subset, self.wrapper(feature_subset)*100)\n",
        "\n",
        "    def sfbr(self, count):\n",
        "        feature_subset = self.features.copy()\n",
        "        while len(feature_subset)>count:\n",
        "            feature_subset, accuracy = self.sbr(len(feature_subset)-1, fromset=feature_subset)\n",
        "            prev_acc = 0\n",
        "            while accuracy > prev_acc:\n",
        "                prev_acc = accuracy\n",
        "                temp_subset, temp_acc = self.sfs(1, keep=feature_subset)\n",
        "                if temp_acc>accuracy:\n",
        "                    accuracy = temp_acc\n",
        "                    feature_subset = temp_subset\n",
        "\n",
        "        return (feature_subset, self.wrapper(feature_subset)*100)\n"
      ],
      "metadata": {
        "id": "bBi0YeCgaU4_"
      },
      "execution_count": 29,
      "outputs": []
    },
    {
      "cell_type": "code",
      "source": [
        "fs = FeatureSelection(data, \"Healthy\", True)\n",
        "subset = fs.sffs(4)[0]\n",
        "subset"
      ],
      "metadata": {
        "colab": {
          "base_uri": "https://localhost:8080/"
        },
        "id": "xMqJPC6i6Nuo",
        "outputId": "dc959790-5043-4f94-8e4b-6f958d535571"
      },
      "execution_count": 45,
      "outputs": [
        {
          "output_type": "execute_result",
          "data": {
            "text/plain": [
              "{'Mean', 'Median', 'Mode', 'Std'}"
            ]
          },
          "metadata": {},
          "execution_count": 45
        }
      ]
    },
    {
      "cell_type": "code",
      "source": [
        "X_train, X_temp, y_train, y_temp = train_test_split(X[list(subset)],y, test_size=0.3, shuffle=True, random_state=42)\n",
        "X_test, X_valid, y_test, y_valid = train_test_split(X_temp, y_temp, test_size=0.5, shuffle=True, random_state=42)"
      ],
      "metadata": {
        "id": "PpGk8SY-WzVF"
      },
      "execution_count": 32,
      "outputs": []
    },
    {
      "cell_type": "code",
      "source": [
        "len(X_train), len(X_test), len(X_valid)"
      ],
      "metadata": {
        "colab": {
          "base_uri": "https://localhost:8080/"
        },
        "id": "gaW5yGrW8XWo",
        "outputId": "0ae63c68-bff4-452f-9ae9-3c9c3012f294"
      },
      "execution_count": 33,
      "outputs": [
        {
          "output_type": "execute_result",
          "data": {
            "text/plain": [
              "(948, 203, 204)"
            ]
          },
          "metadata": {},
          "execution_count": 33
        }
      ]
    },
    {
      "cell_type": "markdown",
      "source": [
        "##Random Forest Classifier"
      ],
      "metadata": {
        "id": "nauMuxN9xbTh"
      }
    },
    {
      "cell_type": "code",
      "source": [
        "model = RandomForestClassifier(random_state=42)\n",
        "X,y = data.drop('Healthy', axis=1)[list(subset)], data['Healthy']\n",
        "X_train, X_test, y_train, y_test = train_test_split(X,y, test_size=0.2, shuffle=True, random_state=42)\n",
        "model.fit(X_train, y_train)\n",
        "y_pred = model.predict(X_train)\n",
        "print(classification_report(y_train, y_pred))\n",
        "y_pred = model.predict(X_test)\n",
        "print(classification_report(y_test, y_pred))"
      ],
      "metadata": {
        "colab": {
          "base_uri": "https://localhost:8080/"
        },
        "id": "2w1AF3WSv6pU",
        "outputId": "f3745e53-5dd6-49fa-ab34-50ddf1d1f49f"
      },
      "execution_count": 36,
      "outputs": [
        {
          "output_type": "stream",
          "name": "stdout",
          "text": [
            "              precision    recall  f1-score   support\n",
            "\n",
            "           0       0.64      1.00      0.78       529\n",
            "           1       1.00      0.47      0.64       555\n",
            "\n",
            "    accuracy                           0.73      1084\n",
            "   macro avg       0.82      0.74      0.71      1084\n",
            "weighted avg       0.83      0.73      0.71      1084\n",
            "\n",
            "              precision    recall  f1-score   support\n",
            "\n",
            "           0       0.67      1.00      0.80       131\n",
            "           1       1.00      0.54      0.70       140\n",
            "\n",
            "    accuracy                           0.76       271\n",
            "   macro avg       0.84      0.77      0.75       271\n",
            "weighted avg       0.84      0.76      0.75       271\n",
            "\n"
          ]
        }
      ]
    },
    {
      "cell_type": "markdown",
      "source": [
        "###Training Accuracy = 73% and Test Accuracy = 76%"
      ],
      "metadata": {
        "id": "NwjWZvUhxsv1"
      }
    },
    {
      "cell_type": "markdown",
      "source": [
        "##Deep Neural Network"
      ],
      "metadata": {
        "id": "pwwgk8Tr8umG"
      }
    },
    {
      "cell_type": "code",
      "source": [
        "model = tf.keras.Sequential([\n",
        "    tf.keras.layers.BatchNormalization(),\n",
        "    tf.keras.layers.Input(4),\n",
        "    tf.keras.layers.Dropout(0.2),\n",
        "    tf.keras.layers.BatchNormalization(),\n",
        "    tf.keras.layers.Dense(8, activation='relu'),\n",
        "    tf.keras.layers.Dropout(0.2),\n",
        "    tf.keras.layers.BatchNormalization(),\n",
        "    tf.keras.layers.Dense(16, activation='relu'),\n",
        "    tf.keras.layers.Dropout(0.2),\n",
        "    tf.keras.layers.BatchNormalization(),\n",
        "    tf.keras.layers.Dense(8, activation='relu'),\n",
        "    tf.keras.layers.Dense(1, activation='sigmoid')\n",
        "])"
      ],
      "metadata": {
        "id": "SxmWmCWtXUo4"
      },
      "execution_count": 37,
      "outputs": []
    },
    {
      "cell_type": "code",
      "source": [
        "model.compile(\n",
        "    tf.keras.optimizers.Adam(learning_rate=0.001),\n",
        "    loss='binary_crossentropy',\n",
        "    metrics=['accuracy']\n",
        ")"
      ],
      "metadata": {
        "id": "f1Rnwd5aX1LL"
      },
      "execution_count": 38,
      "outputs": []
    },
    {
      "cell_type": "code",
      "source": [
        "early_stopping =tf.keras.callbacks.EarlyStopping(\n",
        "    patience=50,\n",
        "    min_delta=0.01,\n",
        "    restore_best_weights=True\n",
        ")"
      ],
      "metadata": {
        "id": "n00Gjd2BYpbq"
      },
      "execution_count": 39,
      "outputs": []
    },
    {
      "cell_type": "code",
      "source": [
        "history = model.fit(\n",
        "    X_train,\n",
        "    y_train,\n",
        "    batch_size=32,\n",
        "    epochs=200,\n",
        "    validation_data=(X_valid, y_valid),\n",
        "    callbacks=[early_stopping]\n",
        ")"
      ],
      "metadata": {
        "colab": {
          "base_uri": "https://localhost:8080/"
        },
        "id": "wRwO0sUjYM5W",
        "outputId": "c327f2d5-e172-4c89-ff98-b158e7044284"
      },
      "execution_count": 40,
      "outputs": [
        {
          "output_type": "stream",
          "name": "stdout",
          "text": [
            "Epoch 1/200\n",
            "34/34 [==============================] - 3s 13ms/step - loss: 0.6747 - accuracy: 0.5876 - val_loss: 0.6929 - val_accuracy: 0.5392\n",
            "Epoch 2/200\n",
            "34/34 [==============================] - 0s 4ms/step - loss: 0.6423 - accuracy: 0.6218 - val_loss: 0.6932 - val_accuracy: 0.4804\n",
            "Epoch 3/200\n",
            "34/34 [==============================] - 0s 4ms/step - loss: 0.6190 - accuracy: 0.6328 - val_loss: 0.6941 - val_accuracy: 0.4804\n",
            "Epoch 4/200\n",
            "34/34 [==============================] - 0s 5ms/step - loss: 0.6074 - accuracy: 0.6614 - val_loss: 0.6948 - val_accuracy: 0.4804\n",
            "Epoch 5/200\n",
            "34/34 [==============================] - 0s 5ms/step - loss: 0.5964 - accuracy: 0.6411 - val_loss: 0.6958 - val_accuracy: 0.4804\n",
            "Epoch 6/200\n",
            "34/34 [==============================] - 0s 5ms/step - loss: 0.5827 - accuracy: 0.6744 - val_loss: 0.6975 - val_accuracy: 0.4804\n",
            "Epoch 7/200\n",
            "34/34 [==============================] - 0s 5ms/step - loss: 0.5789 - accuracy: 0.6633 - val_loss: 0.7007 - val_accuracy: 0.4804\n",
            "Epoch 8/200\n",
            "34/34 [==============================] - 0s 7ms/step - loss: 0.5785 - accuracy: 0.6651 - val_loss: 0.7000 - val_accuracy: 0.4853\n",
            "Epoch 9/200\n",
            "34/34 [==============================] - 0s 7ms/step - loss: 0.5834 - accuracy: 0.6688 - val_loss: 0.6937 - val_accuracy: 0.5196\n",
            "Epoch 10/200\n",
            "34/34 [==============================] - 0s 7ms/step - loss: 0.5722 - accuracy: 0.6799 - val_loss: 0.6881 - val_accuracy: 0.5539\n",
            "Epoch 11/200\n",
            "34/34 [==============================] - 0s 6ms/step - loss: 0.5572 - accuracy: 0.6919 - val_loss: 0.6820 - val_accuracy: 0.5882\n",
            "Epoch 12/200\n",
            "34/34 [==============================] - 0s 6ms/step - loss: 0.5626 - accuracy: 0.6900 - val_loss: 0.6716 - val_accuracy: 0.6029\n",
            "Epoch 13/200\n",
            "34/34 [==============================] - 0s 7ms/step - loss: 0.5700 - accuracy: 0.6670 - val_loss: 0.6617 - val_accuracy: 0.6078\n",
            "Epoch 14/200\n",
            "34/34 [==============================] - 0s 7ms/step - loss: 0.5662 - accuracy: 0.6716 - val_loss: 0.6479 - val_accuracy: 0.6176\n",
            "Epoch 15/200\n",
            "34/34 [==============================] - 0s 7ms/step - loss: 0.5559 - accuracy: 0.6882 - val_loss: 0.6283 - val_accuracy: 0.6569\n",
            "Epoch 16/200\n",
            "34/34 [==============================] - 0s 7ms/step - loss: 0.5564 - accuracy: 0.6817 - val_loss: 0.6032 - val_accuracy: 0.6814\n",
            "Epoch 17/200\n",
            "34/34 [==============================] - 0s 6ms/step - loss: 0.5574 - accuracy: 0.6762 - val_loss: 0.5824 - val_accuracy: 0.6912\n",
            "Epoch 18/200\n",
            "34/34 [==============================] - 0s 9ms/step - loss: 0.5520 - accuracy: 0.6891 - val_loss: 0.5635 - val_accuracy: 0.7010\n",
            "Epoch 19/200\n",
            "34/34 [==============================] - 0s 7ms/step - loss: 0.5541 - accuracy: 0.6873 - val_loss: 0.5449 - val_accuracy: 0.7157\n",
            "Epoch 20/200\n",
            "34/34 [==============================] - 0s 5ms/step - loss: 0.5687 - accuracy: 0.6753 - val_loss: 0.5328 - val_accuracy: 0.7206\n",
            "Epoch 21/200\n",
            "34/34 [==============================] - 0s 4ms/step - loss: 0.5607 - accuracy: 0.6928 - val_loss: 0.5254 - val_accuracy: 0.7353\n",
            "Epoch 22/200\n",
            "34/34 [==============================] - 0s 4ms/step - loss: 0.5670 - accuracy: 0.6661 - val_loss: 0.5184 - val_accuracy: 0.7402\n",
            "Epoch 23/200\n",
            "34/34 [==============================] - 0s 4ms/step - loss: 0.5413 - accuracy: 0.7002 - val_loss: 0.5094 - val_accuracy: 0.7500\n",
            "Epoch 24/200\n",
            "34/34 [==============================] - 0s 5ms/step - loss: 0.5421 - accuracy: 0.6993 - val_loss: 0.5047 - val_accuracy: 0.7549\n",
            "Epoch 25/200\n",
            "34/34 [==============================] - 0s 5ms/step - loss: 0.5395 - accuracy: 0.7011 - val_loss: 0.4992 - val_accuracy: 0.7549\n",
            "Epoch 26/200\n",
            "34/34 [==============================] - 0s 4ms/step - loss: 0.5596 - accuracy: 0.6891 - val_loss: 0.4975 - val_accuracy: 0.7549\n",
            "Epoch 27/200\n",
            "34/34 [==============================] - 0s 4ms/step - loss: 0.5499 - accuracy: 0.6910 - val_loss: 0.4981 - val_accuracy: 0.7549\n",
            "Epoch 28/200\n",
            "34/34 [==============================] - 0s 5ms/step - loss: 0.5405 - accuracy: 0.6937 - val_loss: 0.4950 - val_accuracy: 0.7549\n",
            "Epoch 29/200\n",
            "34/34 [==============================] - 0s 4ms/step - loss: 0.5356 - accuracy: 0.7066 - val_loss: 0.4947 - val_accuracy: 0.7549\n",
            "Epoch 30/200\n",
            "34/34 [==============================] - 0s 4ms/step - loss: 0.5527 - accuracy: 0.6873 - val_loss: 0.4933 - val_accuracy: 0.7549\n",
            "Epoch 31/200\n",
            "34/34 [==============================] - 0s 5ms/step - loss: 0.5489 - accuracy: 0.6845 - val_loss: 0.4928 - val_accuracy: 0.7549\n",
            "Epoch 32/200\n",
            "34/34 [==============================] - 0s 5ms/step - loss: 0.5456 - accuracy: 0.6900 - val_loss: 0.4918 - val_accuracy: 0.7549\n",
            "Epoch 33/200\n",
            "34/34 [==============================] - 0s 4ms/step - loss: 0.5554 - accuracy: 0.6891 - val_loss: 0.4925 - val_accuracy: 0.7549\n",
            "Epoch 34/200\n",
            "34/34 [==============================] - 0s 5ms/step - loss: 0.5412 - accuracy: 0.6946 - val_loss: 0.4931 - val_accuracy: 0.7549\n",
            "Epoch 35/200\n",
            "34/34 [==============================] - 0s 5ms/step - loss: 0.5478 - accuracy: 0.6882 - val_loss: 0.4928 - val_accuracy: 0.7549\n",
            "Epoch 36/200\n",
            "34/34 [==============================] - 0s 4ms/step - loss: 0.5452 - accuracy: 0.6946 - val_loss: 0.4910 - val_accuracy: 0.7549\n",
            "Epoch 37/200\n",
            "34/34 [==============================] - 0s 5ms/step - loss: 0.5515 - accuracy: 0.6799 - val_loss: 0.4897 - val_accuracy: 0.7549\n",
            "Epoch 38/200\n",
            "34/34 [==============================] - 0s 4ms/step - loss: 0.5285 - accuracy: 0.7076 - val_loss: 0.4870 - val_accuracy: 0.7549\n",
            "Epoch 39/200\n",
            "34/34 [==============================] - 0s 4ms/step - loss: 0.5409 - accuracy: 0.6863 - val_loss: 0.4853 - val_accuracy: 0.7598\n",
            "Epoch 40/200\n",
            "34/34 [==============================] - 0s 5ms/step - loss: 0.5611 - accuracy: 0.6771 - val_loss: 0.4860 - val_accuracy: 0.7598\n",
            "Epoch 41/200\n",
            "34/34 [==============================] - 0s 4ms/step - loss: 0.5323 - accuracy: 0.7076 - val_loss: 0.4865 - val_accuracy: 0.7598\n",
            "Epoch 42/200\n",
            "34/34 [==============================] - 0s 4ms/step - loss: 0.5647 - accuracy: 0.6836 - val_loss: 0.4911 - val_accuracy: 0.7598\n",
            "Epoch 43/200\n",
            "34/34 [==============================] - 0s 4ms/step - loss: 0.5363 - accuracy: 0.6974 - val_loss: 0.4883 - val_accuracy: 0.7598\n",
            "Epoch 44/200\n",
            "34/34 [==============================] - 0s 4ms/step - loss: 0.5595 - accuracy: 0.6780 - val_loss: 0.4906 - val_accuracy: 0.7598\n",
            "Epoch 45/200\n",
            "34/34 [==============================] - 0s 4ms/step - loss: 0.5531 - accuracy: 0.6863 - val_loss: 0.4925 - val_accuracy: 0.7598\n",
            "Epoch 46/200\n",
            "34/34 [==============================] - 0s 4ms/step - loss: 0.5363 - accuracy: 0.6937 - val_loss: 0.4921 - val_accuracy: 0.7598\n",
            "Epoch 47/200\n",
            "34/34 [==============================] - 0s 4ms/step - loss: 0.5348 - accuracy: 0.7048 - val_loss: 0.4920 - val_accuracy: 0.7598\n",
            "Epoch 48/200\n",
            "34/34 [==============================] - 0s 4ms/step - loss: 0.5478 - accuracy: 0.6956 - val_loss: 0.4903 - val_accuracy: 0.7598\n",
            "Epoch 49/200\n",
            "34/34 [==============================] - 0s 4ms/step - loss: 0.5404 - accuracy: 0.6946 - val_loss: 0.4918 - val_accuracy: 0.7549\n",
            "Epoch 50/200\n",
            "34/34 [==============================] - 0s 5ms/step - loss: 0.5388 - accuracy: 0.6928 - val_loss: 0.4949 - val_accuracy: 0.7451\n",
            "Epoch 51/200\n",
            "34/34 [==============================] - 0s 4ms/step - loss: 0.5457 - accuracy: 0.6946 - val_loss: 0.4922 - val_accuracy: 0.7549\n",
            "Epoch 52/200\n",
            "34/34 [==============================] - 0s 4ms/step - loss: 0.5481 - accuracy: 0.6891 - val_loss: 0.4930 - val_accuracy: 0.7500\n",
            "Epoch 53/200\n",
            "34/34 [==============================] - 0s 4ms/step - loss: 0.5324 - accuracy: 0.6983 - val_loss: 0.4913 - val_accuracy: 0.7500\n",
            "Epoch 54/200\n",
            "34/34 [==============================] - 0s 4ms/step - loss: 0.5392 - accuracy: 0.7030 - val_loss: 0.4886 - val_accuracy: 0.7598\n",
            "Epoch 55/200\n",
            "34/34 [==============================] - 0s 5ms/step - loss: 0.5516 - accuracy: 0.6891 - val_loss: 0.4877 - val_accuracy: 0.7598\n",
            "Epoch 56/200\n",
            "34/34 [==============================] - 0s 4ms/step - loss: 0.5488 - accuracy: 0.6928 - val_loss: 0.4886 - val_accuracy: 0.7598\n",
            "Epoch 57/200\n",
            "34/34 [==============================] - 0s 5ms/step - loss: 0.5432 - accuracy: 0.7002 - val_loss: 0.4882 - val_accuracy: 0.7598\n",
            "Epoch 58/200\n",
            "34/34 [==============================] - 0s 4ms/step - loss: 0.5327 - accuracy: 0.7057 - val_loss: 0.4898 - val_accuracy: 0.7598\n",
            "Epoch 59/200\n",
            "34/34 [==============================] - 0s 5ms/step - loss: 0.5332 - accuracy: 0.7011 - val_loss: 0.4886 - val_accuracy: 0.7598\n",
            "Epoch 60/200\n",
            "34/34 [==============================] - 0s 5ms/step - loss: 0.5424 - accuracy: 0.6910 - val_loss: 0.4886 - val_accuracy: 0.7598\n",
            "Epoch 61/200\n",
            "34/34 [==============================] - 0s 5ms/step - loss: 0.5410 - accuracy: 0.6891 - val_loss: 0.4920 - val_accuracy: 0.7549\n",
            "Epoch 62/200\n",
            "34/34 [==============================] - 0s 4ms/step - loss: 0.5538 - accuracy: 0.6827 - val_loss: 0.4926 - val_accuracy: 0.7500\n",
            "Epoch 63/200\n",
            "34/34 [==============================] - 0s 5ms/step - loss: 0.5344 - accuracy: 0.7011 - val_loss: 0.4920 - val_accuracy: 0.7500\n",
            "Epoch 64/200\n",
            "34/34 [==============================] - 0s 4ms/step - loss: 0.5457 - accuracy: 0.6780 - val_loss: 0.4921 - val_accuracy: 0.7549\n",
            "Epoch 65/200\n",
            "34/34 [==============================] - 0s 4ms/step - loss: 0.5468 - accuracy: 0.6956 - val_loss: 0.4912 - val_accuracy: 0.7598\n",
            "Epoch 66/200\n",
            "34/34 [==============================] - 0s 4ms/step - loss: 0.5348 - accuracy: 0.7057 - val_loss: 0.4917 - val_accuracy: 0.7549\n",
            "Epoch 67/200\n",
            "34/34 [==============================] - 0s 5ms/step - loss: 0.5437 - accuracy: 0.6974 - val_loss: 0.4903 - val_accuracy: 0.7549\n",
            "Epoch 68/200\n",
            "34/34 [==============================] - 0s 4ms/step - loss: 0.5503 - accuracy: 0.6928 - val_loss: 0.4934 - val_accuracy: 0.7549\n",
            "Epoch 69/200\n",
            "34/34 [==============================] - 0s 5ms/step - loss: 0.5562 - accuracy: 0.6863 - val_loss: 0.4986 - val_accuracy: 0.7500\n",
            "Epoch 70/200\n",
            "34/34 [==============================] - 0s 4ms/step - loss: 0.5416 - accuracy: 0.6854 - val_loss: 0.4978 - val_accuracy: 0.7500\n",
            "Epoch 71/200\n",
            "34/34 [==============================] - 0s 4ms/step - loss: 0.5320 - accuracy: 0.7057 - val_loss: 0.4956 - val_accuracy: 0.7500\n",
            "Epoch 72/200\n",
            "34/34 [==============================] - 0s 5ms/step - loss: 0.5346 - accuracy: 0.7103 - val_loss: 0.4933 - val_accuracy: 0.7500\n",
            "Epoch 73/200\n",
            "34/34 [==============================] - 0s 5ms/step - loss: 0.5368 - accuracy: 0.6946 - val_loss: 0.4925 - val_accuracy: 0.7500\n",
            "Epoch 74/200\n",
            "34/34 [==============================] - 0s 4ms/step - loss: 0.5527 - accuracy: 0.6854 - val_loss: 0.4965 - val_accuracy: 0.7500\n",
            "Epoch 75/200\n",
            "34/34 [==============================] - 0s 5ms/step - loss: 0.5380 - accuracy: 0.6937 - val_loss: 0.4960 - val_accuracy: 0.7500\n",
            "Epoch 76/200\n",
            "34/34 [==============================] - 0s 4ms/step - loss: 0.5318 - accuracy: 0.7057 - val_loss: 0.4934 - val_accuracy: 0.7500\n",
            "Epoch 77/200\n",
            "34/34 [==============================] - 0s 5ms/step - loss: 0.5362 - accuracy: 0.6946 - val_loss: 0.4896 - val_accuracy: 0.7500\n",
            "Epoch 78/200\n",
            "34/34 [==============================] - 0s 5ms/step - loss: 0.5354 - accuracy: 0.7020 - val_loss: 0.4886 - val_accuracy: 0.7500\n",
            "Epoch 79/200\n",
            "34/34 [==============================] - 0s 5ms/step - loss: 0.5394 - accuracy: 0.7020 - val_loss: 0.4900 - val_accuracy: 0.7500\n"
          ]
        }
      ]
    },
    {
      "cell_type": "code",
      "source": [
        "model.evaluate(X_test, y_test)"
      ],
      "metadata": {
        "colab": {
          "base_uri": "https://localhost:8080/"
        },
        "id": "1iOAvL2HYbNF",
        "outputId": "4dc096b2-362e-4364-d328-c409dc90240e"
      },
      "execution_count": 41,
      "outputs": [
        {
          "output_type": "stream",
          "name": "stdout",
          "text": [
            "9/9 [==============================] - 0s 3ms/step - loss: 0.5159 - accuracy: 0.7380\n"
          ]
        },
        {
          "output_type": "execute_result",
          "data": {
            "text/plain": [
              "[0.5159435868263245, 0.7380073666572571]"
            ]
          },
          "metadata": {},
          "execution_count": 41
        }
      ]
    },
    {
      "cell_type": "code",
      "source": [
        "from sklearn.metrics import classification_report\n",
        "y_pred = model.predict(X_train).round().astype(int)\n",
        "print(classification_report(y_train, y_pred))\n",
        "y_pred = model.predict(X_test).round().astype(int)\n",
        "print(classification_report(y_test, y_pred))"
      ],
      "metadata": {
        "colab": {
          "base_uri": "https://localhost:8080/"
        },
        "id": "ba6uKAg2s_1x",
        "outputId": "3464c5ec-90f3-4dab-f1e5-2e2bca3c4076"
      },
      "execution_count": 44,
      "outputs": [
        {
          "output_type": "stream",
          "name": "stdout",
          "text": [
            "34/34 [==============================] - 0s 4ms/step\n",
            "              precision    recall  f1-score   support\n",
            "\n",
            "           0       0.62      1.00      0.77       529\n",
            "           1       1.00      0.42      0.59       555\n",
            "\n",
            "    accuracy                           0.70      1084\n",
            "   macro avg       0.81      0.71      0.68      1084\n",
            "weighted avg       0.82      0.70      0.68      1084\n",
            "\n",
            "9/9 [==============================] - 0s 4ms/step\n",
            "              precision    recall  f1-score   support\n",
            "\n",
            "           0       0.65      1.00      0.79       131\n",
            "           1       1.00      0.49      0.66       140\n",
            "\n",
            "    accuracy                           0.74       271\n",
            "   macro avg       0.82      0.75      0.72       271\n",
            "weighted avg       0.83      0.74      0.72       271\n",
            "\n"
          ]
        }
      ]
    },
    {
      "cell_type": "markdown",
      "source": [
        "###Training Accuracy = 70% and Test Accuracy = 74%"
      ],
      "metadata": {
        "id": "J6oXIWkKxC-w"
      }
    },
    {
      "cell_type": "code",
      "source": [
        "plt.plot(history.history['loss'], label='Training Loss', color='black')\n",
        "plt.plot(history.history['val_loss'], label='Validation Loss', color='red')\n",
        "plt.title(\"Loss of Model\")\n",
        "plt.ylabel(\"Loss\")\n",
        "plt.xlabel(\"Epoch\")\n",
        "plt.legend()\n",
        "plt.show()"
      ],
      "metadata": {
        "colab": {
          "base_uri": "https://localhost:8080/",
          "height": 472
        },
        "id": "OyHgkKhoYjbj",
        "outputId": "d9a1fd73-ab22-4741-fc0d-3ae01fdea478"
      },
      "execution_count": 43,
      "outputs": [
        {
          "output_type": "display_data",
          "data": {
            "text/plain": [
              "<Figure size 640x480 with 1 Axes>"
            ],
            "image/png": "[encoded data removed]"
          },
          "metadata": {}
        }
      ]
    },
    {
      "cell_type": "code",
      "source": [],
      "metadata": {
        "id": "M-j2IyK5wCXH"
      },
      "execution_count": null,
      "outputs": []
    }
  ]
}