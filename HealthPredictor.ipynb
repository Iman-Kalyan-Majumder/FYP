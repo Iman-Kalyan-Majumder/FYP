{
 "cells": [
  {
   "cell_type": "code",
   "execution_count": 97,
   "metadata": {},
   "outputs": [],
   "source": [
    "import pandas as pd\n",
    "import numpy as np\n",
    "from scipy.fft import fft, rfft\n",
    "from scipy.fft import fftfreq, rfftfreq\n",
    "import os\n",
    "from sklearn.model_selection import train_test_split\n",
    "from sklearn.ensemble import RandomForestClassifier\n",
    "from imblearn.over_sampling import RandomOverSampler\n",
    "from sklearn.metrics import accuracy_score\n",
    "from sklearn.preprocessing import StandardScaler"
   ]
  },
  {
   "cell_type": "markdown",
   "metadata": {},
   "source": [
    "### Data Preparation using Data Augmentation and Feature Extraction using Fast Fourier Transform"
   ]
  },
  {
   "cell_type": "code",
   "execution_count": 98,
   "metadata": {},
   "outputs": [],
   "source": [
    "path = \"./DAQ_Healthy/\"\n",
    "positions = ['Position-I/', 'Position-II/']\n",
    "waveforms = ['Sine/', 'Square/', 'Triangle/']\n",
    "\n",
    "df = {}\n",
    "for i in range(0,32):\n",
    "    df[i]=[]\n",
    "df['Healthy']=[]\n",
    "\n",
    "for position in positions:\n",
    "    for waveform in waveforms:\n",
    "            curpath = path + position + waveform\n",
    "            for i in range(9,31):\n",
    "                data = pd.read_csv(curpath+str(i)+'.csv')\n",
    "\n",
    "                seq1 = data['Amplitude - Voltage_0']\n",
    "                seq2 = np.array(seq1.rolling(\n",
    "                    window=2,\n",
    "                    center=True,\n",
    "                    min_periods=1\n",
    "                ).mean())\n",
    "                seq1 = np.array(seq1)\n",
    "\n",
    "                fourier1 = fft(seq1)\n",
    "                fourier1 = np.abs(fourier1[0:32])/(len(seq1)/2)\n",
    "                fourier2 = fft(seq2)\n",
    "                fourier2 = np.abs(fourier2[0:32])/(len(seq2)/2)\n",
    "                for j in range(0,32):\n",
    "                    df[j].append(fourier1[j])\n",
    "                    df[j].append(fourier2[j])\n",
    "\n",
    "                df['Healthy'].append(1)\n",
    "                df['Healthy'].append(1)\n",
    "\n",
    "path = \"./DAQ_Unhealthy\"\n",
    "positions = ['_1/', '_2/']\n",
    "for position in positions:\n",
    "    for waveform in waveforms:\n",
    "            curpath = path + position + waveform\n",
    "            for i in range(9,31):\n",
    "                data = pd.read_csv(curpath+str(i)+'.csv')\n",
    "\n",
    "                seq1 = data['Amplitude - Voltage_0']\n",
    "                seq2 = np.array(seq1.rolling(\n",
    "                    window=2,\n",
    "                    center=True,\n",
    "                    min_periods=1\n",
    "                ).mean())\n",
    "                seq1 = np.array(seq1)\n",
    "\n",
    "                fourier1 = fft(seq1)\n",
    "                fourier1 = np.abs(fourier1[0:32])/(len(seq1)/2)\n",
    "                fourier2 = fft(seq2)\n",
    "                fourier2 = np.abs(fourier2[0:32])/(len(seq2)/2)\n",
    "                for j in range(0,32):\n",
    "                    df[j].append(fourier1[j])\n",
    "                    df[j].append(fourier2[j])\n",
    "\n",
    "                df['Healthy'].append(0)\n",
    "                df['Healthy'].append(0)\n",
    "\n",
    "data = pd.DataFrame(df)\n",
    "data = data.sample(frac=1).reset_index(drop=True)"
   ]
  },
  {
   "cell_type": "code",
   "execution_count": 99,
   "metadata": {},
   "outputs": [
    {
     "data": {
      "text/html": [
       "<div>\n",
       "<style scoped>\n",
       "    .dataframe tbody tr th:only-of-type {\n",
       "        vertical-align: middle;\n",
       "    }\n",
       "\n",
       "    .dataframe tbody tr th {\n",
       "        vertical-align: top;\n",
       "    }\n",
       "\n",
       "    .dataframe thead th {\n",
       "        text-align: right;\n",
       "    }\n",
       "</style>\n",
       "<table border=\"1\" class=\"dataframe\">\n",
       "  <thead>\n",
       "    <tr style=\"text-align: right;\">\n",
       "      <th></th>\n",
       "      <th>0</th>\n",
       "      <th>1</th>\n",
       "      <th>2</th>\n",
       "      <th>3</th>\n",
       "      <th>4</th>\n",
       "      <th>5</th>\n",
       "      <th>6</th>\n",
       "      <th>7</th>\n",
       "      <th>8</th>\n",
       "      <th>9</th>\n",
       "      <th>...</th>\n",
       "      <th>23</th>\n",
       "      <th>24</th>\n",
       "      <th>25</th>\n",
       "      <th>26</th>\n",
       "      <th>27</th>\n",
       "      <th>28</th>\n",
       "      <th>29</th>\n",
       "      <th>30</th>\n",
       "      <th>31</th>\n",
       "      <th>Healthy</th>\n",
       "    </tr>\n",
       "  </thead>\n",
       "  <tbody>\n",
       "    <tr>\n",
       "      <th>0</th>\n",
       "      <td>0.001022</td>\n",
       "      <td>0.000052</td>\n",
       "      <td>0.000117</td>\n",
       "      <td>0.000097</td>\n",
       "      <td>0.000049</td>\n",
       "      <td>0.000140</td>\n",
       "      <td>0.000117</td>\n",
       "      <td>0.000159</td>\n",
       "      <td>0.004758</td>\n",
       "      <td>0.000161</td>\n",
       "      <td>...</td>\n",
       "      <td>0.000317</td>\n",
       "      <td>0.007833</td>\n",
       "      <td>0.000212</td>\n",
       "      <td>0.000462</td>\n",
       "      <td>0.000828</td>\n",
       "      <td>0.000317</td>\n",
       "      <td>0.000161</td>\n",
       "      <td>0.000595</td>\n",
       "      <td>0.000234</td>\n",
       "      <td>1</td>\n",
       "    </tr>\n",
       "    <tr>\n",
       "      <th>1</th>\n",
       "      <td>0.000734</td>\n",
       "      <td>0.000013</td>\n",
       "      <td>0.000019</td>\n",
       "      <td>0.000047</td>\n",
       "      <td>0.002339</td>\n",
       "      <td>0.000037</td>\n",
       "      <td>0.000027</td>\n",
       "      <td>0.000068</td>\n",
       "      <td>0.002237</td>\n",
       "      <td>0.000113</td>\n",
       "      <td>...</td>\n",
       "      <td>0.000097</td>\n",
       "      <td>0.001866</td>\n",
       "      <td>0.000173</td>\n",
       "      <td>0.000164</td>\n",
       "      <td>0.000176</td>\n",
       "      <td>0.001736</td>\n",
       "      <td>0.000138</td>\n",
       "      <td>0.000406</td>\n",
       "      <td>0.000258</td>\n",
       "      <td>1</td>\n",
       "    </tr>\n",
       "    <tr>\n",
       "      <th>2</th>\n",
       "      <td>0.000676</td>\n",
       "      <td>0.000406</td>\n",
       "      <td>0.000451</td>\n",
       "      <td>0.000444</td>\n",
       "      <td>0.000476</td>\n",
       "      <td>0.000454</td>\n",
       "      <td>0.000759</td>\n",
       "      <td>0.000820</td>\n",
       "      <td>0.000837</td>\n",
       "      <td>0.001115</td>\n",
       "      <td>...</td>\n",
       "      <td>0.002484</td>\n",
       "      <td>0.000772</td>\n",
       "      <td>0.000534</td>\n",
       "      <td>0.000498</td>\n",
       "      <td>0.000199</td>\n",
       "      <td>0.001644</td>\n",
       "      <td>0.000629</td>\n",
       "      <td>0.000114</td>\n",
       "      <td>0.000462</td>\n",
       "      <td>0</td>\n",
       "    </tr>\n",
       "    <tr>\n",
       "      <th>3</th>\n",
       "      <td>0.000232</td>\n",
       "      <td>0.000456</td>\n",
       "      <td>0.000472</td>\n",
       "      <td>0.000548</td>\n",
       "      <td>0.000615</td>\n",
       "      <td>0.000789</td>\n",
       "      <td>0.000782</td>\n",
       "      <td>0.001219</td>\n",
       "      <td>0.001804</td>\n",
       "      <td>0.004886</td>\n",
       "      <td>...</td>\n",
       "      <td>0.000264</td>\n",
       "      <td>0.000120</td>\n",
       "      <td>0.000326</td>\n",
       "      <td>0.000084</td>\n",
       "      <td>0.000633</td>\n",
       "      <td>0.000985</td>\n",
       "      <td>0.005332</td>\n",
       "      <td>0.000823</td>\n",
       "      <td>0.000144</td>\n",
       "      <td>1</td>\n",
       "    </tr>\n",
       "    <tr>\n",
       "      <th>4</th>\n",
       "      <td>0.000725</td>\n",
       "      <td>0.000317</td>\n",
       "      <td>0.000248</td>\n",
       "      <td>0.000402</td>\n",
       "      <td>0.000287</td>\n",
       "      <td>0.000352</td>\n",
       "      <td>0.000588</td>\n",
       "      <td>0.000857</td>\n",
       "      <td>0.001740</td>\n",
       "      <td>0.010308</td>\n",
       "      <td>...</td>\n",
       "      <td>0.000354</td>\n",
       "      <td>0.000480</td>\n",
       "      <td>0.000277</td>\n",
       "      <td>0.000360</td>\n",
       "      <td>0.001340</td>\n",
       "      <td>0.002413</td>\n",
       "      <td>0.000766</td>\n",
       "      <td>0.000545</td>\n",
       "      <td>0.000585</td>\n",
       "      <td>0</td>\n",
       "    </tr>\n",
       "  </tbody>\n",
       "</table>\n",
       "<p>5 rows × 33 columns</p>\n",
       "</div>"
      ],
      "text/plain": [
       "          0         1         2         3         4         5         6  \\\n",
       "0  0.001022  0.000052  0.000117  0.000097  0.000049  0.000140  0.000117   \n",
       "1  0.000734  0.000013  0.000019  0.000047  0.002339  0.000037  0.000027   \n",
       "2  0.000676  0.000406  0.000451  0.000444  0.000476  0.000454  0.000759   \n",
       "3  0.000232  0.000456  0.000472  0.000548  0.000615  0.000789  0.000782   \n",
       "4  0.000725  0.000317  0.000248  0.000402  0.000287  0.000352  0.000588   \n",
       "\n",
       "          7         8         9  ...        23        24        25        26  \\\n",
       "0  0.000159  0.004758  0.000161  ...  0.000317  0.007833  0.000212  0.000462   \n",
       "1  0.000068  0.002237  0.000113  ...  0.000097  0.001866  0.000173  0.000164   \n",
       "2  0.000820  0.000837  0.001115  ...  0.002484  0.000772  0.000534  0.000498   \n",
       "3  0.001219  0.001804  0.004886  ...  0.000264  0.000120  0.000326  0.000084   \n",
       "4  0.000857  0.001740  0.010308  ...  0.000354  0.000480  0.000277  0.000360   \n",
       "\n",
       "         27        28        29        30        31  Healthy  \n",
       "0  0.000828  0.000317  0.000161  0.000595  0.000234        1  \n",
       "1  0.000176  0.001736  0.000138  0.000406  0.000258        1  \n",
       "2  0.000199  0.001644  0.000629  0.000114  0.000462        0  \n",
       "3  0.000633  0.000985  0.005332  0.000823  0.000144        1  \n",
       "4  0.001340  0.002413  0.000766  0.000545  0.000585        0  \n",
       "\n",
       "[5 rows x 33 columns]"
      ]
     },
     "execution_count": 99,
     "metadata": {},
     "output_type": "execute_result"
    }
   ],
   "source": [
    "data.head()"
   ]
  },
  {
   "cell_type": "code",
   "execution_count": 100,
   "metadata": {},
   "outputs": [
    {
     "data": {
      "text/plain": [
       "528"
      ]
     },
     "execution_count": 100,
     "metadata": {},
     "output_type": "execute_result"
    }
   ],
   "source": [
    "len(data)"
   ]
  },
  {
   "cell_type": "markdown",
   "metadata": {},
   "source": [
    "### Model Training and Evaluation without Principal Component Analysis"
   ]
  },
  {
   "cell_type": "code",
   "execution_count": 101,
   "metadata": {},
   "outputs": [
    {
     "name": "stdout",
     "output_type": "stream",
     "text": [
      "Accuracy:0.9371069182389937\n",
      "Precision:0.9443360080965807\n",
      "Recall:0.9371069182389937\n",
      "F1-score:0.936982407069844\n"
     ]
    }
   ],
   "source": [
    "from sklearn.ensemble import RandomForestClassifier\n",
    "from sklearn.model_selection import train_test_split\n",
    "from sklearn.metrics import accuracy_score, precision_score, recall_score, f1_score\n",
    "\n",
    "X, y = data.drop(['Healthy'], axis=1), data['Healthy']\n",
    "X_train, X_test, y_train, y_test = train_test_split(X, y, test_size=0.3, shuffle=True, random_state=42)\n",
    "\n",
    "model = RandomForestClassifier()\n",
    "model.fit(X_train, y_train)\n",
    "\n",
    "y_pred = model.predict(X_test)\n",
    "print(\"Accuracy:\" + str(accuracy_score(y_test, y_pred)))\n",
    "print(\"Precision:\" + str(precision_score(y_test, y_pred, average='weighted')))\n",
    "print(\"Recall:\" + str(recall_score(y_test, y_pred, average='weighted')))\n",
    "print(\"F1-score:\" + str(f1_score(y_test, y_pred, average='weighted')))"
   ]
  },
  {
   "cell_type": "markdown",
   "metadata": {},
   "source": [
    "### Principal Component Analysis (Dimensionality Reduction)"
   ]
  },
  {
   "cell_type": "code",
   "execution_count": 102,
   "metadata": {},
   "outputs": [
    {
     "data": {
      "text/html": [
       "<div>\n",
       "<style scoped>\n",
       "    .dataframe tbody tr th:only-of-type {\n",
       "        vertical-align: middle;\n",
       "    }\n",
       "\n",
       "    .dataframe tbody tr th {\n",
       "        vertical-align: top;\n",
       "    }\n",
       "\n",
       "    .dataframe thead th {\n",
       "        text-align: right;\n",
       "    }\n",
       "</style>\n",
       "<table border=\"1\" class=\"dataframe\">\n",
       "  <thead>\n",
       "    <tr style=\"text-align: right;\">\n",
       "      <th></th>\n",
       "      <th>comp_00</th>\n",
       "      <th>comp_01</th>\n",
       "      <th>comp_02</th>\n",
       "      <th>comp_03</th>\n",
       "      <th>comp_04</th>\n",
       "      <th>comp_05</th>\n",
       "      <th>comp_06</th>\n",
       "      <th>comp_07</th>\n",
       "      <th>comp_08</th>\n",
       "      <th>comp_09</th>\n",
       "      <th>comp_10</th>\n",
       "      <th>comp_11</th>\n",
       "      <th>comp_12</th>\n",
       "      <th>comp_13</th>\n",
       "      <th>comp_14</th>\n",
       "      <th>comp_15</th>\n",
       "    </tr>\n",
       "  </thead>\n",
       "  <tbody>\n",
       "    <tr>\n",
       "      <th>0</th>\n",
       "      <td>0.031243</td>\n",
       "      <td>0.036777</td>\n",
       "      <td>-0.029414</td>\n",
       "      <td>0.052928</td>\n",
       "      <td>0.112867</td>\n",
       "      <td>0.017441</td>\n",
       "      <td>0.054679</td>\n",
       "      <td>0.044393</td>\n",
       "      <td>-0.023308</td>\n",
       "      <td>-0.012620</td>\n",
       "      <td>0.064634</td>\n",
       "      <td>-0.007719</td>\n",
       "      <td>-0.000639</td>\n",
       "      <td>-0.072541</td>\n",
       "      <td>0.080297</td>\n",
       "      <td>0.005182</td>\n",
       "    </tr>\n",
       "    <tr>\n",
       "      <th>1</th>\n",
       "      <td>0.045597</td>\n",
       "      <td>0.006299</td>\n",
       "      <td>-0.020639</td>\n",
       "      <td>0.021709</td>\n",
       "      <td>0.005800</td>\n",
       "      <td>0.011826</td>\n",
       "      <td>0.013992</td>\n",
       "      <td>0.002219</td>\n",
       "      <td>-0.001943</td>\n",
       "      <td>0.019928</td>\n",
       "      <td>0.010811</td>\n",
       "      <td>0.012767</td>\n",
       "      <td>0.001370</td>\n",
       "      <td>-0.019190</td>\n",
       "      <td>0.003335</td>\n",
       "      <td>0.028832</td>\n",
       "    </tr>\n",
       "    <tr>\n",
       "      <th>2</th>\n",
       "      <td>0.022289</td>\n",
       "      <td>0.002733</td>\n",
       "      <td>0.023521</td>\n",
       "      <td>0.011693</td>\n",
       "      <td>-0.020384</td>\n",
       "      <td>0.043565</td>\n",
       "      <td>0.005756</td>\n",
       "      <td>0.003390</td>\n",
       "      <td>0.039342</td>\n",
       "      <td>0.037603</td>\n",
       "      <td>-0.004972</td>\n",
       "      <td>-0.000665</td>\n",
       "      <td>-0.008117</td>\n",
       "      <td>-0.007210</td>\n",
       "      <td>-0.000579</td>\n",
       "      <td>0.023349</td>\n",
       "    </tr>\n",
       "    <tr>\n",
       "      <th>3</th>\n",
       "      <td>0.008641</td>\n",
       "      <td>0.014013</td>\n",
       "      <td>-0.014798</td>\n",
       "      <td>-0.000555</td>\n",
       "      <td>-0.055916</td>\n",
       "      <td>0.021757</td>\n",
       "      <td>0.045885</td>\n",
       "      <td>-0.049336</td>\n",
       "      <td>-0.047768</td>\n",
       "      <td>0.007352</td>\n",
       "      <td>0.017450</td>\n",
       "      <td>-0.074573</td>\n",
       "      <td>-0.027047</td>\n",
       "      <td>0.080245</td>\n",
       "      <td>0.019219</td>\n",
       "      <td>0.030354</td>\n",
       "    </tr>\n",
       "    <tr>\n",
       "      <th>4</th>\n",
       "      <td>0.022047</td>\n",
       "      <td>0.020585</td>\n",
       "      <td>-0.037268</td>\n",
       "      <td>-0.008741</td>\n",
       "      <td>-0.039036</td>\n",
       "      <td>0.027243</td>\n",
       "      <td>0.018363</td>\n",
       "      <td>-0.028632</td>\n",
       "      <td>0.000762</td>\n",
       "      <td>0.012929</td>\n",
       "      <td>0.000760</td>\n",
       "      <td>0.016936</td>\n",
       "      <td>-0.011403</td>\n",
       "      <td>-0.025269</td>\n",
       "      <td>-0.038233</td>\n",
       "      <td>0.011565</td>\n",
       "    </tr>\n",
       "  </tbody>\n",
       "</table>\n",
       "</div>"
      ],
      "text/plain": [
       "    comp_00   comp_01   comp_02   comp_03   comp_04   comp_05   comp_06  \\\n",
       "0  0.031243  0.036777 -0.029414  0.052928  0.112867  0.017441  0.054679   \n",
       "1  0.045597  0.006299 -0.020639  0.021709  0.005800  0.011826  0.013992   \n",
       "2  0.022289  0.002733  0.023521  0.011693 -0.020384  0.043565  0.005756   \n",
       "3  0.008641  0.014013 -0.014798 -0.000555 -0.055916  0.021757  0.045885   \n",
       "4  0.022047  0.020585 -0.037268 -0.008741 -0.039036  0.027243  0.018363   \n",
       "\n",
       "    comp_07   comp_08   comp_09   comp_10   comp_11   comp_12   comp_13  \\\n",
       "0  0.044393 -0.023308 -0.012620  0.064634 -0.007719 -0.000639 -0.072541   \n",
       "1  0.002219 -0.001943  0.019928  0.010811  0.012767  0.001370 -0.019190   \n",
       "2  0.003390  0.039342  0.037603 -0.004972 -0.000665 -0.008117 -0.007210   \n",
       "3 -0.049336 -0.047768  0.007352  0.017450 -0.074573 -0.027047  0.080245   \n",
       "4 -0.028632  0.000762  0.012929  0.000760  0.016936 -0.011403 -0.025269   \n",
       "\n",
       "    comp_14   comp_15  \n",
       "0  0.080297  0.005182  \n",
       "1  0.003335  0.028832  \n",
       "2 -0.000579  0.023349  \n",
       "3  0.019219  0.030354  \n",
       "4 -0.038233  0.011565  "
      ]
     },
     "execution_count": 102,
     "metadata": {},
     "output_type": "execute_result"
    }
   ],
   "source": [
    "from statsmodels.multivariate.pca import PCA\n",
    "\n",
    "X, y = data.drop(['Healthy'], axis=1), data['Healthy']\n",
    "X = PCA(X, ncomp=16).factors\n",
    "X.head()"
   ]
  },
  {
   "cell_type": "markdown",
   "metadata": {},
   "source": [
    "### Model Training and Evaluation using Principal Component Analysis"
   ]
  },
  {
   "cell_type": "code",
   "execution_count": 103,
   "metadata": {},
   "outputs": [
    {
     "name": "stdout",
     "output_type": "stream",
     "text": [
      "Accuracy:0.89937106918239\n",
      "Precision:0.9002286110426548\n",
      "Recall:0.89937106918239\n",
      "F1-score:0.8992273135669361\n"
     ]
    }
   ],
   "source": [
    "from sklearn.ensemble import RandomForestClassifier\n",
    "from sklearn.model_selection import train_test_split\n",
    "from sklearn.metrics import accuracy_score, precision_score, recall_score, f1_score\n",
    "\n",
    "X_train, X_test, y_train, y_test = train_test_split(X, y, test_size=0.3, shuffle=True, random_state=42)\n",
    "\n",
    "model = RandomForestClassifier()\n",
    "model.fit(X_train, y_train)\n",
    "\n",
    "y_pred = model.predict(X_test)\n",
    "print(\"Accuracy:\" + str(accuracy_score(y_test, y_pred)))\n",
    "print(\"Precision:\" + str(precision_score(y_test, y_pred, average='weighted')))\n",
    "print(\"Recall:\" + str(recall_score(y_test, y_pred, average='weighted')))\n",
    "print(\"F1-score:\" + str(f1_score(y_test, y_pred, average='weighted')))"
   ]
  },
  {
   "cell_type": "markdown",
   "metadata": {},
   "source": [
    "### Feature Selection"
   ]
  },
  {
   "cell_type": "code",
   "execution_count": 104,
   "metadata": {},
   "outputs": [],
   "source": [
    "class FeatureSelection:\n",
    "    def __init__(self, data, clabel, oversample) -> None:\n",
    "        X, y = data.drop(clabel, axis=1), data[clabel]\n",
    "        self.clabel = clabel\n",
    "        features = {_ for _ in data.columns}\n",
    "        features.remove(clabel)\n",
    "        self.features = features\n",
    "\n",
    "        if oversample:\n",
    "            over = RandomOverSampler()\n",
    "            X, y = over.fit_resample(X,y)\n",
    "        \n",
    "        scaler = StandardScaler()\n",
    "        X = pd.DataFrame(scaler.fit_transform(X), columns=list(features))\n",
    "\n",
    "        self.X_train, self.X_test, self.y_train, self.y_test = train_test_split(X,y, test_size=0.2, shuffle=True, random_state=42)\n",
    "        \n",
    "    def wrapper(self, feature_subset):\n",
    "        model = RandomForestClassifier(max_depth=16)\n",
    "        model.fit(self.X_train[list(feature_subset)],self.y_train)\n",
    "        y_pred=model.predict(self.X_test[list(feature_subset)])\n",
    "        return accuracy_score(self.y_test,y_pred)\n",
    "    \n",
    "    def sfs(self, count, keep=set()):\n",
    "        feature_subset = keep.copy()\n",
    "        feature_set = self.features.copy() - keep\n",
    "        \n",
    "        if len(feature_set)==0:\n",
    "            return (feature_subset, self.wrapper(feature_subset))\n",
    "        \n",
    "        accuracy = 0\n",
    "        for _ in range(0,count):\n",
    "            best_attribute = \"\"\n",
    "            best_report = 0\n",
    "            for attribute in feature_set:\n",
    "                feature_subset.add(attribute)\n",
    "                report = self.wrapper(feature_subset)*100\n",
    "                if report > best_report:\n",
    "                    best_attribute=attribute\n",
    "                    best_report=report\n",
    "                feature_subset.remove(attribute)\n",
    "            \n",
    "            accuracy = best_report\n",
    "            feature_subset.add(best_attribute)\n",
    "            feature_set.remove(best_attribute)\n",
    "\n",
    "        return (feature_subset, accuracy)\n",
    "    \n",
    "    def sbr(self, count, fromset=set()):\n",
    "        if len(fromset)==1:\n",
    "            return (set(), 0)\n",
    "        \n",
    "        feature_set = self.features.copy() if len(fromset)==0 else fromset\n",
    "        feature_subset = feature_set.copy()\n",
    "        for _ in range(0,len(feature_set)-count):\n",
    "            worst_attribute = \"\"\n",
    "            best_report = 0\n",
    "            for attribute in feature_subset:\n",
    "                feature_subset.remove(attribute)\n",
    "                report = self.wrapper(feature_subset)*100\n",
    "                if report > best_report:\n",
    "                    worst_attribute=attribute\n",
    "                    best_report=report\n",
    "                feature_subset.add(attribute)\n",
    "\n",
    "            feature_subset.remove(worst_attribute)\n",
    "\n",
    "        accuracy = self.wrapper(feature_subset)*100\n",
    "        return (feature_subset, accuracy)\n",
    "    \n",
    "    def lrs(self, count, l, r):\n",
    "        feature_set = self.features.copy()\n",
    "        if l>r:\n",
    "            feature_subset=set()\n",
    "            while len(feature_subset)<count:\n",
    "                feature_subset = self.sfs(l, keep=feature_subset)[0]\n",
    "                feature_subset = self.sbr(len(feature_subset)-r, fromset=feature_subset)[0]\n",
    "                feature_set=feature_set-feature_subset\n",
    "            \n",
    "            accuracy = self.wrapper(feature_subset)*100\n",
    "            return (feature_subset, accuracy)\n",
    "        else:\n",
    "            feature_subset=feature_set.copy()\n",
    "            while len(feature_subset)>count:\n",
    "                temp_subset = self.sbr(len(feature_subset)-r)[0]\n",
    "                feature_set = feature_set | (feature_subset-temp_subset)\n",
    "                feature_subset = temp_subset\n",
    "                temp_subset = self.sfs(l, feature_subset)[0]\n",
    "                feature_set = feature_set - (temp_subset-feature_subset)\n",
    "                feature_subset = temp_subset\n",
    "\n",
    "            accuracy = self.wrapper(feature_subset)*100\n",
    "            return (feature_subset, accuracy)\n",
    "        \n",
    "    def sffs(self, count):\n",
    "        feature_subset = set()\n",
    "        while len(feature_subset)<count:\n",
    "            feature_subset, accuracy = self.sfs(1, keep=feature_subset)\n",
    "            prev_acc = 0\n",
    "            while accuracy > prev_acc:\n",
    "                prev_acc = accuracy\n",
    "                temp_subset, temp_acc = self.sbr(len(feature_subset)-1, fromset=feature_subset)\n",
    "                if temp_acc>accuracy:\n",
    "                    accuracy = temp_acc\n",
    "                    feature_subset = temp_subset\n",
    "            \n",
    "        return (feature_subset, self.wrapper(feature_subset)*100)\n",
    "\n",
    "    def sfbr(self, count):\n",
    "        feature_subset = self.features.copy()\n",
    "        while len(feature_subset)>count:\n",
    "            feature_subset, accuracy = self.sbr(len(feature_subset)-1, fromset=feature_subset)\n",
    "            prev_acc = 0\n",
    "            while accuracy > prev_acc:\n",
    "                prev_acc = accuracy\n",
    "                temp_subset, temp_acc = self.sfs(1, keep=feature_subset)\n",
    "                if temp_acc>accuracy:\n",
    "                    accuracy = temp_acc\n",
    "                    feature_subset = temp_subset\n",
    "        \n",
    "        return (feature_subset, self.wrapper(feature_subset)*100)"
   ]
  },
  {
   "cell_type": "code",
   "execution_count": 105,
   "metadata": {},
   "outputs": [],
   "source": [
    "fs = FeatureSelection(data, \"Healthy\", False)\n",
    "feature_subset = fs.sffs(3)[0]"
   ]
  },
  {
   "cell_type": "code",
   "execution_count": 106,
   "metadata": {},
   "outputs": [
    {
     "data": {
      "text/plain": [
       "{8, 12, 20}"
      ]
     },
     "execution_count": 106,
     "metadata": {},
     "output_type": "execute_result"
    }
   ],
   "source": [
    "feature_subset"
   ]
  },
  {
   "cell_type": "markdown",
   "metadata": {},
   "source": [
    "### Model Training and Evaluation with Feature Selection"
   ]
  },
  {
   "cell_type": "code",
   "execution_count": 107,
   "metadata": {},
   "outputs": [
    {
     "name": "stdout",
     "output_type": "stream",
     "text": [
      "Accuracy:0.9245283018867925\n",
      "Precision:0.9254900310758745\n",
      "Recall:0.9245283018867925\n",
      "F1-score:0.9244204851752021\n"
     ]
    }
   ],
   "source": [
    "from sklearn.ensemble import RandomForestClassifier\n",
    "from sklearn.model_selection import train_test_split\n",
    "from sklearn.metrics import accuracy_score, precision_score, recall_score, f1_score\n",
    "\n",
    "X, y = data.drop(['Healthy'], axis=1), data['Healthy']\n",
    "X_train, X_test, y_train, y_test = train_test_split(X[[num for num in feature_subset]], y, test_size=0.3, shuffle=True, random_state=42)\n",
    "\n",
    "model = RandomForestClassifier()\n",
    "model.fit(X_train, y_train)\n",
    "\n",
    "y_pred = model.predict(X_test)\n",
    "print(\"Accuracy:\" + str(accuracy_score(y_test, y_pred)))\n",
    "print(\"Precision:\" + str(precision_score(y_test, y_pred, average='weighted')))\n",
    "print(\"Recall:\" + str(recall_score(y_test, y_pred, average='weighted')))\n",
    "print(\"F1-score:\" + str(f1_score(y_test, y_pred, average='weighted')))"
   ]
  },
  {
   "cell_type": "markdown",
   "metadata": {},
   "source": [
    "### Visualizing the Healthy and Unhealthy Waveforms using K-Means"
   ]
  },
  {
   "cell_type": "code",
   "execution_count": 108,
   "metadata": {},
   "outputs": [],
   "source": [
    "from sklearn.cluster import KMeans\n",
    "import plotly.express as px\n",
    "import plotly.graph_objects as go"
   ]
  },
  {
   "cell_type": "code",
   "execution_count": 109,
   "metadata": {},
   "outputs": [],
   "source": [
    "kmeans_model = KMeans(n_clusters=2, init='k-means++',  max_iter=500, random_state=42, n_init=10)\n",
    "kmeans_model.fit_predict(data[[num for num in feature_subset]])\n",
    "cluster_centers = kmeans_model.cluster_centers_\n",
    "pdata = np.expm1(cluster_centers)\n",
    "points = np.append(pdata, cluster_centers, axis=1)\n",
    "points = np.append(points, [[0],[1]], axis=1)\n",
    "data[\"cluster\"] = kmeans_model.labels_"
   ]
  },
  {
   "cell_type": "code",
   "execution_count": 110,
   "metadata": {},
   "outputs": [],
   "source": [
    "if 2*sum(data['Healthy']==data['cluster'].astype(int)) < len(data):\n",
    "    data[\"cluster\"] = [int(not num) for num in list(data['cluster'])]"
   ]
  },
  {
   "cell_type": "code",
   "execution_count": 111,
   "metadata": {},
   "outputs": [
    {
     "data": {
      "text/plain": [
       "70"
      ]
     },
     "execution_count": 111,
     "metadata": {},
     "output_type": "execute_result"
    }
   ],
   "source": [
    "round(sum(data['Healthy']==data['cluster'].astype(int))/len(data)*100)"
   ]
  },
  {
   "cell_type": "markdown",
   "metadata": {},
   "source": [
    "#### Thus 70% of the classification can be explained by the 8th, 12th and 20th harmonics"
   ]
  },
  {
   "cell_type": "markdown",
   "metadata": {},
   "source": [
    "### Clustering based on the Cluster Labels"
   ]
  },
  {
   "cell_type": "code",
   "execution_count": 113,
   "metadata": {},
   "outputs": [
    {
     "data": {
      "application/vnd.plotly.v1+json": {
       "config": {
        "plotlyServerURL": "https://plot.ly"
       },
       "data": [
        {
         "marker": {
          "color": "red",
          "size": 10,
          "symbol": "circle"
         },
         "mode": "markers",
         "name": "Unhealthy",
         "type": "scatter3d",
         "x": [
          0.004445712260566353,
          0.0010716071771443032,
          0.0014496230186457724,
          0.0015716263200589822,
          0.006400237131705846,
          0.0007872900504490435,
          0.0011365210238296133,
          0.004005515612201248,
          0.0009704511789467526,
          0.0018171386387258906,
          0.0015112938267998405,
          0.002278560958503154,
          0.0009248734673920064,
          0.000657105220373416,
          0.0008119146883104426,
          0.0002971216715566477,
          0.0000830428880405518,
          0.007503421989211428,
          0.003162945914349176,
          0.0018275686177359632,
          0.00040773060720038847,
          0.0009700176727309362,
          0.0001241843266029707,
          0.0028057152643860828,
          0.00042338426960643034,
          0.0012232507663080085,
          0.006284165159112409,
          0.0007882480104113122,
          0.00008877623475175198,
          0.002052888843578411,
          0.004600199783419793,
          0.004660221990521505,
          0.00008947857736581236,
          0.0022210164519149544,
          0.00013883197796054727,
          0.0008936803014196943,
          0.0016903860243877784,
          0.00021012951282827464,
          0.004661224167122807,
          0.0022905404427299102,
          0.004127290365142619,
          0.0003647887477904902,
          0.001512451844846365,
          0.005552076400726554,
          0.00009034552347924699,
          0.005574474512979469,
          0.0003020721316985311,
          0.008317095299243484,
          0.0003432468252445971,
          0.001708684018706959,
          0.005736880798663973,
          0.004600187337223702,
          0.0008582427324601938,
          0.001070923639039416,
          0.0013145707273245389,
          0.001813963514663988,
          0.004018489690047795,
          0.001627575065578925,
          0.000978790575908592,
          0.0008115285864144754,
          0.0011543244337583105,
          0.0006493803544159913,
          0.0013502669879392833,
          0.0011516268687221168,
          0.004125724272799218,
          0.001130758758657798,
          0.0015748660079004549,
          0.0021381101063557098,
          0.0018208776917897772,
          0.006605893799678513,
          0.009058635845885869,
          0.0009752753470222167,
          0.00026829183408195176,
          0.0003446248797551895,
          0.0014487764206731978,
          0.0002956604859677646,
          0.0031450056040226116,
          0.016193627473665335,
          0.009526342936702233,
          0.0028058251194875558,
          0.0013491983100204995,
          0.00021235346342208841,
          0.00628435552136386,
          0.0013170859295057824,
          0.0019408484703086564,
          0.004446890881147587,
          0.009527203862457997,
          0.0022283164671248906,
          0.00905931269671153,
          0.008317602071426641,
          0.007504557925548483,
          0.0003700598068621608,
          0.00026748095018585595,
          0.00020360415128470414,
          0.002054990054862537,
          0.0003906089026407507,
          0.016191441043736567,
          0.000976565100895365,
          0.0008568293336483373,
          0.00042339192098990745,
          0.00661379147398704,
          0.0021377922426571733,
          0.006398002825622347,
          0.001055486788203462,
          0.0057373615811276285,
          0.0009746542511721868,
          0.0012246035391501845,
          0.0019419293372227645,
          0.001059097202817443,
          0.001625260949668461,
          0.0002137508458226238,
          0.00029400962977505705
         ],
         "y": [
          0.0015548822796427556,
          0.002519206806291513,
          0.0018469519333860294,
          0.00042922547592140736,
          0.0011526761423278082,
          0.0002553464324675706,
          0.0009432790943189772,
          0.025182207621331446,
          0.0004906895763501162,
          0.0016947513088850564,
          0.0001966242495268098,
          0.0003633423313326766,
          0.0010037115513003593,
          0.001272889012324386,
          0.0007471842260960238,
          0.00023832989603044923,
          0.0003178192359118427,
          0.0009327091900032667,
          0.004300200530190861,
          0.0006103663611756808,
          0.00034668532095650546,
          0.0004902217718815391,
          0.001759868913050458,
          0.006574006478578739,
          0.00047171089800510763,
          0.0001837552262453256,
          0.0002658248088789067,
          0.00025393230750112955,
          0.00014327404932908757,
          0.000402903582341905,
          0.0005973333498708192,
          0.0004254652287424091,
          0.00031132230601310407,
          0.0007612086505784076,
          0.001769612168545558,
          0.0010263005354210386,
          0.005373574405666191,
          0.0023443609929924775,
          0.00042472543855307014,
          0.0003668813879423893,
          0.0010390313208971137,
          0.0016946516903836013,
          0.0001970406615864469,
          0.0004929934466756603,
          0.0001417362196966627,
          0.00048780837627094415,
          0.0015726278991360482,
          0.0007780952561454312,
          0.00044988923609669935,
          0.005358738037526208,
          0.0010792994484982714,
          0.0005975257453892792,
          0.0006289424469594816,
          0.0025195816730896876,
          0.0003143496630804246,
          0.0006151800105559977,
          0.0251691601164042,
          0.000509242555727072,
          0.0019511105981968846,
          0.0007476193419246509,
          0.000840282153624646,
          0.0012761335931059585,
          0.0008890264260898352,
          0.0008432422973960502,
          0.0010419542650144753,
          0.0009540630293913201,
          0.00042550254243866004,
          0.0004387294423240566,
          0.0016910618987002345,
          0.0003570111905865615,
          0.002426260113412735,
          0.0004933902744892816,
          0.0009141383908388369,
          0.0004482065308636326,
          0.0018480575790749015,
          0.00156961195290017,
          0.00431630597989198,
          0.011104165910417468,
          0.0027472707437053386,
          0.006573003225107577,
          0.0008886060107327443,
          0.0010135806897821934,
          0.0002657289463753434,
          0.00031648771218471534,
          0.0004087893700766341,
          0.0015553808116702567,
          0.002747470779970876,
          0.0007539282430250454,
          0.0024270544994686367,
          0.0007780582912729443,
          0.0009345153254090786,
          0.0016949379871781538,
          0.0009147995424421229,
          0.0023466490249226426,
          0.0004010494024767458,
          0.0003530476480944245,
          0.01108874904702943,
          0.0019535520048953366,
          0.0006282894454328276,
          0.00047131148886622867,
          0.00036149542762214015,
          0.000439257584865197,
          0.0011498177523443975,
          0.02495964494124139,
          0.0010794430014843964,
          0.0004935160612132588,
          0.00018485581835994366,
          0.0004093807496655225,
          0.024958097920226067,
          0.0005094492256397242,
          0.001009969339079864,
          0.00024386558880881153
         ],
         "z": [
          0.023867790950866476,
          0.023953804117097875,
          0.02329625676340014,
          0.022488977226598886,
          0.02352665525777928,
          0.016581820853346533,
          0.019012579754636195,
          0.01916725248016144,
          0.023273802341803648,
          0.024329431062846258,
          0.02681039551179636,
          0.024998210068350762,
          0.02433448783960875,
          0.02951420484471626,
          0.02175274232114738,
          0.0262383688240138,
          0.01597453743941635,
          0.023188039708954115,
          0.025866975827118374,
          0.026355699430189276,
          0.024581676566186542,
          0.02326599674886252,
          0.026085795854021366,
          0.02604561774307776,
          0.01642861571718139,
          0.02393248999329956,
          0.02220789573243703,
          0.016586102919829888,
          0.03906897661155978,
          0.02403644230670005,
          0.019097639875713238,
          0.025801948379873353,
          0.015979590274327455,
          0.0231037890054383,
          0.026105084234128908,
          0.024352846201532472,
          0.02525949777169348,
          0.02421580269339301,
          0.025809530258863508,
          0.025012243302196622,
          0.025548153770062306,
          0.021584166680469488,
          0.026803332115245673,
          0.021352938152516817,
          0.039056968522102456,
          0.021383641478320024,
          0.02324168372335277,
          0.02765350989100291,
          0.019524756048505672,
          0.02527411257493977,
          0.02272656867967229,
          0.0191037974144943,
          0.022978914267298846,
          0.023946536674686245,
          0.02746994126764642,
          0.02637495323265178,
          0.019160179356024206,
          0.02433741308196042,
          0.02404227471886709,
          0.02174557875818021,
          0.027375528296986272,
          0.029495566669865986,
          0.026716782533429916,
          0.02738283530055931,
          0.025540040091835817,
          0.018994698201588472,
          0.02247736197286736,
          0.025631943615398615,
          0.02432510377187587,
          0.02224353530113243,
          0.024024423870486207,
          0.024761357866658625,
          0.02461642812776773,
          0.019518007504353254,
          0.023303139469712825,
          0.0232280270710436,
          0.025847774568340084,
          0.01624574054705074,
          0.021980620708596674,
          0.02603752540361785,
          0.026708904037209533,
          0.023837321130623527,
          0.022214827521152686,
          0.027458286532811457,
          0.018707771706920458,
          0.023873566216774902,
          0.021987563922096977,
          0.02311026251591452,
          0.024017402281985446,
          0.027662342933709932,
          0.023195448094577985,
          0.02158769291386278,
          0.024609150653268436,
          0.024215729659405032,
          0.024026898930629682,
          0.02455499252914128,
          0.016230602711576527,
          0.024036596288537878,
          0.022972237372681788,
          0.016433296659904263,
          0.022243172364914802,
          0.02562562162931867,
          0.023535412452566743,
          0.02294507409010778,
          0.022734156648940695,
          0.02475243447136364,
          0.023923166342618634,
          0.018701262360273977,
          0.022948790435883264,
          0.02434867148130515,
          0.02384109000794286,
          0.026258836441522687
         ]
        },
        {
         "marker": {
          "color": "green",
          "size": 10,
          "symbol": "circle"
         },
         "mode": "markers",
         "name": "Healthy",
         "type": "scatter3d",
         "x": [
          0.004757698665947375,
          0.002237335384521354,
          0.0008368175519228194,
          0.0018041641093889864,
          0.001739818306218773,
          0.005706576082618345,
          0.0006147886558516637,
          0.005694063395982972,
          0.0012439764514792305,
          0.002095986623356754,
          0.001606132583762162,
          0.001414121700231663,
          0.0018463424545457038,
          0.00027815680773063205,
          0.0010357927512429546,
          0.0021137815345254976,
          0.000974847108036593,
          0.006692250888870314,
          0.00011214131803975456,
          0.0024942429705960404,
          0.0000708080732244783,
          0.0011448946507174322,
          0.00848502692015514,
          0.004757928152624026,
          0.002116951703379363,
          0.00021864222092685354,
          0.0017342512934902519,
          0.004791115916849388,
          0.0009865786911486662,
          0.0003909094672407047,
          0.0024148720603409304,
          0.0027999677132577064,
          0.002455286061450706,
          0.0011377962230526945,
          0.00026641609163837176,
          0.004241898500232418,
          0.002927408081303603,
          0.0009719215052274244,
          0.0018100727564140217,
          0.0035214223573011992,
          0.002078185385525938,
          0.002084905189120847,
          0.004671983707427632,
          0.00013940394973928558,
          0.00047580470394971306,
          0.0002898526033769172,
          0.0026630230494966486,
          0.0015686794757256125,
          0.0009981676743953925,
          0.0022034205480406465,
          0.0006447990205306572,
          0.0011458245618311518,
          0.004886529647796914,
          0.00048760537231098695,
          0.000044366401902357763,
          0.01136644542786597,
          0.001236317419913148,
          0.0015953728488492188,
          0.0015924254520754068,
          0.0051539276774970845,
          0.0004353904160729579,
          0.0020637615664333892,
          0.00570443346392412,
          0.007627248423450854,
          0.0003958789485750647,
          0.0011113316137458084,
          0.003988232181883385,
          0.0023698358076732796,
          0.0007164472726360539,
          0.0012317779172656856,
          0.0007676599374227575,
          0.0002817632181263712,
          0.00018014518730881192,
          0.006136500919336008,
          0.0035210706445941427,
          0.00004747969177661203,
          0.0005249885090021307,
          0.0026663442594680566,
          0.013712095017041835,
          0.004025750159816501,
          0.00625305179844826,
          0.0020990195758524475,
          0.0016634454720360575,
          0.0016327520851924851,
          0.002020538256318433,
          0.001089067889124747,
          0.007594705795632886,
          0.0015797334681144607,
          0.006103531600687546,
          0.0007278331612456761,
          0.0035512955045971365,
          0.003962530254140509,
          0.002515580856811698,
          0.004391562056900285,
          0.0051681720751899024,
          0.002116145430605129,
          0.000939176118221298,
          0.004896982173567708,
          0.004238796693325158,
          0.0009777336441834253,
          0.0022123461575411117,
          0.012351688012867063,
          0.002498026349205013,
          0.024472286501857426,
          0.00005586854509840982,
          0.0015396024052907618,
          0.00126467681733723,
          0.0018477864838193597,
          0.0028056152298414974,
          0.00031608517333844296,
          0.0016160271628230475,
          0.00047599705930893263,
          0.003143280963474286,
          0.009793494799803897,
          0.00009122260134403287,
          0.0006098761448624879,
          0.0029004215597523905,
          0.004684363515761171,
          0.006427971325556595,
          0.0018278324932503502,
          0.0009318885364585338,
          0.0021033525512775338,
          0.0076796920074784026,
          0.0005741940738598487,
          0.0008783410333306308,
          0.009794191171247838,
          0.0020805521654723006,
          0.0006588381555311986,
          0.0012452084592102575,
          0.002061906607369498,
          0.0006111652208149335,
          0.0019147751869704923,
          0.007685889269000555,
          0.0007678298951004672,
          0.0009587361735305863,
          0.0023681465665053828,
          0.00002076469210394942,
          0.0017840884418810802,
          0.010610631765502556,
          0.002475128230444569,
          0.003951815194336065,
          0.007674183303225894,
          0.00018471147651305953,
          0.0003114342218660276,
          0.00013041621767571977,
          0.0008855208410729985,
          0.00038908604478621333,
          0.00011218984500271845,
          0.0024926146279090683,
          0.0009740353013124603,
          0.0010266887512182864,
          0.00029144423970328817,
          0.0027385781828714382,
          0.0002443130698149482,
          0.0037888001217204047,
          0.0011425880198505458,
          0.0008996573654426941,
          0.0011584524843487156,
          0.001395851976288107,
          0.006134321154576238,
          0.00022538852292444656,
          0.002928244300904307,
          0.0037632425027659634,
          0.004396922651783471,
          0.0017422903813194288,
          0.0028613012140316406,
          0.002421676088805343,
          0.0008580994586821612,
          0.007242665210941046,
          0.00066618176555756,
          0.006457594605634641,
          0.0012413979056261364,
          0.001566513476396689,
          0.006376009037766759,
          0.0022362396426417,
          0.003654135029518108,
          0.01410649296649971,
          0.0025772900214811826,
          0.004921910209259321,
          0.0024234536220153926,
          0.00039070526751540694,
          0.002119523620874546,
          0.0004914771661784327,
          0.011370817885041839,
          0.002496479387425155,
          0.020383707154316873,
          0.009307517601296514,
          0.024470377874244643,
          0.0015641659031639544,
          0.00013944920188245288,
          0.00031259641985753605,
          0.0028362907354369566,
          0.00007765368275510883,
          0.0025642519773409474,
          0.0006931701000495385,
          0.0026534713599009867,
          0.00018241535117910764,
          0.00027322211576156423,
          0.0008638814801721,
          0.0015759618168392604,
          0.005508812765162259,
          0.008478947903157914,
          0.00012729745742273807,
          0.00006121887721523549,
          0.003326103789844087,
          0.0015791101438995714,
          0.0015387943727385692,
          0.019429423035777636,
          0.0008628581341057959,
          0.0018255205347439117,
          0.002487678004191283,
          0.010948892858489405,
          0.0035553214425105245,
          0.0010964910909176003,
          0.0014239220258258592,
          0.0008812695102347597,
          0.0016654320915450416,
          0.000886929933481878,
          0.0020731327005231574,
          0.0024498407730171217,
          0.006427101197156898,
          0.0008930949943354283,
          0.0000787935546472983,
          0.0014063731327802424,
          0.0007018653164971187,
          0.009309437030851042,
          0.0005768535361018634,
          0.003642135775345186,
          0.003524680481118479,
          0.0012348872982454698,
          0.002182799058275086,
          0.012504301438283068,
          0.00047613524576280126,
          0.00014082665026253775,
          0.009376516313681797,
          0.00721389316819575,
          0.000958195121340537,
          0.007599210230713464,
          0.0014260304881498493,
          0.0026106849993978586,
          0.00007073949679593027,
          0.0037241786275709686,
          0.006101922003413431,
          0.006695533140195704,
          0.00024156356203520183,
          0.00030485629835266077,
          0.00005579858707996283,
          0.00009973595397561017,
          0.0008994863213166839,
          0.007083645370661028,
          0.029081801948538884,
          0.00044017071811401545,
          0.0002424121276618318,
          0.0010425352388789926,
          0.0001632084594528083,
          0.007652844512670811,
          0.0007338351667901898,
          0.001577602011253089,
          0.00044765573933695243,
          0.0017094761382786907,
          0.0015644656229700706,
          0.002020064842641811,
          0.029075721023785098,
          0.002454762185799603,
          0.0017470955828308664,
          0.00026638322043857253,
          0.0009620381643069742,
          0.010611373399428168,
          0.0033062860199210235,
          0.002661710252409981,
          0.00036105730620294773,
          0.0002427775798209059,
          0.0012383361542738613,
          0.0007258841689451216,
          0.0004915528896646713,
          0.0024061083784143273,
          0.0002590631902124547,
          0.0002194435474809829,
          0.00028145863616106534,
          0.0005913119200308996,
          0.00658546657204298,
          0.000835229499826427,
          0.00009195743343321806,
          0.0076232189621518245,
          0.0002729030266554317,
          0.00496217009721009,
          0.0006583365790439272,
          0.0037036091048992096,
          0.00007043751715869116,
          0.0007217249661086538,
          0.00005559916374396341,
          0.0008888473273730359,
          0.0006929846439560471,
          0.001113146027215742,
          0.002918122645832397,
          0.00044276757154872284,
          0.00016101359815796657,
          0.00031425085351900436,
          0.0001140049110613754,
          0.003726996737424645,
          0.00008793927827766286,
          0.003708980599181452,
          0.003517871379550641,
          0.00080990486759138,
          0.013720280344839443,
          0.00023985018219681113,
          0.004965308826483897,
          0.00028571154467954064,
          0.0010239845158346646,
          0.003146739214997379,
          0.006453579784041236,
          0.0024796274296432536,
          0.004740987393611696,
          0.0022090168658099566,
          0.0002898223931975106,
          0.007401332062951412,
          0.0016336636714154736,
          0.0062520887930015735,
          0.0020659447987974467,
          0.0006060045053892907,
          0.0006912660429310323,
          0.0026570766045244166,
          0.0009339164506081767,
          0.0001146894477586593,
          0.004225339827428855,
          0.0005911357742072264,
          0.0016045516077373143,
          0.0011590441613965232,
          0.000946916856415141,
          0.0008614272160043526,
          0.004241684148833962,
          0.00013969454481916,
          0.007596012911942644,
          0.012353737655342588,
          0.00139236214896389,
          0.0006151954780661506,
          0.02037479844920072,
          0.002615897116836286,
          0.00018166524995366556,
          0.00038390394921789255,
          0.0006081541091988175,
          0.0006636788008738161,
          0.0008072828108644224,
          0.0026652165103642064,
          0.0012453240205032206,
          0.002092005849472555,
          0.0017037973305125706,
          0.00022520917654236778,
          0.0021727784591161173,
          0.019418704468487858,
          0.005688917962808533,
          0.0022086850324640624,
          0.0018937902234416179,
          0.0024905052238639513,
          0.003975516255378496,
          0.0000977081613894785,
          0.004910086511646787,
          0.0001489068871833227,
          0.00220631894872588,
          0.0001726547686314623,
          0.006373045484402797,
          0.0022073166089393564,
          0.00625297457610946,
          0.007079384181413596,
          0.0008366886494713337,
          0.010951590499591173,
          0.00027810595663050605,
          0.0027416510808883684,
          0.0016165027420847562,
          0.00009291634524849605,
          0.012502263465512916,
          0.014106631588163153,
          0.0001808847802221859,
          0.022478732328306796,
          0.0040286191191973774,
          0.00026078923747818467,
          0.00024061010326886434,
          0.0009871705138274195,
          0.0017839008571667236,
          0.0006902528506652073,
          0.009379237515749154,
          0.0037873587953881752,
          0.0012554900350963836,
          0.002545656815362253,
          0.000763659961533238,
          0.0005243037215701568,
          0.00004150818742500026,
          0.0008361223188528905,
          0.0007701429410211923,
          0.0037691966570337905,
          0.00005548467900749773,
          0.00028829431026554386,
          0.006589031278773483,
          0.022483146552428012,
          0.002556920490753895,
          0.002454857645276558,
          0.004790183509995284,
          0.005508496170783637,
          0.006231788341500622,
          0.0009643946019035004,
          0.0007344406248905035,
          0.0007031456906359731,
          0.0014059317791399344,
          0.00007307193017116772,
          0.002064652313633837,
          0.000020489254302118646,
          0.0025063893856339015,
          0.000041493675634459645,
          0.004739569633657545,
          0.0014190462976233446,
          0.007401195926618126,
          0.0001373503442302684,
          0.0009917077734834915,
          0.0006518229109547574,
          0.007596036538014238,
          0.00005952476167778893
         ],
         "y": [
          0.00007455742986857834,
          0.000911882894313903,
          0.0020914162696299044,
          0.001294643528914719,
          0.0006357763565131737,
          0.0050872535747446615,
          0.0019183751826591887,
          0.0015732665646817552,
          0.0017807678264252353,
          0.0016384954175469354,
          0.0025395094657993072,
          0.0015041759643881427,
          0.0015049276414417713,
          0.0007365846502226462,
          0.009005674932293133,
          0.000714199543694897,
          0.008671368315465063,
          0.002691832353705394,
          0.0067783521112627565,
          0.0008700324447731561,
          0.004891490020595081,
          0.0004765225199616026,
          0.0007068823068880831,
          0.00007515738332742495,
          0.0002774171824369497,
          0.014356959527124442,
          0.0006450586411667199,
          0.0019905708121359823,
          0.0008302253137905754,
          0.00008784433790730845,
          0.0017365702698404636,
          0.000769174003892205,
          0.0007619875066333698,
          0.0006038110177638663,
          0.00007267135249176491,
          0.0025295204704865876,
          0.0004624137998146824,
          0.0016771356417615657,
          0.0012888307213722572,
          0.0010981842989660584,
          0.0008388806268657533,
          0.0015766291683916905,
          0.007508661775662256,
          0.0006777000079751933,
          0.0008154472419345552,
          0.00019744835259666063,
          0.0022226588724716715,
          0.0004975587576342344,
          0.0023418280891677494,
          0.0007048409722901882,
          0.00214413070269883,
          0.00047544131502423907,
          0.0011896703194285772,
          0.0010809337293795271,
          0.0052953598679725015,
          0.0010821342018850254,
          0.0005216716460464658,
          0.0034159983410195537,
          0.003418551358695605,
          0.006837881535137369,
          0.00039951915531336317,
          0.0019406522403814187,
          0.005077686346883043,
          0.00006019677252958356,
          0.001852908207729468,
          0.000045140895411299006,
          0.008233866511243746,
          0.0004576436731379476,
          0.005626569392856068,
          0.00033918381928282757,
          0.0017789250851851116,
          0.00018100282685814162,
          0.0004412213574209039,
          0.0010134208431810063,
          0.0004081976038453001,
          0.005294568399232542,
          0.0003387699897862766,
          0.0022243194797598666,
          0.00023980100430754777,
          0.001979440403492449,
          0.007598164256155327,
          0.0010456255032469037,
          0.0008945205902024874,
          0.0012086767030090003,
          0.0007408590908048657,
          0.0005072226269108916,
          0.0007734534550029935,
          0.00039205220688187854,
          0.006709733778753583,
          0.0018974781549352827,
          0.0034463639826472943,
          0.0005205550179038836,
          0.0016587314421754255,
          0.00512182577485642,
          0.006825236238921548,
          0.0007110855534413004,
          0.0005263611829029853,
          0.0011986197976625221,
          0.03409776336895322,
          0.008670047001193988,
          0.0007025948243101649,
          0.00021296636539864654,
          0.00042992051082990103,
          0.00209868862472515,
          0.012141819804518344,
          0.0023394227335535715,
          0.001881544081094537,
          0.0015039205259475797,
          0.0007633805900836729,
          0.0006743311984322569,
          0.0018199840447513072,
          0.000815839444371405,
          0.0009647856149117681,
          0.0018924401829856325,
          0.000265842161212343,
          0.047556523417267786,
          0.0029080283145351987,
          0.00750164720286001,
          0.0018503306422636182,
          0.0006920405086187388,
          0.0006664185833033596,
          0.0016341941170656738,
          0.0008575720956763551,
          0.001493445233899693,
          0.00984053916844289,
          0.0018933281529679772,
          0.0015798057529209312,
          0.0004681581705009736,
          0.000829812651902967,
          0.0007694852474104025,
          0.0013203947349798714,
          0.00044561381593949515,
          0.004155160242869681,
          0.00177899675126799,
          0.01088451156272048,
          0.0004599090997802696,
          0.013382034516300547,
          0.003685675722230234,
          0.0056971896605108145,
          0.006029667489493765,
          0.0004900358073562315,
          0.0008622850898479278,
          0.00039097840918700123,
          0.0006794973722771915,
          0.013626911651573334,
          0.0025293858393392824,
          0.001025921686119862,
          0.0067790191171668655,
          0.0002405222300219675,
          0.010873045912598205,
          0.004531481248039022,
          0.0002965488445048999,
          0.0013523297299749793,
          0.0005662683671771799,
          0.0007122482200798668,
          0.000605114751626981,
          0.0009355703061500535,
          0.008823870778712726,
          0.0006598411343630612,
          0.0010170489427218509,
          0.04256001229299882,
          0.0004621111503809306,
          0.001192802909930681,
          0.005116805100314495,
          0.0001709875799826898,
          0.0030190062707949753,
          0.001691134635537549,
          0.0030954725428712217,
          0.0010794253720091624,
          0.0004646036524744257,
          0.00065543444653615,
          0.0017822241261439323,
          0.0007997331531581978,
          0.00022949872133634988,
          0.00091232535766891,
          0.03102345513488329,
          0.0000830586549860044,
          0.006865723857545562,
          0.0007386331004593621,
          0.00168941271518359,
          0.00008759634903801863,
          0.0002710438856111981,
          0.0010832564134565068,
          0.001084519221757116,
          0.0008701822927710584,
          0.0006233678305069038,
          0.00015441052852644966,
          0.002098929216580751,
          0.0006059625880748232,
          0.00014046643735301628,
          0.0002137791079065224,
          0.0030197151156783576,
          0.0033957999697630677,
          0.0011353833302165427,
          0.0029029670466041184,
          0.0009417300502564942,
          0.00044241211791735377,
          0.00014805460021643377,
          0.009936102990258183,
          0.0005059549496491218,
          0.0010543509861440277,
          0.0007072516251308666,
          0.013626177849400949,
          0.003247745350344482,
          0.00931042492672038,
          0.0008016703967159655,
          0.002340207070337928,
          0.003029571520840824,
          0.00993853011179562,
          0.0006957992042737416,
          0.0004387010459227671,
          0.0013926390755644132,
          0.00344658253147821,
          0.0005017697668714097,
          0.00036400390193853645,
          0.009837071289178451,
          0.0008931171458575033,
          0.002124970498950475,
          0.0008437683820709715,
          0.0007579101706602373,
          0.0018502494021502426,
          0.0025214748361297584,
          0.0033963136917119535,
          0.000128218394950014,
          0.000741582936307679,
          0.00015599265279639057,
          0.0014916937918656576,
          0.03102956919897801,
          0.00040733500917527056,
          0.00034182392142631437,
          0.0009638262501402773,
          0.0018793342339755593,
          0.0011633003917585348,
          0.0002307146985870603,
          0.0004623445698911604,
          0.0011086215006254382,
          0.0003977491767387432,
          0.0006064797360829608,
          0.00036197389390657026,
          0.0004790513801572021,
          0.004892250505304753,
          0.00269249006016301,
          0.006707691621285844,
          0.002688931357393034,
          0.001579238416080301,
          0.0009415023931086356,
          0.01214369367484984,
          0.04124640025887168,
          0.0009353752282697332,
          0.003969342978181988,
          0.0005081034631587812,
          0.00039458744190685985,
          0.0009264574540807477,
          0.008999994666857141,
          0.00034066694940212294,
          0.004188751926867053,
          0.0023868795603572764,
          0.00039376061938368686,
          0.0013247095014245658,
          0.0031381783100490187,
          0.0006051526441861012,
          0.0007408617851954033,
          0.000499504868583272,
          0.002688957288952004,
          0.00017561227317566163,
          0.00007457818412710975,
          0.00040172206693985527,
          0.005699415483489986,
          0.009331006319044986,
          0.0013520045449643525,
          0.00183139849735595,
          0.0005611961432063255,
          0.0005255366255981901,
          0.0018998812216246162,
          0.0011600743673979604,
          0.0017456542884748156,
          0.001124488371004614,
          0.014355267855173702,
          0.00018115146427723553,
          0.002793631553570757,
          0.002647205401881519,
          0.002092998513622414,
          0.041251418658449474,
          0.0000627448334186594,
          0.0007376845496376017,
          0.0016672232688341219,
          0.00047339970981972985,
          0.006511930785780261,
          0.00014151489433455777,
          0.005621312716487794,
          0.00022503227465015492,
          0.002123440067718822,
          0.002903419524140288,
          0.00004698194342262837,
          0.002904502092331514,
          0.0013292642822838316,
          0.000346434120257586,
          0.0002130322631423524,
          0.008645743935511003,
          0.002691019939410317,
          0.0002626546391874221,
          0.006535322645435376,
          0.0010909704308536923,
          0.00029667792207324026,
          0.00024464099873821373,
          0.0015812985017886795,
          0.0016695229307928162,
          0.00027787397161913035,
          0.004527173813821217,
          0.0009631993921334357,
          0.0006523747816757227,
          0.00602546865701983,
          0.001405172206136652,
          0.0009305857215234401,
          0.000202928447256291,
          0.00037144882242880255,
          0.0012029788992421503,
          0.00759823958709394,
          0.0007651485413144975,
          0.0013262359581000282,
          0.0006779425906171365,
          0.0009453212054511381,
          0.0006657902633875508,
          0.008648248497859612,
          0.034106052738051076,
          0.0027933955286268864,
          0.002540511783253659,
          0.008824436722418333,
          0.0005249108101051472,
          0.003092992718452933,
          0.002529232874915921,
          0.0002314775649091816,
          0.000774987245117933,
          0.00021441719015261325,
          0.0006585455203290893,
          0.0019183026185873565,
          0.0006069382891415774,
          0.0004804324279387265,
          0.0003881274513935696,
          0.0010222606715811057,
          0.04755971104145888,
          0.0004635442469578831,
          0.000294385059654369,
          0.0013518552617584935,
          0.0008276148569876484,
          0.001052051867939222,
          0.003141705753179403,
          0.04255541890505297,
          0.0009661442161009484,
          0.0030415640431351414,
          0.001575242475017277,
          0.0009302855135024753,
          0.0004538229828038819,
          0.00024057092331684262,
          0.00824687551517606,
          0.0008195950285391856,
          0.000734777098426807,
          0.00013566649775774423,
          0.0014953638760814537,
          0.00011514115476734263,
          0.00022781564176472662,
          0.0014966078262592464,
          0.006154486635301321,
          0.0039727248517074055,
          0.00033733482806275504,
          0.0013896321742077333,
          0.00015311575418553805,
          0.0013491823792784166,
          0.0018205706181579167,
          0.0008223083689280147,
          0.001879979869353659,
          0.0000849937190646906,
          0.0001084173728919363,
          0.0003011291874427387,
          0.001982316845859289,
          0.0011215134867545685,
          0.00092513243436444,
          0.0008303205448481485,
          0.003685913196929274,
          0.0006764356635618051,
          0.00045821109679140636,
          0.0007117538329738982,
          0.0018894616227023338,
          0.006891704434618391,
          0.007150112434673254,
          0.0003396959041356498,
          0.010941359614490992,
          0.0003378224823729417,
          0.007146515039340581,
          0.0011873765876424718,
          0.0002249281803848747,
          0.0009584278947206131,
          0.002642791058787848,
          0.000300141193411035,
          0.001142434058007149,
          0.002688986342772577,
          0.001990271880761441,
          0.001054245241893791,
          0.0061375407570598145,
          0.0016844405000194626,
          0.0023870752220262986,
          0.0007440188988528522,
          0.00012745581106922134,
          0.00014635122187300732,
          0.0019418624563214036,
          0.013381189350194538,
          0.0016622523114969922,
          0.010940233112685858,
          0.0014070671582836348,
          0.0015134045610522044,
          0.00037194323298097713,
          0.0006851808794484653,
          0.002346866340579373,
          0.0021441159472840787,
          0.0006027517279829944,
          0.0032496184964881524
         ],
         "z": [
          0.0001957997871124597,
          0.001077825485621982,
          0.0004407965632087736,
          0.0010802830006368628,
          0.0008892606461933436,
          0.007211931889215825,
          0.007402339714772821,
          0.004321337040296031,
          0.0006413281158475517,
          0.0009053473994773579,
          0.004484534668074268,
          0.0008802690110417248,
          0.0011981023062563425,
          0.00044229287512900106,
          0.0005646822317996046,
          0.0006595320701040427,
          0.00013255686350293242,
          0.002074883241949006,
          0.0005753570585780055,
          0.0027267937248026623,
          0.0002863063845330896,
          0.0005655759922396595,
          0.0018567533937856194,
          0.00019631898364096744,
          0.002245873745355505,
          0.00010836479665026409,
          0.0008912121977530243,
          0.010670849041061962,
          0.00035810089805994887,
          0.00016789471864574063,
          0.00042701377925164846,
          0.0004885979110726515,
          0.007911142577696853,
          0.0003223820229997787,
          0.0002379551862259047,
          0.007019849147087583,
          0.003454695483454742,
          0.0011275146063871606,
          0.0010849410720059594,
          0.0004956954446512841,
          0.0076134450453679845,
          0.0009189215660163655,
          0.0013597883889256521,
          0.000056937197073382685,
          0.0004368799085361266,
          0.0005202364680187431,
          0.002655975472688543,
          0.0009581617615053032,
          0.0010861731968925424,
          0.0001335167897735731,
          0.001690362847653477,
          0.0005644936022497604,
          0.0029586913807920076,
          0.0003779109344523418,
          0.00030435846142243413,
          0.0010708190813495109,
          0.00531462512729371,
          0.002598126072385577,
          0.0026055027565754047,
          0.005164850025562109,
          0.00004334297649687639,
          0.0006569445306822873,
          0.007218789019316948,
          0.00015790172081795738,
          0.00401524994807936,
          0.0004880519077969332,
          0.0024920510470060565,
          0.00253096594111727,
          0.0011475754878272194,
          0.0031587699551183235,
          0.0013534794743288107,
          0.007152486426851873,
          0.0006867897660433847,
          0.0007606525888871748,
          0.0007629802852823284,
          0.00030754206862123104,
          0.0005937604512402872,
          0.0026511805363430415,
          0.0017522322928984625,
          0.0005029191327749746,
          0.001770601074960587,
          0.0005385661815640048,
          0.0012609989726327406,
          0.011170274289303169,
          0.00153564199017416,
          0.00004375640479929042,
          0.004762719110381054,
          0.00027710578113217683,
          0.0007245080298020657,
          0.0013464849480985,
          0.000815956885064152,
          0.0018952138881757037,
          0.002885461077541561,
          0.00047551658488930457,
          0.005162196274077762,
          0.0006576111393977055,
          0.0005574898545890958,
          0.0029556267108385393,
          0.0021292813152366703,
          0.0001329672860162167,
          0.00013601442204534423,
          0.00035145692669645594,
          0.0012428760355721942,
          0.002616491595026559,
          0.000050776515148372923,
          0.002768914059930468,
          0.0013662178795005593,
          0.0011970345605137563,
          0.0004903647255293978,
          0.0005074925961890097,
          0.003696879104909985,
          0.00043704486852169574,
          0.00022399205177207651,
          0.0006069470160432276,
          0.0020095747165213467,
          0.0009282519290003276,
          0.0019477809717428226,
          0.0014018656443711228,
          0.0026130218739081833,
          0.0003349502982806436,
          0.004838226245347778,
          0.0009065118124933365,
          0.0004621237524222071,
          0.0005881223000127067,
          0.0005025943021503621,
          0.0006105687402503692,
          0.0009157332200328445,
          0.00036727688989616477,
          0.0006078650469537102,
          0.001201170275482846,
          0.003912653678038375,
          0.0014544884685743816,
          0.004971254959893587,
          0.0013538705634143827,
          0.0009957887203740463,
          0.0025275936961889752,
          0.00015684688691496032,
          0.0019384186109685348,
          0.0028992397560516814,
          0.00432101898214752,
          0.0018688773646798932,
          0.00045894718748431293,
          0.006964559412097066,
          0.0005092582359391451,
          0.0005078785275854539,
          0.0005263792518232671,
          0.00038813731495570967,
          0.0005756690947012458,
          0.0016884881832447906,
          0.0009859311275766027,
          0.005261873422900298,
          0.012259085258943602,
          0.0005189591733744894,
          0.00023977720606722754,
          0.00025790771116587774,
          0.00031777055134568475,
          0.009695980403797858,
          0.0005236634651064477,
          0.0014530191969606963,
          0.0007616558433790286,
          0.0007940746086172499,
          0.0034560025744942765,
          0.004967920398006143,
          0.00048533026070894783,
          0.0006612058540032938,
          0.0038295077950123136,
          0.0005978812434974299,
          0.00018603934940435916,
          0.002171687957699257,
          0.0006777801860950598,
          0.0006413751819270959,
          0.0006320115409759855,
          0.005075907573801765,
          0.0005762886117461608,
          0.0010772540070904,
          0.0006587588774591934,
          0.000043911859377326564,
          0.0023937275007556024,
          0.0003935616956368943,
          0.0006002149411848255,
          0.00016730618058933275,
          0.0022504205262494107,
          0.00037426574073903243,
          0.0010736719604609645,
          0.0027244622045845034,
          0.00038744739969395634,
          0.00020766090376859796,
          0.0026163419078143175,
          0.0026123347607275383,
          0.00375424719208524,
          0.00013696717645044198,
          0.0038591773211136974,
          0.0002932763679248119,
          0.00048364025773854565,
          0.00005262849863819431,
          0.0008216283828705669,
          0.0006908502075024793,
          0.007419454412617817,
          0.000531128061728287,
          0.0009495306132913278,
          0.00046307025294842923,
          0.0018629793791359018,
          0.0005066126395768558,
          0.00032298794507032116,
          0.0006595027926098641,
          0.005068355175821308,
          0.0027671545038188776,
          0.001934497107459572,
          0.0005256562457963998,
          0.000346699402302752,
          0.0012544016229651524,
          0.0007644351564395234,
          0.0008106160446315873,
          0.000048811271347887536,
          0.00187317485311709,
          0.00050502670158647,
          0.0012659184963746896,
          0.0006910563310564403,
          0.007611034759813842,
          0.007916044855948191,
          0.0026121378008311918,
          0.0005208781826758011,
          0.0002943394151221804,
          0.0007121045648599613,
          0.0004985907782335652,
          0.00020665298195445572,
          0.0005920733658784338,
          0.0006638539511244439,
          0.0007678275531405215,
          0.0031609899467007155,
          0.0023193578063008596,
          0.00024430762056317634,
          0.0010511020351202402,
          0.0007735569787350806,
          0.0005147264893880784,
          0.0021899995496227464,
          0.00021057486693187863,
          0.000383141292270638,
          0.0018697066726613637,
          0.0010996369492452204,
          0.000286521790158323,
          0.002002806898218882,
          0.0007253767751119157,
          0.0020780678747012236,
          0.0002506459674471399,
          0.001002689626118791,
          0.00005018966204953471,
          0.0010422775861548387,
          0.009693045560027199,
          0.00509010722318402,
          0.0012841316413302539,
          0.000039103780296859795,
          0.005901089558747663,
          0.0005601822449611444,
          0.0012259952289248783,
          0.004935855564351172,
          0.0011865342569708978,
          0.00027561369670221785,
          0.0010754840389638758,
          0.002611068313029021,
          0.002616951006347498,
          0.001539294115567452,
          0.0012922315543583735,
          0.0025224926350185185,
          0.0006567099584812535,
          0.00023950268574414997,
          0.0002118464805897189,
          0.0029015307089995607,
          0.0006505495454205711,
          0.0003415813853626547,
          0.003992153004659742,
          0.00024321695247833688,
          0.00531301431237408,
          0.0013483744103784782,
          0.001032048805749432,
          0.0004241421281320175,
          0.01101361770998154,
          0.00010933525601964791,
          0.007150620422993636,
          0.009111306199145217,
          0.0015778028724039335,
          0.00043922346386690895,
          0.0010577251148676887,
          0.00015530921557929035,
          0.00043952769210235605,
          0.012725528753502028,
          0.0006811558775435601,
          0.0015188066796113994,
          0.004217845371495467,
          0.0011405649658567396,
          0.010595540637618603,
          0.0006898858560105561,
          0.00005243245139624978,
          0.0004866890152959284,
          0.0019651781034650687,
          0.00107514961433537,
          0.0012221802389592942,
          0.0001307096732122806,
          0.0005306420309377601,
          0.002005366427059665,
          0.002013095810972498,
          0.0014987696210942117,
          0.0005002961690476561,
          0.00027406060703902,
          0.0017447510835108776,
          0.0002525785443328186,
          0.012717359930904537,
          0.012241832969503047,
          0.00526140122589554,
          0.00023095754967998556,
          0.0006372393181813725,
          0.004322325831648985,
          0.007661761800151982,
          0.0008267131337432282,
          0.0005116983821712149,
          0.00023306270026715934,
          0.011171488490725481,
          0.0017695848972503257,
          0.0011945689291507414,
          0.003919782648147873,
          0.00022631958612389386,
          0.0008176077856120421,
          0.004839120797277356,
          0.0005278720828826706,
          0.002141809483003057,
          0.009108356908089818,
          0.004481413310152926,
          0.0005239982933662558,
          0.0005606696551190361,
          0.00018726508053642027,
          0.007017632203497316,
          0.0007751530330325562,
          0.0047638076371883924,
          0.0003509301573734749,
          0.0014556478545938722,
          0.007405655201633923,
          0.00036595095774027666,
          0.0010991647441226846,
          0.006962815201767856,
          0.0003914411361476604,
          0.0009306982075647349,
          0.0003625558096724667,
          0.00027161458367543117,
          0.00033932052689711887,
          0.0006142910861191946,
          0.0005364619539961248,
          0.002618710284315964,
          0.0007941429611986603,
          0.0023231260020468176,
          0.001932590196649269,
          0.004329841337071319,
          0.0008273585925642897,
          0.0014714679175353252,
          0.0016909820574694116,
          0.0024809929496064113,
          0.00005469311771596964,
          0.0003957926827842588,
          0.0037519398517867346,
          0.0010509912251574255,
          0.00022155811401020463,
          0.0005717564288029558,
          0.0010512579398892028,
          0.0035489204980103687,
          0.005092509007883717,
          0.00010643148211434859,
          0.000766590866185434,
          0.007422325487136567,
          0.0005155285739476493,
          0.0036983578914309917,
          0.00005961461059355692,
          0.00023833506020889635,
          0.00004139928024894938,
          0.0002292613076597588,
          0.0005096216996904027,
          0.0005022845077648513,
          0.011007286789112284,
          0.005901063511771128,
          0.0003584765594716181,
          0.0019377230798395114,
          0.0002267215273579593,
          0.000516685497783614,
          0.000257323736266737,
          0.0013780610964307166,
          0.0024291859262138248,
          0.00368218871326778,
          0.0005926336688307404,
          0.00015224992568637158,
          0.0001066821091422776,
          0.0036702129487304865,
          0.004966373598401085,
          0.010599016032597627,
          0.0009903144957017463,
          0.0015816579573491969,
          0.0005123482777361861,
          0.0004893775249333507,
          0.0025231819223796616,
          0.010670848944174622,
          0.0004628233949719692,
          0.0035545361696855183,
          0.0011232162455285146,
          0.0011873068227112058,
          0.0004996885414005291,
          0.0007119727966492174,
          0.0042135924879782155,
          0.0006543088053029405,
          0.0001565914150357919,
          0.0028963938258299254,
          0.00015163827961637544,
          0.007661883217255995,
          0.0008705233654118937,
          0.00023327751526757594,
          0.00006581880516333885,
          0.001079338512481085,
          0.0016973501652832834,
          0.0003860860531655874,
          0.0003240207367403777
         ]
        }
       ],
       "layout": {
        "height": 600,
        "scene": {
         "xaxis": {
          "title": {
           "text": "8"
          }
         },
         "yaxis": {
          "title": {
           "text": "12"
          }
         },
         "zaxis": {
          "title": {
           "text": "20"
          }
         }
        },
        "showlegend": true,
        "template": {
         "data": {
          "bar": [
           {
            "error_x": {
             "color": "#2a3f5f"
            },
            "error_y": {
             "color": "#2a3f5f"
            },
            "marker": {
             "line": {
              "color": "#E5ECF6",
              "width": 0.5
             },
             "pattern": {
              "fillmode": "overlay",
              "size": 10,
              "solidity": 0.2
             }
            },
            "type": "bar"
           }
          ],
          "barpolar": [
           {
            "marker": {
             "line": {
              "color": "#E5ECF6",
              "width": 0.5
             },
             "pattern": {
              "fillmode": "overlay",
              "size": 10,
              "solidity": 0.2
             }
            },
            "type": "barpolar"
           }
          ],
          "carpet": [
           {
            "aaxis": {
             "endlinecolor": "#2a3f5f",
             "gridcolor": "white",
             "linecolor": "white",
             "minorgridcolor": "white",
             "startlinecolor": "#2a3f5f"
            },
            "baxis": {
             "endlinecolor": "#2a3f5f",
             "gridcolor": "white",
             "linecolor": "white",
             "minorgridcolor": "white",
             "startlinecolor": "#2a3f5f"
            },
            "type": "carpet"
           }
          ],
          "choropleth": [
           {
            "colorbar": {
             "outlinewidth": 0,
             "ticks": ""
            },
            "type": "choropleth"
           }
          ],
          "contour": [
           {
            "colorbar": {
             "outlinewidth": 0,
             "ticks": ""
            },
            "colorscale": [
             [
              0,
              "#0d0887"
             ],
             [
              0.1111111111111111,
              "#46039f"
             ],
             [
              0.2222222222222222,
              "#7201a8"
             ],
             [
              0.3333333333333333,
              "#9c179e"
             ],
             [
              0.4444444444444444,
              "#bd3786"
             ],
             [
              0.5555555555555556,
              "#d8576b"
             ],
             [
              0.6666666666666666,
              "#ed7953"
             ],
             [
              0.7777777777777778,
              "#fb9f3a"
             ],
             [
              0.8888888888888888,
              "#fdca26"
             ],
             [
              1,
              "#f0f921"
             ]
            ],
            "type": "contour"
           }
          ],
          "contourcarpet": [
           {
            "colorbar": {
             "outlinewidth": 0,
             "ticks": ""
            },
            "type": "contourcarpet"
           }
          ],
          "heatmap": [
           {
            "colorbar": {
             "outlinewidth": 0,
             "ticks": ""
            },
            "colorscale": [
             [
              0,
              "#0d0887"
             ],
             [
              0.1111111111111111,
              "#46039f"
             ],
             [
              0.2222222222222222,
              "#7201a8"
             ],
             [
              0.3333333333333333,
              "#9c179e"
             ],
             [
              0.4444444444444444,
              "#bd3786"
             ],
             [
              0.5555555555555556,
              "#d8576b"
             ],
             [
              0.6666666666666666,
              "#ed7953"
             ],
             [
              0.7777777777777778,
              "#fb9f3a"
             ],
             [
              0.8888888888888888,
              "#fdca26"
             ],
             [
              1,
              "#f0f921"
             ]
            ],
            "type": "heatmap"
           }
          ],
          "heatmapgl": [
           {
            "colorbar": {
             "outlinewidth": 0,
             "ticks": ""
            },
            "colorscale": [
             [
              0,
              "#0d0887"
             ],
             [
              0.1111111111111111,
              "#46039f"
             ],
             [
              0.2222222222222222,
              "#7201a8"
             ],
             [
              0.3333333333333333,
              "#9c179e"
             ],
             [
              0.4444444444444444,
              "#bd3786"
             ],
             [
              0.5555555555555556,
              "#d8576b"
             ],
             [
              0.6666666666666666,
              "#ed7953"
             ],
             [
              0.7777777777777778,
              "#fb9f3a"
             ],
             [
              0.8888888888888888,
              "#fdca26"
             ],
             [
              1,
              "#f0f921"
             ]
            ],
            "type": "heatmapgl"
           }
          ],
          "histogram": [
           {
            "marker": {
             "pattern": {
              "fillmode": "overlay",
              "size": 10,
              "solidity": 0.2
             }
            },
            "type": "histogram"
           }
          ],
          "histogram2d": [
           {
            "colorbar": {
             "outlinewidth": 0,
             "ticks": ""
            },
            "colorscale": [
             [
              0,
              "#0d0887"
             ],
             [
              0.1111111111111111,
              "#46039f"
             ],
             [
              0.2222222222222222,
              "#7201a8"
             ],
             [
              0.3333333333333333,
              "#9c179e"
             ],
             [
              0.4444444444444444,
              "#bd3786"
             ],
             [
              0.5555555555555556,
              "#d8576b"
             ],
             [
              0.6666666666666666,
              "#ed7953"
             ],
             [
              0.7777777777777778,
              "#fb9f3a"
             ],
             [
              0.8888888888888888,
              "#fdca26"
             ],
             [
              1,
              "#f0f921"
             ]
            ],
            "type": "histogram2d"
           }
          ],
          "histogram2dcontour": [
           {
            "colorbar": {
             "outlinewidth": 0,
             "ticks": ""
            },
            "colorscale": [
             [
              0,
              "#0d0887"
             ],
             [
              0.1111111111111111,
              "#46039f"
             ],
             [
              0.2222222222222222,
              "#7201a8"
             ],
             [
              0.3333333333333333,
              "#9c179e"
             ],
             [
              0.4444444444444444,
              "#bd3786"
             ],
             [
              0.5555555555555556,
              "#d8576b"
             ],
             [
              0.6666666666666666,
              "#ed7953"
             ],
             [
              0.7777777777777778,
              "#fb9f3a"
             ],
             [
              0.8888888888888888,
              "#fdca26"
             ],
             [
              1,
              "#f0f921"
             ]
            ],
            "type": "histogram2dcontour"
           }
          ],
          "mesh3d": [
           {
            "colorbar": {
             "outlinewidth": 0,
             "ticks": ""
            },
            "type": "mesh3d"
           }
          ],
          "parcoords": [
           {
            "line": {
             "colorbar": {
              "outlinewidth": 0,
              "ticks": ""
             }
            },
            "type": "parcoords"
           }
          ],
          "pie": [
           {
            "automargin": true,
            "type": "pie"
           }
          ],
          "scatter": [
           {
            "fillpattern": {
             "fillmode": "overlay",
             "size": 10,
             "solidity": 0.2
            },
            "type": "scatter"
           }
          ],
          "scatter3d": [
           {
            "line": {
             "colorbar": {
              "outlinewidth": 0,
              "ticks": ""
             }
            },
            "marker": {
             "colorbar": {
              "outlinewidth": 0,
              "ticks": ""
             }
            },
            "type": "scatter3d"
           }
          ],
          "scattercarpet": [
           {
            "marker": {
             "colorbar": {
              "outlinewidth": 0,
              "ticks": ""
             }
            },
            "type": "scattercarpet"
           }
          ],
          "scattergeo": [
           {
            "marker": {
             "colorbar": {
              "outlinewidth": 0,
              "ticks": ""
             }
            },
            "type": "scattergeo"
           }
          ],
          "scattergl": [
           {
            "marker": {
             "colorbar": {
              "outlinewidth": 0,
              "ticks": ""
             }
            },
            "type": "scattergl"
           }
          ],
          "scattermapbox": [
           {
            "marker": {
             "colorbar": {
              "outlinewidth": 0,
              "ticks": ""
             }
            },
            "type": "scattermapbox"
           }
          ],
          "scatterpolar": [
           {
            "marker": {
             "colorbar": {
              "outlinewidth": 0,
              "ticks": ""
             }
            },
            "type": "scatterpolar"
           }
          ],
          "scatterpolargl": [
           {
            "marker": {
             "colorbar": {
              "outlinewidth": 0,
              "ticks": ""
             }
            },
            "type": "scatterpolargl"
           }
          ],
          "scatterternary": [
           {
            "marker": {
             "colorbar": {
              "outlinewidth": 0,
              "ticks": ""
             }
            },
            "type": "scatterternary"
           }
          ],
          "surface": [
           {
            "colorbar": {
             "outlinewidth": 0,
             "ticks": ""
            },
            "colorscale": [
             [
              0,
              "#0d0887"
             ],
             [
              0.1111111111111111,
              "#46039f"
             ],
             [
              0.2222222222222222,
              "#7201a8"
             ],
             [
              0.3333333333333333,
              "#9c179e"
             ],
             [
              0.4444444444444444,
              "#bd3786"
             ],
             [
              0.5555555555555556,
              "#d8576b"
             ],
             [
              0.6666666666666666,
              "#ed7953"
             ],
             [
              0.7777777777777778,
              "#fb9f3a"
             ],
             [
              0.8888888888888888,
              "#fdca26"
             ],
             [
              1,
              "#f0f921"
             ]
            ],
            "type": "surface"
           }
          ],
          "table": [
           {
            "cells": {
             "fill": {
              "color": "#EBF0F8"
             },
             "line": {
              "color": "white"
             }
            },
            "header": {
             "fill": {
              "color": "#C8D4E3"
             },
             "line": {
              "color": "white"
             }
            },
            "type": "table"
           }
          ]
         },
         "layout": {
          "annotationdefaults": {
           "arrowcolor": "#2a3f5f",
           "arrowhead": 0,
           "arrowwidth": 1
          },
          "autotypenumbers": "strict",
          "coloraxis": {
           "colorbar": {
            "outlinewidth": 0,
            "ticks": ""
           }
          },
          "colorscale": {
           "diverging": [
            [
             0,
             "#8e0152"
            ],
            [
             0.1,
             "#c51b7d"
            ],
            [
             0.2,
             "#de77ae"
            ],
            [
             0.3,
             "#f1b6da"
            ],
            [
             0.4,
             "#fde0ef"
            ],
            [
             0.5,
             "#f7f7f7"
            ],
            [
             0.6,
             "#e6f5d0"
            ],
            [
             0.7,
             "#b8e186"
            ],
            [
             0.8,
             "#7fbc41"
            ],
            [
             0.9,
             "#4d9221"
            ],
            [
             1,
             "#276419"
            ]
           ],
           "sequential": [
            [
             0,
             "#0d0887"
            ],
            [
             0.1111111111111111,
             "#46039f"
            ],
            [
             0.2222222222222222,
             "#7201a8"
            ],
            [
             0.3333333333333333,
             "#9c179e"
            ],
            [
             0.4444444444444444,
             "#bd3786"
            ],
            [
             0.5555555555555556,
             "#d8576b"
            ],
            [
             0.6666666666666666,
             "#ed7953"
            ],
            [
             0.7777777777777778,
             "#fb9f3a"
            ],
            [
             0.8888888888888888,
             "#fdca26"
            ],
            [
             1,
             "#f0f921"
            ]
           ],
           "sequentialminus": [
            [
             0,
             "#0d0887"
            ],
            [
             0.1111111111111111,
             "#46039f"
            ],
            [
             0.2222222222222222,
             "#7201a8"
            ],
            [
             0.3333333333333333,
             "#9c179e"
            ],
            [
             0.4444444444444444,
             "#bd3786"
            ],
            [
             0.5555555555555556,
             "#d8576b"
            ],
            [
             0.6666666666666666,
             "#ed7953"
            ],
            [
             0.7777777777777778,
             "#fb9f3a"
            ],
            [
             0.8888888888888888,
             "#fdca26"
            ],
            [
             1,
             "#f0f921"
            ]
           ]
          },
          "colorway": [
           "#636efa",
           "#EF553B",
           "#00cc96",
           "#ab63fa",
           "#FFA15A",
           "#19d3f3",
           "#FF6692",
           "#B6E880",
           "#FF97FF",
           "#FECB52"
          ],
          "font": {
           "color": "#2a3f5f"
          },
          "geo": {
           "bgcolor": "white",
           "lakecolor": "white",
           "landcolor": "#E5ECF6",
           "showlakes": true,
           "showland": true,
           "subunitcolor": "white"
          },
          "hoverlabel": {
           "align": "left"
          },
          "hovermode": "closest",
          "mapbox": {
           "style": "light"
          },
          "paper_bgcolor": "white",
          "plot_bgcolor": "#E5ECF6",
          "polar": {
           "angularaxis": {
            "gridcolor": "white",
            "linecolor": "white",
            "ticks": ""
           },
           "bgcolor": "#E5ECF6",
           "radialaxis": {
            "gridcolor": "white",
            "linecolor": "white",
            "ticks": ""
           }
          },
          "scene": {
           "xaxis": {
            "backgroundcolor": "#E5ECF6",
            "gridcolor": "white",
            "gridwidth": 2,
            "linecolor": "white",
            "showbackground": true,
            "ticks": "",
            "zerolinecolor": "white"
           },
           "yaxis": {
            "backgroundcolor": "#E5ECF6",
            "gridcolor": "white",
            "gridwidth": 2,
            "linecolor": "white",
            "showbackground": true,
            "ticks": "",
            "zerolinecolor": "white"
           },
           "zaxis": {
            "backgroundcolor": "#E5ECF6",
            "gridcolor": "white",
            "gridwidth": 2,
            "linecolor": "white",
            "showbackground": true,
            "ticks": "",
            "zerolinecolor": "white"
           }
          },
          "shapedefaults": {
           "line": {
            "color": "#2a3f5f"
           }
          },
          "ternary": {
           "aaxis": {
            "gridcolor": "white",
            "linecolor": "white",
            "ticks": ""
           },
           "baxis": {
            "gridcolor": "white",
            "linecolor": "white",
            "ticks": ""
           },
           "bgcolor": "#E5ECF6",
           "caxis": {
            "gridcolor": "white",
            "linecolor": "white",
            "ticks": ""
           }
          },
          "title": {
           "x": 0.05
          },
          "xaxis": {
           "automargin": true,
           "gridcolor": "white",
           "linecolor": "white",
           "ticks": "",
           "title": {
            "standoff": 15
           },
           "zerolinecolor": "white",
           "zerolinewidth": 2
          },
          "yaxis": {
           "automargin": true,
           "gridcolor": "white",
           "linecolor": "white",
           "ticks": "",
           "title": {
            "standoff": 15
           },
           "zerolinecolor": "white",
           "zerolinewidth": 2
          }
         }
        },
        "title": {
         "text": "Healthy vs Unhealthy"
        },
        "width": 800
       }
      }
     },
     "metadata": {},
     "output_type": "display_data"
    }
   ],
   "source": [
    "cluster0 = go.Scatter3d(\n",
    "    x=data[data['cluster']==0][8],\n",
    "    y=data[data['cluster']==0][12],\n",
    "    z=data[data['cluster']==0][20],\n",
    "    mode='markers',\n",
    "    marker=dict(\n",
    "        color='red',  \n",
    "        size=10,\n",
    "        symbol='circle'\n",
    "    ),\n",
    "    name='Unhealthy'  \n",
    ")\n",
    "\n",
    "cluster1 = go.Scatter3d(\n",
    "    x=data[data['cluster']==1][8],\n",
    "    y=data[data['cluster']==1][12],\n",
    "    z=data[data['cluster']==1][20],\n",
    "    mode='markers',\n",
    "    marker=dict(\n",
    "        color='green',  \n",
    "        size=10,\n",
    "        symbol='circle'\n",
    "    ),\n",
    "    name='Healthy'  \n",
    ")\n",
    "\n",
    "fig = go.Figure()\n",
    "fig.add_trace(cluster0)\n",
    "fig.add_trace(cluster1)\n",
    "\n",
    "fig.update_layout(\n",
    "    title='Healthy vs Unhealthy',\n",
    "    scene=dict(\n",
    "        xaxis=dict(title='8'),\n",
    "        yaxis=dict(title='12'),\n",
    "        zaxis=dict(title='20')\n",
    "    ),\n",
    "    showlegend=True,  \n",
    "    width=800, \n",
    "    height=600\n",
    ")\n",
    "\n",
    "fig.show()"
   ]
  },
  {
   "cell_type": "markdown",
   "metadata": {},
   "source": [
    "### Clustering based on the Class Labels"
   ]
  },
  {
   "cell_type": "code",
   "execution_count": 114,
   "metadata": {},
   "outputs": [
    {
     "data": {
      "application/vnd.plotly.v1+json": {
       "config": {
        "plotlyServerURL": "https://plot.ly"
       },
       "data": [
        {
         "marker": {
          "color": "red",
          "size": 10,
          "symbol": "circle"
         },
         "mode": "markers",
         "name": "Unhealthy",
         "type": "scatter3d",
         "x": [
          0.0008368175519228194,
          0.001739818306218773,
          0.004445712260566353,
          0.0010716071771443032,
          0.002095986623356754,
          0.0014496230186457724,
          0.001414121700231663,
          0.00027815680773063205,
          0.0015716263200589822,
          0.000974847108036593,
          0.006400237131705846,
          0.0007872900504490435,
          0.00021864222092685354,
          0.0017342512934902519,
          0.0011365210238296133,
          0.0003909094672407047,
          0.0024148720603409304,
          0.004005515612201248,
          0.0009704511789467526,
          0.0011377962230526945,
          0.00026641609163837176,
          0.0009719215052274244,
          0.0018171386387258906,
          0.00047580470394971306,
          0.0002898526033769172,
          0.0015686794757256125,
          0.0009981676743953925,
          0.0015112938267998405,
          0.00048760537231098695,
          0.002278560958503154,
          0.001236317419913148,
          0.0009248734673920064,
          0.0015953728488492188,
          0.000657105220373416,
          0.0015924254520754068,
          0.0008119146883104426,
          0.0002971216715566477,
          0.0000830428880405518,
          0.007627248423450854,
          0.007503421989211428,
          0.003162945914349176,
          0.0018275686177359632,
          0.00040773060720038847,
          0.0012317779172656856,
          0.0007676599374227575,
          0.0002817632181263712,
          0.006136500919336008,
          0.0009700176727309362,
          0.0001241843266029707,
          0.0028057152643860828,
          0.0016634454720360575,
          0.002020538256318433,
          0.0007278331612456761,
          0.00042338426960643034,
          0.0012232507663080085,
          0.004391562056900285,
          0.006284165159112409,
          0.000939176118221298,
          0.0007882480104113122,
          0.0009777336441834253,
          0.00008877623475175198,
          0.002498026349205013,
          0.00031608517333844296,
          0.002052888843578411,
          0.0016160271628230475,
          0.00047599705930893263,
          0.004600199783419793,
          0.004660221990521505,
          0.00008947857736581236,
          0.006427971325556595,
          0.0018278324932503502,
          0.0009318885364585338,
          0.0022210164519149544,
          0.0021033525512775338,
          0.00013883197796054727,
          0.0008936803014196943,
          0.0076796920074784026,
          0.0008783410333306308,
          0.0016903860243877784,
          0.0012452084592102575,
          0.00021012951282827464,
          0.0006111652208149335,
          0.0019147751869704923,
          0.0007678298951004672,
          0.00002076469210394942,
          0.0017840884418810802,
          0.004661224167122807,
          0.007674183303225894,
          0.00018471147651305953,
          0.0003114342218660276,
          0.00013041621767571977,
          0.0008855208410729985,
          0.00038908604478621333,
          0.0024926146279090683,
          0.0022905404427299102,
          0.0010266887512182864,
          0.004127290365142619,
          0.0003647887477904902,
          0.0002443130698149482,
          0.0011425880198505458,
          0.001395851976288107,
          0.006134321154576238,
          0.001512451844846365,
          0.005552076400726554,
          0.00009034552347924699,
          0.004396922651783471,
          0.005574474512979469,
          0.0003020721316985311,
          0.00066618176555756,
          0.008317095299243484,
          0.001708684018706959,
          0.005736880798663973,
          0.006457594605634641,
          0.006376009037766759,
          0.004921910209259321,
          0.004600187337223702,
          0.0008582427324601938,
          0.001070923639039416,
          0.00039070526751540694,
          0.0013145707273245389,
          0.001813963514663988,
          0.0004914771661784327,
          0.004018489690047795,
          0.001627575065578925,
          0.009307517601296514,
          0.000978790575908592,
          0.00031259641985753605,
          0.00007765368275510883,
          0.0025642519773409474,
          0.0008115285864144754,
          0.00027322211576156423,
          0.0008638814801721,
          0.0015759618168392604,
          0.005508812765162259,
          0.00012729745742273807,
          0.0008628581341057959,
          0.0018255205347439117,
          0.002487678004191283,
          0.0014239220258258592,
          0.0008812695102347597,
          0.0016654320915450416,
          0.0011543244337583105,
          0.0006493803544159913,
          0.006427101197156898,
          0.0008930949943354283,
          0.0013502669879392833,
          0.0000787935546472983,
          0.0014063731327802424,
          0.009309437030851042,
          0.0011516268687221168,
          0.0012348872982454698,
          0.00014082665026253775,
          0.009376516313681797,
          0.004125724272799218,
          0.000958195121340537,
          0.0014260304881498493,
          0.0026106849993978586,
          0.001130758758657798,
          0.00024156356203520183,
          0.00030485629835266077,
          0.00009973595397561017,
          0.0015748660079004549,
          0.0001632084594528083,
          0.0021381101063557098,
          0.0018208776917897772,
          0.0017094761382786907,
          0.002020064842641811,
          0.00026638322043857253,
          0.0009620381643069742,
          0.006605893799678513,
          0.0002427775798209059,
          0.0012383361542738613,
          0.0007258841689451216,
          0.009058635845885869,
          0.0024061083784143273,
          0.0009752753470222167,
          0.0002194435474809829,
          0.00028145863616106534,
          0.000835229499826427,
          0.00009195743343321806,
          0.0076232189621518245,
          0.0002729030266554317,
          0.00026829183408195176,
          0.0006583365790439272,
          0.0014487764206731978,
          0.00016101359815796657,
          0.0002956604859677646,
          0.00031425085351900436,
          0.0031450056040226116,
          0.00080990486759138,
          0.00023985018219681113,
          0.009526342936702233,
          0.0010239845158346646,
          0.0028058251194875558,
          0.0013491983100204995,
          0.006453579784041236,
          0.00021235346342208841,
          0.0022090168658099566,
          0.0002898223931975106,
          0.007401332062951412,
          0.0006060045053892907,
          0.0006912660429310323,
          0.00628435552136386,
          0.0009339164506081767,
          0.000946916856415141,
          0.00013969454481916,
          0.0013170859295057824,
          0.0019408484703086564,
          0.004446890881147587,
          0.00139236214896389,
          0.009527203862457997,
          0.0022283164671248906,
          0.002615897116836286,
          0.00905931269671153,
          0.00018166524995366556,
          0.00038390394921789255,
          0.008317602071426641,
          0.007504557925548483,
          0.0008072828108644224,
          0.0012453240205032206,
          0.0017037973305125706,
          0.0022086850324640624,
          0.0018937902234416179,
          0.0003700598068621608,
          0.00026748095018585595,
          0.00020360415128470414,
          0.0024905052238639513,
          0.0000977081613894785,
          0.004910086511646787,
          0.002054990054862537,
          0.0003906089026407507,
          0.006373045484402797,
          0.0008366886494713337,
          0.000976565100895365,
          0.00027810595663050605,
          0.0016165027420847562,
          0.00009291634524849605,
          0.0008568293336483373,
          0.0017839008571667236,
          0.00042339192098990745,
          0.0006902528506652073,
          0.009379237515749154,
          0.0008361223188528905,
          0.00661379147398704,
          0.00028829431026554386,
          0.002556920490753895,
          0.0021377922426571733,
          0.005508496170783637,
          0.006398002825622347,
          0.0009643946019035004,
          0.001055486788203462,
          0.0014059317791399344,
          0.000020489254302118646,
          0.0057373615811276285,
          0.0014190462976233446,
          0.007401195926618126,
          0.0009746542511721868,
          0.0012246035391501845,
          0.0019419293372227645,
          0.001059097202817443,
          0.0009917077734834915,
          0.001625260949668461,
          0.0002137508458226238,
          0.00029400962977505705
         ],
         "y": [
          0.0020914162696299044,
          0.0006357763565131737,
          0.0015548822796427556,
          0.002519206806291513,
          0.0016384954175469354,
          0.0018469519333860294,
          0.0015041759643881427,
          0.0007365846502226462,
          0.00042922547592140736,
          0.008671368315465063,
          0.0011526761423278082,
          0.0002553464324675706,
          0.014356959527124442,
          0.0006450586411667199,
          0.0009432790943189772,
          0.00008784433790730845,
          0.0017365702698404636,
          0.025182207621331446,
          0.0004906895763501162,
          0.0006038110177638663,
          0.00007267135249176491,
          0.0016771356417615657,
          0.0016947513088850564,
          0.0008154472419345552,
          0.00019744835259666063,
          0.0004975587576342344,
          0.0023418280891677494,
          0.0001966242495268098,
          0.0010809337293795271,
          0.0003633423313326766,
          0.0005216716460464658,
          0.0010037115513003593,
          0.0034159983410195537,
          0.001272889012324386,
          0.003418551358695605,
          0.0007471842260960238,
          0.00023832989603044923,
          0.0003178192359118427,
          0.00006019677252958356,
          0.0009327091900032667,
          0.004300200530190861,
          0.0006103663611756808,
          0.00034668532095650546,
          0.00033918381928282757,
          0.0017789250851851116,
          0.00018100282685814162,
          0.0010134208431810063,
          0.0004902217718815391,
          0.001759868913050458,
          0.006574006478578739,
          0.0008945205902024874,
          0.0007408590908048657,
          0.0018974781549352827,
          0.00047171089800510763,
          0.0001837552262453256,
          0.00512182577485642,
          0.0002658248088789067,
          0.0005263611829029853,
          0.00025393230750112955,
          0.008670047001193988,
          0.00014327404932908757,
          0.00042992051082990103,
          0.0006743311984322569,
          0.000402903582341905,
          0.0018199840447513072,
          0.000815839444371405,
          0.0005973333498708192,
          0.0004254652287424091,
          0.00031132230601310407,
          0.0018503306422636182,
          0.0006920405086187388,
          0.0006664185833033596,
          0.0007612086505784076,
          0.0016341941170656738,
          0.001769612168545558,
          0.0010263005354210386,
          0.0008575720956763551,
          0.00984053916844289,
          0.005373574405666191,
          0.000829812651902967,
          0.0023443609929924775,
          0.0013203947349798714,
          0.00044561381593949515,
          0.00177899675126799,
          0.013382034516300547,
          0.003685675722230234,
          0.00042472543855307014,
          0.0008622850898479278,
          0.00039097840918700123,
          0.0006794973722771915,
          0.013626911651573334,
          0.0025293858393392824,
          0.001025921686119862,
          0.0002405222300219675,
          0.0003668813879423893,
          0.004531481248039022,
          0.0010390313208971137,
          0.0016946516903836013,
          0.0005662683671771799,
          0.000605114751626981,
          0.0006598411343630612,
          0.0010170489427218509,
          0.0001970406615864469,
          0.0004929934466756603,
          0.0001417362196966627,
          0.005116805100314495,
          0.00048780837627094415,
          0.0015726278991360482,
          0.0004646036524744257,
          0.0007780952561454312,
          0.005358738037526208,
          0.0010792994484982714,
          0.00065543444653615,
          0.00022949872133634988,
          0.0007386331004593621,
          0.0005975257453892792,
          0.0006289424469594816,
          0.0025195816730896876,
          0.00008759634903801863,
          0.0003143496630804246,
          0.0006151800105559977,
          0.0010832564134565068,
          0.0251691601164042,
          0.000509242555727072,
          0.00015441052852644966,
          0.0019511105981968846,
          0.0002137791079065224,
          0.0033957999697630677,
          0.0011353833302165427,
          0.0007476193419246509,
          0.00014805460021643377,
          0.009936102990258183,
          0.0005059549496491218,
          0.0010543509861440277,
          0.013626177849400949,
          0.00993853011179562,
          0.0006957992042737416,
          0.0004387010459227671,
          0.00036400390193853645,
          0.009837071289178451,
          0.0008931171458575033,
          0.000840282153624646,
          0.0012761335931059585,
          0.0018502494021502426,
          0.0025214748361297584,
          0.0008890264260898352,
          0.0033963136917119535,
          0.000128218394950014,
          0.00015599265279639057,
          0.0008432422973960502,
          0.00034182392142631437,
          0.0002307146985870603,
          0.0004623445698911604,
          0.0010419542650144753,
          0.0003977491767387432,
          0.00036197389390657026,
          0.0004790513801572021,
          0.0009540630293913201,
          0.001579238416080301,
          0.0009415023931086356,
          0.04124640025887168,
          0.00042550254243866004,
          0.00034066694940212294,
          0.0004387294423240566,
          0.0016910618987002345,
          0.0031381783100490187,
          0.0007408617851954033,
          0.00007457818412710975,
          0.00040172206693985527,
          0.0003570111905865615,
          0.0005611961432063255,
          0.0005255366255981901,
          0.0018998812216246162,
          0.002426260113412735,
          0.0017456542884748156,
          0.0004933902744892816,
          0.014355267855173702,
          0.00018115146427723553,
          0.002092998513622414,
          0.041251418658449474,
          0.0000627448334186594,
          0.0007376845496376017,
          0.0009141383908388369,
          0.00047339970981972985,
          0.0018480575790749015,
          0.000346434120257586,
          0.00156961195290017,
          0.0002130322631423524,
          0.00431630597989198,
          0.00029667792207324026,
          0.0015812985017886795,
          0.0027472707437053386,
          0.004527173813821217,
          0.006573003225107577,
          0.0008886060107327443,
          0.0006523747816757227,
          0.0010135806897821934,
          0.0009305857215234401,
          0.000202928447256291,
          0.00037144882242880255,
          0.0013262359581000282,
          0.0006779425906171365,
          0.0002657289463753434,
          0.0006657902633875508,
          0.0005249108101051472,
          0.0002314775649091816,
          0.00031648771218471534,
          0.0004087893700766341,
          0.0015553808116702567,
          0.0006585455203290893,
          0.002747470779970876,
          0.0007539282430250454,
          0.0004804324279387265,
          0.0024270544994686367,
          0.0003881274513935696,
          0.0010222606715811057,
          0.0007780582912729443,
          0.0009345153254090786,
          0.000294385059654369,
          0.0008276148569876484,
          0.003141705753179403,
          0.0009302855135024753,
          0.0004538229828038819,
          0.0016949379871781538,
          0.0009147995424421229,
          0.0023466490249226426,
          0.00024057092331684262,
          0.0008195950285391856,
          0.000734777098426807,
          0.0004010494024767458,
          0.0003530476480944245,
          0.00022781564176472662,
          0.00033733482806275504,
          0.0019535520048953366,
          0.00015311575418553805,
          0.0018205706181579167,
          0.0008223083689280147,
          0.0006282894454328276,
          0.003685913196929274,
          0.00047131148886622867,
          0.0006764356635618051,
          0.00045821109679140636,
          0.0003378224823729417,
          0.00036149542762214015,
          0.0009584278947206131,
          0.001142434058007149,
          0.000439257584865197,
          0.001054245241893791,
          0.0011498177523443975,
          0.0016844405000194626,
          0.02495964494124139,
          0.00012745581106922134,
          0.013381189350194538,
          0.0010794430014843964,
          0.0015134045610522044,
          0.00037194323298097713,
          0.0004935160612132588,
          0.00018485581835994366,
          0.0004093807496655225,
          0.024958097920226067,
          0.002346866340579373,
          0.0005094492256397242,
          0.001009969339079864,
          0.00024386558880881153
         ],
         "z": [
          0.0004407965632087736,
          0.0008892606461933436,
          0.023867790950866476,
          0.023953804117097875,
          0.0009053473994773579,
          0.02329625676340014,
          0.0008802690110417248,
          0.00044229287512900106,
          0.022488977226598886,
          0.00013255686350293242,
          0.02352665525777928,
          0.016581820853346533,
          0.00010836479665026409,
          0.0008912121977530243,
          0.019012579754636195,
          0.00016789471864574063,
          0.00042701377925164846,
          0.01916725248016144,
          0.023273802341803648,
          0.0003223820229997787,
          0.0002379551862259047,
          0.0011275146063871606,
          0.024329431062846258,
          0.0004368799085361266,
          0.0005202364680187431,
          0.0009581617615053032,
          0.0010861731968925424,
          0.02681039551179636,
          0.0003779109344523418,
          0.024998210068350762,
          0.00531462512729371,
          0.02433448783960875,
          0.002598126072385577,
          0.02951420484471626,
          0.0026055027565754047,
          0.02175274232114738,
          0.0262383688240138,
          0.01597453743941635,
          0.00015790172081795738,
          0.023188039708954115,
          0.025866975827118374,
          0.026355699430189276,
          0.024581676566186542,
          0.0031587699551183235,
          0.0013534794743288107,
          0.007152486426851873,
          0.0007606525888871748,
          0.02326599674886252,
          0.026085795854021366,
          0.02604561774307776,
          0.0012609989726327406,
          0.00153564199017416,
          0.0013464849480985,
          0.01642861571718139,
          0.02393248999329956,
          0.00047551658488930457,
          0.02220789573243703,
          0.0005574898545890958,
          0.016586102919829888,
          0.0001329672860162167,
          0.03906897661155978,
          0.0012428760355721942,
          0.0005074925961890097,
          0.02403644230670005,
          0.003696879104909985,
          0.00043704486852169574,
          0.019097639875713238,
          0.025801948379873353,
          0.015979590274327455,
          0.0026130218739081833,
          0.0003349502982806436,
          0.004838226245347778,
          0.0231037890054383,
          0.0009065118124933365,
          0.026105084234128908,
          0.024352846201532472,
          0.0004621237524222071,
          0.0005025943021503621,
          0.02525949777169348,
          0.0006078650469537102,
          0.02421580269339301,
          0.003912653678038375,
          0.0014544884685743816,
          0.0013538705634143827,
          0.00015684688691496032,
          0.0019384186109685348,
          0.025809530258863508,
          0.00045894718748431293,
          0.006964559412097066,
          0.0005092582359391451,
          0.0005078785275854539,
          0.0005263792518232671,
          0.00038813731495570967,
          0.0016884881832447906,
          0.025012243302196622,
          0.005261873422900298,
          0.025548153770062306,
          0.021584166680469488,
          0.00023977720606722754,
          0.00031777055134568475,
          0.0014530191969606963,
          0.0007616558433790286,
          0.026803332115245673,
          0.021352938152516817,
          0.039056968522102456,
          0.00048533026070894783,
          0.021383641478320024,
          0.02324168372335277,
          0.0006777801860950598,
          0.02765350989100291,
          0.02527411257493977,
          0.02272656867967229,
          0.0006413751819270959,
          0.0005762886117461608,
          0.0003935616956368943,
          0.0191037974144943,
          0.022978914267298846,
          0.023946536674686245,
          0.00016730618058933275,
          0.02746994126764642,
          0.02637495323265178,
          0.00037426574073903243,
          0.019160179356024206,
          0.02433741308196042,
          0.00020766090376859796,
          0.02404227471886709,
          0.00013696717645044198,
          0.0002932763679248119,
          0.00048364025773854565,
          0.02174557875818021,
          0.007419454412617817,
          0.000531128061728287,
          0.0009495306132913278,
          0.00046307025294842923,
          0.0005066126395768558,
          0.0005256562457963998,
          0.000346699402302752,
          0.0012544016229651524,
          0.00187317485311709,
          0.00050502670158647,
          0.0012659184963746896,
          0.027375528296986272,
          0.029495566669865986,
          0.0026121378008311918,
          0.0005208781826758011,
          0.026716782533429916,
          0.0002943394151221804,
          0.0007121045648599613,
          0.00020665298195445572,
          0.02738283530055931,
          0.0031609899467007155,
          0.0007735569787350806,
          0.0005147264893880784,
          0.025540040091835817,
          0.00021057486693187863,
          0.0018697066726613637,
          0.0010996369492452204,
          0.018994698201588472,
          0.0002506459674471399,
          0.001002689626118791,
          0.0010422775861548387,
          0.02247736197286736,
          0.0012259952289248783,
          0.025631943615398615,
          0.02432510377187587,
          0.002611068313029021,
          0.001539294115567452,
          0.00023950268574414997,
          0.0002118464805897189,
          0.02224353530113243,
          0.00024321695247833688,
          0.00531301431237408,
          0.0013483744103784782,
          0.024024423870486207,
          0.0004241421281320175,
          0.024761357866658625,
          0.00010933525601964791,
          0.007150620422993636,
          0.00043922346386690895,
          0.0010577251148676887,
          0.00015530921557929035,
          0.00043952769210235605,
          0.02461642812776773,
          0.0006811558775435601,
          0.023303139469712825,
          0.0012221802389592942,
          0.0232280270710436,
          0.0001307096732122806,
          0.025847774568340084,
          0.00027406060703902,
          0.0002525785443328186,
          0.021980620708596674,
          0.00526140122589554,
          0.02603752540361785,
          0.026708904037209533,
          0.0006372393181813725,
          0.023837321130623527,
          0.0008267131337432282,
          0.0005116983821712149,
          0.00023306270026715934,
          0.003919782648147873,
          0.00022631958612389386,
          0.022214827521152686,
          0.004839120797277356,
          0.0005606696551190361,
          0.0007751530330325562,
          0.027458286532811457,
          0.018707771706920458,
          0.023873566216774902,
          0.0014556478545938722,
          0.021987563922096977,
          0.02311026251591452,
          0.0010991647441226846,
          0.024017402281985446,
          0.006962815201767856,
          0.0003914411361476604,
          0.027662342933709932,
          0.023195448094577985,
          0.00027161458367543117,
          0.0006142910861191946,
          0.002618710284315964,
          0.0008273585925642897,
          0.0014714679175353252,
          0.02158769291386278,
          0.024609150653268436,
          0.024215729659405032,
          0.0016909820574694116,
          0.00005469311771596964,
          0.0003957926827842588,
          0.024026898930629682,
          0.02455499252914128,
          0.0005717564288029558,
          0.00010643148211434859,
          0.024036596288537878,
          0.007422325487136567,
          0.0036983578914309917,
          0.00005961461059355692,
          0.022972237372681788,
          0.0019377230798395114,
          0.016433296659904263,
          0.0002267215273579593,
          0.000516685497783614,
          0.0001066821091422776,
          0.022243172364914802,
          0.0009903144957017463,
          0.0004893775249333507,
          0.02562562162931867,
          0.0004628233949719692,
          0.023535412452566743,
          0.0011232162455285146,
          0.02294507409010778,
          0.0007119727966492174,
          0.0001565914150357919,
          0.022734156648940695,
          0.0008705233654118937,
          0.00023327751526757594,
          0.02475243447136364,
          0.023923166342618634,
          0.018701262360273977,
          0.022948790435883264,
          0.001079338512481085,
          0.02434867148130515,
          0.02384109000794286,
          0.026258836441522687
         ]
        },
        {
         "marker": {
          "color": "green",
          "size": 10,
          "symbol": "circle"
         },
         "mode": "markers",
         "name": "Healthy",
         "type": "scatter3d",
         "x": [
          0.004757698665947375,
          0.002237335384521354,
          0.0018041641093889864,
          0.005706576082618345,
          0.0006147886558516637,
          0.005694063395982972,
          0.0012439764514792305,
          0.001606132583762162,
          0.0018463424545457038,
          0.0010357927512429546,
          0.0021137815345254976,
          0.006692250888870314,
          0.00011214131803975456,
          0.0024942429705960404,
          0.0000708080732244783,
          0.0011448946507174322,
          0.00848502692015514,
          0.004757928152624026,
          0.002116951703379363,
          0.004791115916849388,
          0.0009865786911486662,
          0.0027999677132577064,
          0.002455286061450706,
          0.004241898500232418,
          0.002927408081303603,
          0.0018100727564140217,
          0.0035214223573011992,
          0.002078185385525938,
          0.002084905189120847,
          0.004671983707427632,
          0.00013940394973928558,
          0.0026630230494966486,
          0.0022034205480406465,
          0.0006447990205306572,
          0.0011458245618311518,
          0.004886529647796914,
          0.000044366401902357763,
          0.01136644542786597,
          0.0051539276774970845,
          0.0004353904160729579,
          0.0020637615664333892,
          0.00570443346392412,
          0.0003958789485750647,
          0.0011113316137458084,
          0.003988232181883385,
          0.0023698358076732796,
          0.0007164472726360539,
          0.00018014518730881192,
          0.0035210706445941427,
          0.00004747969177661203,
          0.0005249885090021307,
          0.0026663442594680566,
          0.013712095017041835,
          0.004025750159816501,
          0.00625305179844826,
          0.0020990195758524475,
          0.0016327520851924851,
          0.001089067889124747,
          0.007594705795632886,
          0.0015797334681144607,
          0.006103531600687546,
          0.0035512955045971365,
          0.003962530254140509,
          0.002515580856811698,
          0.0051681720751899024,
          0.002116145430605129,
          0.004896982173567708,
          0.004238796693325158,
          0.0022123461575411117,
          0.012351688012867063,
          0.024472286501857426,
          0.00005586854509840982,
          0.0015396024052907618,
          0.00126467681733723,
          0.0018477864838193597,
          0.0028056152298414974,
          0.003143280963474286,
          0.009793494799803897,
          0.00009122260134403287,
          0.0006098761448624879,
          0.0029004215597523905,
          0.004684363515761171,
          0.0005741940738598487,
          0.009794191171247838,
          0.0020805521654723006,
          0.0006588381555311986,
          0.002061906607369498,
          0.007685889269000555,
          0.0009587361735305863,
          0.0023681465665053828,
          0.010610631765502556,
          0.002475128230444569,
          0.003951815194336065,
          0.00011218984500271845,
          0.0009740353013124603,
          0.00029144423970328817,
          0.0027385781828714382,
          0.0037888001217204047,
          0.0008996573654426941,
          0.0011584524843487156,
          0.00022538852292444656,
          0.002928244300904307,
          0.0037632425027659634,
          0.0017422903813194288,
          0.0028613012140316406,
          0.002421676088805343,
          0.0008580994586821612,
          0.007242665210941046,
          0.0003432468252445971,
          0.0012413979056261364,
          0.001566513476396689,
          0.0022362396426417,
          0.003654135029518108,
          0.01410649296649971,
          0.0025772900214811826,
          0.0024234536220153926,
          0.002119523620874546,
          0.011370817885041839,
          0.002496479387425155,
          0.020383707154316873,
          0.024470377874244643,
          0.0015641659031639544,
          0.00013944920188245288,
          0.0028362907354369566,
          0.0006931701000495385,
          0.0026534713599009867,
          0.00018241535117910764,
          0.008478947903157914,
          0.00006121887721523549,
          0.003326103789844087,
          0.0015791101438995714,
          0.0015387943727385692,
          0.019429423035777636,
          0.010948892858489405,
          0.0035553214425105245,
          0.0010964910909176003,
          0.000886929933481878,
          0.0020731327005231574,
          0.0024498407730171217,
          0.0007018653164971187,
          0.0005768535361018634,
          0.003642135775345186,
          0.003524680481118479,
          0.002182799058275086,
          0.012504301438283068,
          0.00047613524576280126,
          0.00721389316819575,
          0.007599210230713464,
          0.00007073949679593027,
          0.0037241786275709686,
          0.006101922003413431,
          0.006695533140195704,
          0.00005579858707996283,
          0.0008994863213166839,
          0.007083645370661028,
          0.029081801948538884,
          0.00044017071811401545,
          0.0002424121276618318,
          0.0010425352388789926,
          0.007652844512670811,
          0.0007338351667901898,
          0.001577602011253089,
          0.00044765573933695243,
          0.0015644656229700706,
          0.029075721023785098,
          0.002454762185799603,
          0.0017470955828308664,
          0.010611373399428168,
          0.0033062860199210235,
          0.002661710252409981,
          0.00036105730620294773,
          0.0004915528896646713,
          0.0002590631902124547,
          0.0005913119200308996,
          0.00658546657204298,
          0.00496217009721009,
          0.0037036091048992096,
          0.00007043751715869116,
          0.0007217249661086538,
          0.00005559916374396341,
          0.0008888473273730359,
          0.0003446248797551895,
          0.0006929846439560471,
          0.001113146027215742,
          0.002918122645832397,
          0.00044276757154872284,
          0.0001140049110613754,
          0.003726996737424645,
          0.00008793927827766286,
          0.003708980599181452,
          0.003517871379550641,
          0.013720280344839443,
          0.016193627473665335,
          0.004965308826483897,
          0.00028571154467954064,
          0.003146739214997379,
          0.0024796274296432536,
          0.004740987393611696,
          0.0016336636714154736,
          0.0062520887930015735,
          0.0020659447987974467,
          0.0026570766045244166,
          0.0001146894477586593,
          0.004225339827428855,
          0.0005911357742072264,
          0.0016045516077373143,
          0.0011590441613965232,
          0.0008614272160043526,
          0.004241684148833962,
          0.007596012911942644,
          0.012353737655342588,
          0.0006151954780661506,
          0.02037479844920072,
          0.0006081541091988175,
          0.0006636788008738161,
          0.0026652165103642064,
          0.002092005849472555,
          0.00022520917654236778,
          0.0021727784591161173,
          0.019418704468487858,
          0.005688917962808533,
          0.003975516255378496,
          0.0001489068871833227,
          0.00220631894872588,
          0.0001726547686314623,
          0.016191441043736567,
          0.0022073166089393564,
          0.00625297457610946,
          0.007079384181413596,
          0.010951590499591173,
          0.0027416510808883684,
          0.012502263465512916,
          0.014106631588163153,
          0.0001808847802221859,
          0.022478732328306796,
          0.0040286191191973774,
          0.00026078923747818467,
          0.00024061010326886434,
          0.0009871705138274195,
          0.0037873587953881752,
          0.0012554900350963836,
          0.002545656815362253,
          0.000763659961533238,
          0.0005243037215701568,
          0.00004150818742500026,
          0.0007701429410211923,
          0.0037691966570337905,
          0.00005548467900749773,
          0.006589031278773483,
          0.022483146552428012,
          0.002454857645276558,
          0.004790183509995284,
          0.006231788341500622,
          0.0007344406248905035,
          0.0007031456906359731,
          0.00007307193017116772,
          0.002064652313633837,
          0.0025063893856339015,
          0.000041493675634459645,
          0.004739569633657545,
          0.0001373503442302684,
          0.0006518229109547574,
          0.007596036538014238,
          0.00005952476167778893
         ],
         "y": [
          0.00007455742986857834,
          0.000911882894313903,
          0.001294643528914719,
          0.0050872535747446615,
          0.0019183751826591887,
          0.0015732665646817552,
          0.0017807678264252353,
          0.0025395094657993072,
          0.0015049276414417713,
          0.009005674932293133,
          0.000714199543694897,
          0.002691832353705394,
          0.0067783521112627565,
          0.0008700324447731561,
          0.004891490020595081,
          0.0004765225199616026,
          0.0007068823068880831,
          0.00007515738332742495,
          0.0002774171824369497,
          0.0019905708121359823,
          0.0008302253137905754,
          0.000769174003892205,
          0.0007619875066333698,
          0.0025295204704865876,
          0.0004624137998146824,
          0.0012888307213722572,
          0.0010981842989660584,
          0.0008388806268657533,
          0.0015766291683916905,
          0.007508661775662256,
          0.0006777000079751933,
          0.0022226588724716715,
          0.0007048409722901882,
          0.00214413070269883,
          0.00047544131502423907,
          0.0011896703194285772,
          0.0052953598679725015,
          0.0010821342018850254,
          0.006837881535137369,
          0.00039951915531336317,
          0.0019406522403814187,
          0.005077686346883043,
          0.001852908207729468,
          0.000045140895411299006,
          0.008233866511243746,
          0.0004576436731379476,
          0.005626569392856068,
          0.0004412213574209039,
          0.0004081976038453001,
          0.005294568399232542,
          0.0003387699897862766,
          0.0022243194797598666,
          0.00023980100430754777,
          0.001979440403492449,
          0.007598164256155327,
          0.0010456255032469037,
          0.0012086767030090003,
          0.0005072226269108916,
          0.0007734534550029935,
          0.00039205220688187854,
          0.006709733778753583,
          0.0034463639826472943,
          0.0005205550179038836,
          0.0016587314421754255,
          0.006825236238921548,
          0.0007110855534413004,
          0.0011986197976625221,
          0.03409776336895322,
          0.0007025948243101649,
          0.00021296636539864654,
          0.00209868862472515,
          0.012141819804518344,
          0.0023394227335535715,
          0.001881544081094537,
          0.0015039205259475797,
          0.0007633805900836729,
          0.0009647856149117681,
          0.0018924401829856325,
          0.000265842161212343,
          0.047556523417267786,
          0.0029080283145351987,
          0.00750164720286001,
          0.001493445233899693,
          0.0018933281529679772,
          0.0015798057529209312,
          0.0004681581705009736,
          0.0007694852474104025,
          0.004155160242869681,
          0.01088451156272048,
          0.0004599090997802696,
          0.0056971896605108145,
          0.006029667489493765,
          0.0004900358073562315,
          0.0067790191171668655,
          0.010873045912598205,
          0.0002965488445048999,
          0.0013523297299749793,
          0.0007122482200798668,
          0.0009355703061500535,
          0.008823870778712726,
          0.04256001229299882,
          0.0004621111503809306,
          0.001192802909930681,
          0.0001709875799826898,
          0.0030190062707949753,
          0.001691134635537549,
          0.0030954725428712217,
          0.0010794253720091624,
          0.00044988923609669935,
          0.0017822241261439323,
          0.0007997331531581978,
          0.00091232535766891,
          0.03102345513488329,
          0.0000830586549860044,
          0.006865723857545562,
          0.00168941271518359,
          0.0002710438856111981,
          0.001084519221757116,
          0.0008701822927710584,
          0.0006233678305069038,
          0.002098929216580751,
          0.0006059625880748232,
          0.00014046643735301628,
          0.0030197151156783576,
          0.0029029670466041184,
          0.0009417300502564942,
          0.00044241211791735377,
          0.0007072516251308666,
          0.003247745350344482,
          0.00931042492672038,
          0.0008016703967159655,
          0.002340207070337928,
          0.003029571520840824,
          0.0013926390755644132,
          0.00344658253147821,
          0.0005017697668714097,
          0.002124970498950475,
          0.0008437683820709715,
          0.0007579101706602373,
          0.000741582936307679,
          0.0014916937918656576,
          0.03102956919897801,
          0.00040733500917527056,
          0.0009638262501402773,
          0.0018793342339755593,
          0.0011633003917585348,
          0.0011086215006254382,
          0.0006064797360829608,
          0.004892250505304753,
          0.00269249006016301,
          0.006707691621285844,
          0.002688931357393034,
          0.01214369367484984,
          0.0009353752282697332,
          0.003969342978181988,
          0.0005081034631587812,
          0.00039458744190685985,
          0.0009264574540807477,
          0.008999994666857141,
          0.004188751926867053,
          0.0023868795603572764,
          0.00039376061938368686,
          0.0013247095014245658,
          0.0006051526441861012,
          0.000499504868583272,
          0.002688957288952004,
          0.00017561227317566163,
          0.005699415483489986,
          0.009331006319044986,
          0.0013520045449643525,
          0.00183139849735595,
          0.0011600743673979604,
          0.001124488371004614,
          0.002793631553570757,
          0.002647205401881519,
          0.0016672232688341219,
          0.006511930785780261,
          0.00014151489433455777,
          0.005621312716487794,
          0.00022503227465015492,
          0.002123440067718822,
          0.0004482065308636326,
          0.002903419524140288,
          0.00004698194342262837,
          0.002904502092331514,
          0.0013292642822838316,
          0.008645743935511003,
          0.002691019939410317,
          0.0002626546391874221,
          0.006535322645435376,
          0.0010909704308536923,
          0.00024464099873821373,
          0.011104165910417468,
          0.0016695229307928162,
          0.00027787397161913035,
          0.0009631993921334357,
          0.00602546865701983,
          0.001405172206136652,
          0.0012029788992421503,
          0.00759823958709394,
          0.0007651485413144975,
          0.0009453212054511381,
          0.008648248497859612,
          0.034106052738051076,
          0.0027933955286268864,
          0.002540511783253659,
          0.008824436722418333,
          0.003092992718452933,
          0.002529232874915921,
          0.000774987245117933,
          0.00021441719015261325,
          0.0019183026185873565,
          0.0006069382891415774,
          0.04755971104145888,
          0.0004635442469578831,
          0.0013518552617584935,
          0.001052051867939222,
          0.04255541890505297,
          0.0009661442161009484,
          0.0030415640431351414,
          0.001575242475017277,
          0.00824687551517606,
          0.00013566649775774423,
          0.0014953638760814537,
          0.00011514115476734263,
          0.01108874904702943,
          0.0014966078262592464,
          0.006154486635301321,
          0.0039727248517074055,
          0.0013896321742077333,
          0.0013491823792784166,
          0.001879979869353659,
          0.0000849937190646906,
          0.0001084173728919363,
          0.0003011291874427387,
          0.001982316845859289,
          0.0011215134867545685,
          0.00092513243436444,
          0.0008303205448481485,
          0.0007117538329738982,
          0.0018894616227023338,
          0.006891704434618391,
          0.007150112434673254,
          0.0003396959041356498,
          0.010941359614490992,
          0.007146515039340581,
          0.0011873765876424718,
          0.0002249281803848747,
          0.002642791058787848,
          0.000300141193411035,
          0.002688986342772577,
          0.001990271880761441,
          0.0061375407570598145,
          0.0023870752220262986,
          0.0007440188988528522,
          0.00014635122187300732,
          0.0019418624563214036,
          0.0016622523114969922,
          0.010940233112685858,
          0.0014070671582836348,
          0.0006851808794484653,
          0.0021441159472840787,
          0.0006027517279829944,
          0.0032496184964881524
         ],
         "z": [
          0.0001957997871124597,
          0.001077825485621982,
          0.0010802830006368628,
          0.007211931889215825,
          0.007402339714772821,
          0.004321337040296031,
          0.0006413281158475517,
          0.004484534668074268,
          0.0011981023062563425,
          0.0005646822317996046,
          0.0006595320701040427,
          0.002074883241949006,
          0.0005753570585780055,
          0.0027267937248026623,
          0.0002863063845330896,
          0.0005655759922396595,
          0.0018567533937856194,
          0.00019631898364096744,
          0.002245873745355505,
          0.010670849041061962,
          0.00035810089805994887,
          0.0004885979110726515,
          0.007911142577696853,
          0.007019849147087583,
          0.003454695483454742,
          0.0010849410720059594,
          0.0004956954446512841,
          0.0076134450453679845,
          0.0009189215660163655,
          0.0013597883889256521,
          0.000056937197073382685,
          0.002655975472688543,
          0.0001335167897735731,
          0.001690362847653477,
          0.0005644936022497604,
          0.0029586913807920076,
          0.00030435846142243413,
          0.0010708190813495109,
          0.005164850025562109,
          0.00004334297649687639,
          0.0006569445306822873,
          0.007218789019316948,
          0.00401524994807936,
          0.0004880519077969332,
          0.0024920510470060565,
          0.00253096594111727,
          0.0011475754878272194,
          0.0006867897660433847,
          0.0007629802852823284,
          0.00030754206862123104,
          0.0005937604512402872,
          0.0026511805363430415,
          0.0017522322928984625,
          0.0005029191327749746,
          0.001770601074960587,
          0.0005385661815640048,
          0.011170274289303169,
          0.00004375640479929042,
          0.004762719110381054,
          0.00027710578113217683,
          0.0007245080298020657,
          0.000815956885064152,
          0.0018952138881757037,
          0.002885461077541561,
          0.005162196274077762,
          0.0006576111393977055,
          0.0029556267108385393,
          0.0021292813152366703,
          0.00013601442204534423,
          0.00035145692669645594,
          0.002616491595026559,
          0.000050776515148372923,
          0.002768914059930468,
          0.0013662178795005593,
          0.0011970345605137563,
          0.0004903647255293978,
          0.00022399205177207651,
          0.0006069470160432276,
          0.0020095747165213467,
          0.0009282519290003276,
          0.0019477809717428226,
          0.0014018656443711228,
          0.0005881223000127067,
          0.0006105687402503692,
          0.0009157332200328445,
          0.00036727688989616477,
          0.001201170275482846,
          0.004971254959893587,
          0.0009957887203740463,
          0.0025275936961889752,
          0.0028992397560516814,
          0.00432101898214752,
          0.0018688773646798932,
          0.0005756690947012458,
          0.0009859311275766027,
          0.012259085258943602,
          0.0005189591733744894,
          0.00025790771116587774,
          0.009695980403797858,
          0.0005236634651064477,
          0.0007940746086172499,
          0.0034560025744942765,
          0.004967920398006143,
          0.0006612058540032938,
          0.0038295077950123136,
          0.0005978812434974299,
          0.00018603934940435916,
          0.002171687957699257,
          0.019524756048505672,
          0.0006320115409759855,
          0.005075907573801765,
          0.0010772540070904,
          0.0006587588774591934,
          0.000043911859377326564,
          0.0023937275007556024,
          0.0006002149411848255,
          0.0022504205262494107,
          0.0010736719604609645,
          0.0027244622045845034,
          0.00038744739969395634,
          0.0026163419078143175,
          0.0026123347607275383,
          0.00375424719208524,
          0.0038591773211136974,
          0.00005262849863819431,
          0.0008216283828705669,
          0.0006908502075024793,
          0.0018629793791359018,
          0.00032298794507032116,
          0.0006595027926098641,
          0.005068355175821308,
          0.0027671545038188776,
          0.001934497107459572,
          0.0007644351564395234,
          0.0008106160446315873,
          0.000048811271347887536,
          0.0006910563310564403,
          0.007611034759813842,
          0.007916044855948191,
          0.0004985907782335652,
          0.0005920733658784338,
          0.0006638539511244439,
          0.0007678275531405215,
          0.0023193578063008596,
          0.00024430762056317634,
          0.0010511020351202402,
          0.0021899995496227464,
          0.000383141292270638,
          0.000286521790158323,
          0.002002806898218882,
          0.0007253767751119157,
          0.0020780678747012236,
          0.00005018966204953471,
          0.009693045560027199,
          0.00509010722318402,
          0.0012841316413302539,
          0.000039103780296859795,
          0.005901089558747663,
          0.0005601822449611444,
          0.004935855564351172,
          0.0011865342569708978,
          0.00027561369670221785,
          0.0010754840389638758,
          0.002616951006347498,
          0.0012922315543583735,
          0.0025224926350185185,
          0.0006567099584812535,
          0.0029015307089995607,
          0.0006505495454205711,
          0.0003415813853626547,
          0.003992153004659742,
          0.001032048805749432,
          0.01101361770998154,
          0.009111306199145217,
          0.0015778028724039335,
          0.012725528753502028,
          0.0015188066796113994,
          0.004217845371495467,
          0.0011405649658567396,
          0.010595540637618603,
          0.0006898858560105561,
          0.019518007504353254,
          0.00005243245139624978,
          0.0004866890152959284,
          0.0019651781034650687,
          0.00107514961433537,
          0.0005306420309377601,
          0.002005366427059665,
          0.002013095810972498,
          0.0014987696210942117,
          0.0005002961690476561,
          0.0017447510835108776,
          0.01624574054705074,
          0.012717359930904537,
          0.012241832969503047,
          0.00023095754967998556,
          0.004322325831648985,
          0.007661761800151982,
          0.011171488490725481,
          0.0017695848972503257,
          0.0011945689291507414,
          0.0008176077856120421,
          0.0005278720828826706,
          0.002141809483003057,
          0.009108356908089818,
          0.004481413310152926,
          0.0005239982933662558,
          0.00018726508053642027,
          0.007017632203497316,
          0.0047638076371883924,
          0.0003509301573734749,
          0.007405655201633923,
          0.00036595095774027666,
          0.0009306982075647349,
          0.0003625558096724667,
          0.00033932052689711887,
          0.0005364619539961248,
          0.0007941429611986603,
          0.0023231260020468176,
          0.001932590196649269,
          0.004329841337071319,
          0.0024809929496064113,
          0.0037519398517867346,
          0.0010509912251574255,
          0.00022155811401020463,
          0.016230602711576527,
          0.0010512579398892028,
          0.0035489204980103687,
          0.005092509007883717,
          0.000766590866185434,
          0.0005155285739476493,
          0.00023833506020889635,
          0.00004139928024894938,
          0.0002292613076597588,
          0.0005096216996904027,
          0.0005022845077648513,
          0.011007286789112284,
          0.005901063511771128,
          0.0003584765594716181,
          0.000257323736266737,
          0.0013780610964307166,
          0.0024291859262138248,
          0.00368218871326778,
          0.0005926336688307404,
          0.00015224992568637158,
          0.0036702129487304865,
          0.004966373598401085,
          0.010599016032597627,
          0.0015816579573491969,
          0.0005123482777361861,
          0.0025231819223796616,
          0.010670848944174622,
          0.0035545361696855183,
          0.0011873068227112058,
          0.0004996885414005291,
          0.0042135924879782155,
          0.0006543088053029405,
          0.0028963938258299254,
          0.00015163827961637544,
          0.007661883217255995,
          0.00006581880516333885,
          0.0016973501652832834,
          0.0003860860531655874,
          0.0003240207367403777
         ]
        }
       ],
       "layout": {
        "height": 600,
        "scene": {
         "xaxis": {
          "title": {
           "text": "8"
          }
         },
         "yaxis": {
          "title": {
           "text": "12"
          }
         },
         "zaxis": {
          "title": {
           "text": "20"
          }
         }
        },
        "showlegend": true,
        "template": {
         "data": {
          "bar": [
           {
            "error_x": {
             "color": "#2a3f5f"
            },
            "error_y": {
             "color": "#2a3f5f"
            },
            "marker": {
             "line": {
              "color": "#E5ECF6",
              "width": 0.5
             },
             "pattern": {
              "fillmode": "overlay",
              "size": 10,
              "solidity": 0.2
             }
            },
            "type": "bar"
           }
          ],
          "barpolar": [
           {
            "marker": {
             "line": {
              "color": "#E5ECF6",
              "width": 0.5
             },
             "pattern": {
              "fillmode": "overlay",
              "size": 10,
              "solidity": 0.2
             }
            },
            "type": "barpolar"
           }
          ],
          "carpet": [
           {
            "aaxis": {
             "endlinecolor": "#2a3f5f",
             "gridcolor": "white",
             "linecolor": "white",
             "minorgridcolor": "white",
             "startlinecolor": "#2a3f5f"
            },
            "baxis": {
             "endlinecolor": "#2a3f5f",
             "gridcolor": "white",
             "linecolor": "white",
             "minorgridcolor": "white",
             "startlinecolor": "#2a3f5f"
            },
            "type": "carpet"
           }
          ],
          "choropleth": [
           {
            "colorbar": {
             "outlinewidth": 0,
             "ticks": ""
            },
            "type": "choropleth"
           }
          ],
          "contour": [
           {
            "colorbar": {
             "outlinewidth": 0,
             "ticks": ""
            },
            "colorscale": [
             [
              0,
              "#0d0887"
             ],
             [
              0.1111111111111111,
              "#46039f"
             ],
             [
              0.2222222222222222,
              "#7201a8"
             ],
             [
              0.3333333333333333,
              "#9c179e"
             ],
             [
              0.4444444444444444,
              "#bd3786"
             ],
             [
              0.5555555555555556,
              "#d8576b"
             ],
             [
              0.6666666666666666,
              "#ed7953"
             ],
             [
              0.7777777777777778,
              "#fb9f3a"
             ],
             [
              0.8888888888888888,
              "#fdca26"
             ],
             [
              1,
              "#f0f921"
             ]
            ],
            "type": "contour"
           }
          ],
          "contourcarpet": [
           {
            "colorbar": {
             "outlinewidth": 0,
             "ticks": ""
            },
            "type": "contourcarpet"
           }
          ],
          "heatmap": [
           {
            "colorbar": {
             "outlinewidth": 0,
             "ticks": ""
            },
            "colorscale": [
             [
              0,
              "#0d0887"
             ],
             [
              0.1111111111111111,
              "#46039f"
             ],
             [
              0.2222222222222222,
              "#7201a8"
             ],
             [
              0.3333333333333333,
              "#9c179e"
             ],
             [
              0.4444444444444444,
              "#bd3786"
             ],
             [
              0.5555555555555556,
              "#d8576b"
             ],
             [
              0.6666666666666666,
              "#ed7953"
             ],
             [
              0.7777777777777778,
              "#fb9f3a"
             ],
             [
              0.8888888888888888,
              "#fdca26"
             ],
             [
              1,
              "#f0f921"
             ]
            ],
            "type": "heatmap"
           }
          ],
          "heatmapgl": [
           {
            "colorbar": {
             "outlinewidth": 0,
             "ticks": ""
            },
            "colorscale": [
             [
              0,
              "#0d0887"
             ],
             [
              0.1111111111111111,
              "#46039f"
             ],
             [
              0.2222222222222222,
              "#7201a8"
             ],
             [
              0.3333333333333333,
              "#9c179e"
             ],
             [
              0.4444444444444444,
              "#bd3786"
             ],
             [
              0.5555555555555556,
              "#d8576b"
             ],
             [
              0.6666666666666666,
              "#ed7953"
             ],
             [
              0.7777777777777778,
              "#fb9f3a"
             ],
             [
              0.8888888888888888,
              "#fdca26"
             ],
             [
              1,
              "#f0f921"
             ]
            ],
            "type": "heatmapgl"
           }
          ],
          "histogram": [
           {
            "marker": {
             "pattern": {
              "fillmode": "overlay",
              "size": 10,
              "solidity": 0.2
             }
            },
            "type": "histogram"
           }
          ],
          "histogram2d": [
           {
            "colorbar": {
             "outlinewidth": 0,
             "ticks": ""
            },
            "colorscale": [
             [
              0,
              "#0d0887"
             ],
             [
              0.1111111111111111,
              "#46039f"
             ],
             [
              0.2222222222222222,
              "#7201a8"
             ],
             [
              0.3333333333333333,
              "#9c179e"
             ],
             [
              0.4444444444444444,
              "#bd3786"
             ],
             [
              0.5555555555555556,
              "#d8576b"
             ],
             [
              0.6666666666666666,
              "#ed7953"
             ],
             [
              0.7777777777777778,
              "#fb9f3a"
             ],
             [
              0.8888888888888888,
              "#fdca26"
             ],
             [
              1,
              "#f0f921"
             ]
            ],
            "type": "histogram2d"
           }
          ],
          "histogram2dcontour": [
           {
            "colorbar": {
             "outlinewidth": 0,
             "ticks": ""
            },
            "colorscale": [
             [
              0,
              "#0d0887"
             ],
             [
              0.1111111111111111,
              "#46039f"
             ],
             [
              0.2222222222222222,
              "#7201a8"
             ],
             [
              0.3333333333333333,
              "#9c179e"
             ],
             [
              0.4444444444444444,
              "#bd3786"
             ],
             [
              0.5555555555555556,
              "#d8576b"
             ],
             [
              0.6666666666666666,
              "#ed7953"
             ],
             [
              0.7777777777777778,
              "#fb9f3a"
             ],
             [
              0.8888888888888888,
              "#fdca26"
             ],
             [
              1,
              "#f0f921"
             ]
            ],
            "type": "histogram2dcontour"
           }
          ],
          "mesh3d": [
           {
            "colorbar": {
             "outlinewidth": 0,
             "ticks": ""
            },
            "type": "mesh3d"
           }
          ],
          "parcoords": [
           {
            "line": {
             "colorbar": {
              "outlinewidth": 0,
              "ticks": ""
             }
            },
            "type": "parcoords"
           }
          ],
          "pie": [
           {
            "automargin": true,
            "type": "pie"
           }
          ],
          "scatter": [
           {
            "fillpattern": {
             "fillmode": "overlay",
             "size": 10,
             "solidity": 0.2
            },
            "type": "scatter"
           }
          ],
          "scatter3d": [
           {
            "line": {
             "colorbar": {
              "outlinewidth": 0,
              "ticks": ""
             }
            },
            "marker": {
             "colorbar": {
              "outlinewidth": 0,
              "ticks": ""
             }
            },
            "type": "scatter3d"
           }
          ],
          "scattercarpet": [
           {
            "marker": {
             "colorbar": {
              "outlinewidth": 0,
              "ticks": ""
             }
            },
            "type": "scattercarpet"
           }
          ],
          "scattergeo": [
           {
            "marker": {
             "colorbar": {
              "outlinewidth": 0,
              "ticks": ""
             }
            },
            "type": "scattergeo"
           }
          ],
          "scattergl": [
           {
            "marker": {
             "colorbar": {
              "outlinewidth": 0,
              "ticks": ""
             }
            },
            "type": "scattergl"
           }
          ],
          "scattermapbox": [
           {
            "marker": {
             "colorbar": {
              "outlinewidth": 0,
              "ticks": ""
             }
            },
            "type": "scattermapbox"
           }
          ],
          "scatterpolar": [
           {
            "marker": {
             "colorbar": {
              "outlinewidth": 0,
              "ticks": ""
             }
            },
            "type": "scatterpolar"
           }
          ],
          "scatterpolargl": [
           {
            "marker": {
             "colorbar": {
              "outlinewidth": 0,
              "ticks": ""
             }
            },
            "type": "scatterpolargl"
           }
          ],
          "scatterternary": [
           {
            "marker": {
             "colorbar": {
              "outlinewidth": 0,
              "ticks": ""
             }
            },
            "type": "scatterternary"
           }
          ],
          "surface": [
           {
            "colorbar": {
             "outlinewidth": 0,
             "ticks": ""
            },
            "colorscale": [
             [
              0,
              "#0d0887"
             ],
             [
              0.1111111111111111,
              "#46039f"
             ],
             [
              0.2222222222222222,
              "#7201a8"
             ],
             [
              0.3333333333333333,
              "#9c179e"
             ],
             [
              0.4444444444444444,
              "#bd3786"
             ],
             [
              0.5555555555555556,
              "#d8576b"
             ],
             [
              0.6666666666666666,
              "#ed7953"
             ],
             [
              0.7777777777777778,
              "#fb9f3a"
             ],
             [
              0.8888888888888888,
              "#fdca26"
             ],
             [
              1,
              "#f0f921"
             ]
            ],
            "type": "surface"
           }
          ],
          "table": [
           {
            "cells": {
             "fill": {
              "color": "#EBF0F8"
             },
             "line": {
              "color": "white"
             }
            },
            "header": {
             "fill": {
              "color": "#C8D4E3"
             },
             "line": {
              "color": "white"
             }
            },
            "type": "table"
           }
          ]
         },
         "layout": {
          "annotationdefaults": {
           "arrowcolor": "#2a3f5f",
           "arrowhead": 0,
           "arrowwidth": 1
          },
          "autotypenumbers": "strict",
          "coloraxis": {
           "colorbar": {
            "outlinewidth": 0,
            "ticks": ""
           }
          },
          "colorscale": {
           "diverging": [
            [
             0,
             "#8e0152"
            ],
            [
             0.1,
             "#c51b7d"
            ],
            [
             0.2,
             "#de77ae"
            ],
            [
             0.3,
             "#f1b6da"
            ],
            [
             0.4,
             "#fde0ef"
            ],
            [
             0.5,
             "#f7f7f7"
            ],
            [
             0.6,
             "#e6f5d0"
            ],
            [
             0.7,
             "#b8e186"
            ],
            [
             0.8,
             "#7fbc41"
            ],
            [
             0.9,
             "#4d9221"
            ],
            [
             1,
             "#276419"
            ]
           ],
           "sequential": [
            [
             0,
             "#0d0887"
            ],
            [
             0.1111111111111111,
             "#46039f"
            ],
            [
             0.2222222222222222,
             "#7201a8"
            ],
            [
             0.3333333333333333,
             "#9c179e"
            ],
            [
             0.4444444444444444,
             "#bd3786"
            ],
            [
             0.5555555555555556,
             "#d8576b"
            ],
            [
             0.6666666666666666,
             "#ed7953"
            ],
            [
             0.7777777777777778,
             "#fb9f3a"
            ],
            [
             0.8888888888888888,
             "#fdca26"
            ],
            [
             1,
             "#f0f921"
            ]
           ],
           "sequentialminus": [
            [
             0,
             "#0d0887"
            ],
            [
             0.1111111111111111,
             "#46039f"
            ],
            [
             0.2222222222222222,
             "#7201a8"
            ],
            [
             0.3333333333333333,
             "#9c179e"
            ],
            [
             0.4444444444444444,
             "#bd3786"
            ],
            [
             0.5555555555555556,
             "#d8576b"
            ],
            [
             0.6666666666666666,
             "#ed7953"
            ],
            [
             0.7777777777777778,
             "#fb9f3a"
            ],
            [
             0.8888888888888888,
             "#fdca26"
            ],
            [
             1,
             "#f0f921"
            ]
           ]
          },
          "colorway": [
           "#636efa",
           "#EF553B",
           "#00cc96",
           "#ab63fa",
           "#FFA15A",
           "#19d3f3",
           "#FF6692",
           "#B6E880",
           "#FF97FF",
           "#FECB52"
          ],
          "font": {
           "color": "#2a3f5f"
          },
          "geo": {
           "bgcolor": "white",
           "lakecolor": "white",
           "landcolor": "#E5ECF6",
           "showlakes": true,
           "showland": true,
           "subunitcolor": "white"
          },
          "hoverlabel": {
           "align": "left"
          },
          "hovermode": "closest",
          "mapbox": {
           "style": "light"
          },
          "paper_bgcolor": "white",
          "plot_bgcolor": "#E5ECF6",
          "polar": {
           "angularaxis": {
            "gridcolor": "white",
            "linecolor": "white",
            "ticks": ""
           },
           "bgcolor": "#E5ECF6",
           "radialaxis": {
            "gridcolor": "white",
            "linecolor": "white",
            "ticks": ""
           }
          },
          "scene": {
           "xaxis": {
            "backgroundcolor": "#E5ECF6",
            "gridcolor": "white",
            "gridwidth": 2,
            "linecolor": "white",
            "showbackground": true,
            "ticks": "",
            "zerolinecolor": "white"
           },
           "yaxis": {
            "backgroundcolor": "#E5ECF6",
            "gridcolor": "white",
            "gridwidth": 2,
            "linecolor": "white",
            "showbackground": true,
            "ticks": "",
            "zerolinecolor": "white"
           },
           "zaxis": {
            "backgroundcolor": "#E5ECF6",
            "gridcolor": "white",
            "gridwidth": 2,
            "linecolor": "white",
            "showbackground": true,
            "ticks": "",
            "zerolinecolor": "white"
           }
          },
          "shapedefaults": {
           "line": {
            "color": "#2a3f5f"
           }
          },
          "ternary": {
           "aaxis": {
            "gridcolor": "white",
            "linecolor": "white",
            "ticks": ""
           },
           "baxis": {
            "gridcolor": "white",
            "linecolor": "white",
            "ticks": ""
           },
           "bgcolor": "#E5ECF6",
           "caxis": {
            "gridcolor": "white",
            "linecolor": "white",
            "ticks": ""
           }
          },
          "title": {
           "x": 0.05
          },
          "xaxis": {
           "automargin": true,
           "gridcolor": "white",
           "linecolor": "white",
           "ticks": "",
           "title": {
            "standoff": 15
           },
           "zerolinecolor": "white",
           "zerolinewidth": 2
          },
          "yaxis": {
           "automargin": true,
           "gridcolor": "white",
           "linecolor": "white",
           "ticks": "",
           "title": {
            "standoff": 15
           },
           "zerolinecolor": "white",
           "zerolinewidth": 2
          }
         }
        },
        "title": {
         "text": "Healthy vs Unhealthy"
        },
        "width": 800
       }
      }
     },
     "metadata": {},
     "output_type": "display_data"
    }
   ],
   "source": [
    "cluster0 = go.Scatter3d(\n",
    "    x=data[data['Healthy']==0][8],\n",
    "    y=data[data['Healthy']==0][12],\n",
    "    z=data[data['Healthy']==0][20],\n",
    "    mode='markers',\n",
    "    marker=dict(\n",
    "        color='red',  \n",
    "        size=10,\n",
    "        symbol='circle'\n",
    "    ),\n",
    "    name='Unhealthy'  \n",
    ")\n",
    "\n",
    "cluster1 = go.Scatter3d(\n",
    "    x=data[data['Healthy']==1][8],\n",
    "    y=data[data['Healthy']==1][12],\n",
    "    z=data[data['Healthy']==1][20],\n",
    "    mode='markers',\n",
    "    marker=dict(\n",
    "        color='green',  \n",
    "        size=10,\n",
    "        symbol='circle'\n",
    "    ),\n",
    "    name='Healthy'  \n",
    ")\n",
    "\n",
    "fig = go.Figure()\n",
    "fig.add_trace(cluster0)\n",
    "fig.add_trace(cluster1)\n",
    "\n",
    "fig.update_layout(\n",
    "    title='Healthy vs Unhealthy',\n",
    "    scene=dict(\n",
    "        xaxis=dict(title='8'),\n",
    "        yaxis=dict(title='12'),\n",
    "        zaxis=dict(title='20')\n",
    "    ),\n",
    "    showlegend=True,  \n",
    "    width=800, \n",
    "    height=600\n",
    ")\n",
    "\n",
    "fig.show()"
   ]
  },
  {
   "cell_type": "code",
   "execution_count": null,
   "metadata": {},
   "outputs": [],
   "source": []
  }
 ],
 "metadata": {
  "kernelspec": {
   "display_name": "Python 3",
   "language": "python",
   "name": "python3"
  },
  "language_info": {
   "codemirror_mode": {
    "name": "ipython",
    "version": 3
   },
   "file_extension": ".py",
   "mimetype": "text/x-python",
   "name": "python",
   "nbconvert_exporter": "python",
   "pygments_lexer": "ipython3",
   "version": "3.12.1"
  }
 },
 "nbformat": 4,
 "nbformat_minor": 2
}
